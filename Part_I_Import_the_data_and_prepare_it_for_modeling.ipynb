{
 "cells": [
  {
   "cell_type": "markdown",
   "id": "759119d9-092a-4a4e-8a04-01f7657a36dd",
   "metadata": {},
   "source": [
    "## Part I - Import the data and prepare it for modelling"
   ]
  },
  {
   "cell_type": "markdown",
   "id": "7a0f173d-4ee5-4158-8565-e7c9c05d04ee",
   "metadata": {},
   "source": [
    "####  Required Python libraries"
   ]
  },
  {
   "cell_type": "code",
   "execution_count": 1,
   "id": "4e268161-b0ec-4e8c-ab43-e6d6526941a6",
   "metadata": {},
   "outputs": [],
   "source": [
    "import numpy as np\n",
    "import pandas as pd\n",
    "import matplotlib\n",
    "import matplotlib.pyplot as plt\n",
    "import seaborn as sns\n",
    "%matplotlib inline"
   ]
  },
  {
   "cell_type": "code",
   "execution_count": 2,
   "id": "351ae658-5c3d-4a93-ad5c-905911650e3f",
   "metadata": {},
   "outputs": [
    {
     "name": "stdout",
     "output_type": "stream",
     "text": [
      "Requirement already satisfied: ipynb in d:\\x-20a\\anaconda3\\lib\\site-packages (0.5.1)\n"
     ]
    }
   ],
   "source": [
    "# Importing an ipynb file from another ipynb file\n",
    "!pip install ipynb"
   ]
  },
  {
   "cell_type": "code",
   "execution_count": 3,
   "id": "a69ba25b-1291-495e-89f3-dc8f2adc54dd",
   "metadata": {},
   "outputs": [
    {
     "name": "stdout",
     "output_type": "stream",
     "text": [
      "Requirement already satisfied: nbimporter in d:\\x-20a\\anaconda3\\lib\\site-packages (0.3.4)\n"
     ]
    }
   ],
   "source": [
    "# Importing functions from another jupyter notebook\n",
    "!pip install nbimporter"
   ]
  },
  {
   "cell_type": "code",
   "execution_count": 4,
   "id": "e628ba20-96e1-4f78-af72-ec2aead124a9",
   "metadata": {},
   "outputs": [
    {
     "name": "stdout",
     "output_type": "stream",
     "text": [
      "Setting global variables...\n"
     ]
    }
   ],
   "source": [
    "%run GlobalConfig.ipynb"
   ]
  },
  {
   "cell_type": "markdown",
   "id": "71a9bdd1-86fc-4eb2-be10-ce9215023f34",
   "metadata": {},
   "source": [
    "#### Load the Data"
   ]
  },
  {
   "cell_type": "code",
   "execution_count": 5,
   "id": "4d5bb376-847c-43b8-ae90-f3f81a97cd35",
   "metadata": {},
   "outputs": [],
   "source": [
    "# for the initial loading of data, do not used the loader.\n",
    "df = pd.read_csv(DATASET_GITHUB_URL)"
   ]
  },
  {
   "cell_type": "markdown",
   "id": "366d900c-27e7-4dca-909d-a674fa89a6f8",
   "metadata": {},
   "source": [
    "#### Explore the data"
   ]
  },
  {
   "cell_type": "code",
   "execution_count": 6,
   "id": "e0feb588-a25f-4bc3-ac87-5cbf90ef45f1",
   "metadata": {},
   "outputs": [
    {
     "name": "stdout",
     "output_type": "stream",
     "text": [
      "<class 'pandas.core.frame.DataFrame'>\n",
      "RangeIndex: 36707 entries, 0 to 36706\n",
      "Data columns (total 80 columns):\n",
      " #   Column                           Non-Null Count  Dtype  \n",
      "---  ------                           --------------  -----  \n",
      " 0   Querylength                      36707 non-null  int64  \n",
      " 1   domain_token_count               36707 non-null  int64  \n",
      " 2   path_token_count                 36707 non-null  int64  \n",
      " 3   avgdomaintokenlen                36707 non-null  float64\n",
      " 4   longdomaintokenlen               36707 non-null  int64  \n",
      " 5   avgpathtokenlen                  36427 non-null  float64\n",
      " 6   tld                              36707 non-null  int64  \n",
      " 7   charcompvowels                   36707 non-null  int64  \n",
      " 8   charcompace                      36707 non-null  int64  \n",
      " 9   ldl_url                          36707 non-null  int64  \n",
      " 10  ldl_domain                       36707 non-null  int64  \n",
      " 11  ldl_path                         36707 non-null  int64  \n",
      " 12  ldl_filename                     36707 non-null  int64  \n",
      " 13  ldl_getArg                       36707 non-null  int64  \n",
      " 14  dld_url                          36707 non-null  int64  \n",
      " 15  dld_domain                       36707 non-null  int64  \n",
      " 16  dld_path                         36707 non-null  int64  \n",
      " 17  dld_filename                     36707 non-null  int64  \n",
      " 18  dld_getArg                       36707 non-null  int64  \n",
      " 19  urlLen                           36707 non-null  int64  \n",
      " 20  domainlength                     36707 non-null  int64  \n",
      " 21  pathLength                       36707 non-null  int64  \n",
      " 22  subDirLen                        36707 non-null  int64  \n",
      " 23  fileNameLen                      36707 non-null  int64  \n",
      " 24  this.fileExtLen                  36707 non-null  int64  \n",
      " 25  ArgLen                           36707 non-null  int64  \n",
      " 26  pathurlRatio                     36707 non-null  float64\n",
      " 27  ArgUrlRatio                      36707 non-null  float64\n",
      " 28  argDomanRatio                    36707 non-null  float64\n",
      " 29  domainUrlRatio                   36707 non-null  float64\n",
      " 30  pathDomainRatio                  36707 non-null  float64\n",
      " 31  argPathRatio                     36707 non-null  float64\n",
      " 32  executable                       36707 non-null  int64  \n",
      " 33  isPortEighty                     36707 non-null  int64  \n",
      " 34  NumberofDotsinURL                36707 non-null  int64  \n",
      " 35  ISIpAddressInDomainName          36707 non-null  int64  \n",
      " 36  CharacterContinuityRate          36707 non-null  float64\n",
      " 37  LongestVariableValue             36707 non-null  int64  \n",
      " 38  URL_DigitCount                   36707 non-null  int64  \n",
      " 39  host_DigitCount                  36707 non-null  int64  \n",
      " 40  Directory_DigitCount             36707 non-null  int64  \n",
      " 41  File_name_DigitCount             36707 non-null  int64  \n",
      " 42  Extension_DigitCount             36707 non-null  int64  \n",
      " 43  Query_DigitCount                 36707 non-null  int64  \n",
      " 44  URL_Letter_Count                 36707 non-null  int64  \n",
      " 45  host_letter_count                36707 non-null  int64  \n",
      " 46  Directory_LetterCount            36707 non-null  int64  \n",
      " 47  Filename_LetterCount             36707 non-null  int64  \n",
      " 48  Extension_LetterCount            36707 non-null  int64  \n",
      " 49  Query_LetterCount                36707 non-null  int64  \n",
      " 50  LongestPathTokenLength           36707 non-null  int64  \n",
      " 51  Domain_LongestWordLength         36707 non-null  int64  \n",
      " 52  Path_LongestWordLength           36707 non-null  int64  \n",
      " 53  sub-Directory_LongestWordLength  36707 non-null  int64  \n",
      " 54  Arguments_LongestWordLength      36707 non-null  int64  \n",
      " 55  URL_sensitiveWord                36707 non-null  int64  \n",
      " 56  URLQueries_variable              36707 non-null  int64  \n",
      " 57  spcharUrl                        36707 non-null  int64  \n",
      " 58  delimeter_Domain                 36707 non-null  int64  \n",
      " 59  delimeter_path                   36707 non-null  int64  \n",
      " 60  delimeter_Count                  36707 non-null  int64  \n",
      " 61  NumberRate_URL                   36707 non-null  float64\n",
      " 62  NumberRate_Domain                36707 non-null  float64\n",
      " 63  NumberRate_DirectoryName         36697 non-null  float64\n",
      " 64  NumberRate_FileName              36697 non-null  float64\n",
      " 65  NumberRate_Extension             26577 non-null  float64\n",
      " 66  NumberRate_AfterPath             36704 non-null  float64\n",
      " 67  SymbolCount_URL                  36707 non-null  int64  \n",
      " 68  SymbolCount_Domain               36707 non-null  int64  \n",
      " 69  SymbolCount_Directoryname        36707 non-null  int64  \n",
      " 70  SymbolCount_FileName             36707 non-null  int64  \n",
      " 71  SymbolCount_Extension            36707 non-null  int64  \n",
      " 72  SymbolCount_Afterpath            36707 non-null  int64  \n",
      " 73  Entropy_URL                      36707 non-null  float64\n",
      " 74  Entropy_Domain                   36707 non-null  float64\n",
      " 75  Entropy_DirectoryName            28239 non-null  float64\n",
      " 76  Entropy_Filename                 36471 non-null  float64\n",
      " 77  Entropy_Extension                36667 non-null  float64\n",
      " 78  Entropy_Afterpath                36701 non-null  float64\n",
      " 79  URL_Type_obf_Type                36707 non-null  object \n",
      "dtypes: float64(21), int64(58), object(1)\n",
      "memory usage: 22.4+ MB\n"
     ]
    }
   ],
   "source": [
    "df.info()"
   ]
  },
  {
   "cell_type": "code",
   "execution_count": 7,
   "id": "f16ef02e-b70a-4073-935e-9e9800fc5196",
   "metadata": {},
   "outputs": [
    {
     "data": {
      "text/html": [
       "<div>\n",
       "<style scoped>\n",
       "    .dataframe tbody tr th:only-of-type {\n",
       "        vertical-align: middle;\n",
       "    }\n",
       "\n",
       "    .dataframe tbody tr th {\n",
       "        vertical-align: top;\n",
       "    }\n",
       "\n",
       "    .dataframe thead th {\n",
       "        text-align: right;\n",
       "    }\n",
       "</style>\n",
       "<table border=\"1\" class=\"dataframe\">\n",
       "  <thead>\n",
       "    <tr style=\"text-align: right;\">\n",
       "      <th></th>\n",
       "      <th>Querylength</th>\n",
       "      <th>domain_token_count</th>\n",
       "      <th>path_token_count</th>\n",
       "      <th>avgdomaintokenlen</th>\n",
       "      <th>longdomaintokenlen</th>\n",
       "      <th>avgpathtokenlen</th>\n",
       "      <th>tld</th>\n",
       "      <th>charcompvowels</th>\n",
       "      <th>charcompace</th>\n",
       "      <th>ldl_url</th>\n",
       "      <th>...</th>\n",
       "      <th>SymbolCount_Directoryname</th>\n",
       "      <th>SymbolCount_FileName</th>\n",
       "      <th>SymbolCount_Extension</th>\n",
       "      <th>SymbolCount_Afterpath</th>\n",
       "      <th>Entropy_URL</th>\n",
       "      <th>Entropy_Domain</th>\n",
       "      <th>Entropy_DirectoryName</th>\n",
       "      <th>Entropy_Filename</th>\n",
       "      <th>Entropy_Extension</th>\n",
       "      <th>Entropy_Afterpath</th>\n",
       "    </tr>\n",
       "  </thead>\n",
       "  <tbody>\n",
       "    <tr>\n",
       "      <th>count</th>\n",
       "      <td>36707.000000</td>\n",
       "      <td>36707.000000</td>\n",
       "      <td>36707.000000</td>\n",
       "      <td>36707.000000</td>\n",
       "      <td>36707.000000</td>\n",
       "      <td>36427.000000</td>\n",
       "      <td>36707.000000</td>\n",
       "      <td>36707.000000</td>\n",
       "      <td>36707.000000</td>\n",
       "      <td>36707.000000</td>\n",
       "      <td>...</td>\n",
       "      <td>36707.000000</td>\n",
       "      <td>36707.000000</td>\n",
       "      <td>36707.000000</td>\n",
       "      <td>36707.000000</td>\n",
       "      <td>36707.000000</td>\n",
       "      <td>36707.000000</td>\n",
       "      <td>28239.000000</td>\n",
       "      <td>36471.000000</td>\n",
       "      <td>36667.000000</td>\n",
       "      <td>36701.000000</td>\n",
       "    </tr>\n",
       "    <tr>\n",
       "      <th>mean</th>\n",
       "      <td>21.908110</td>\n",
       "      <td>2.857439</td>\n",
       "      <td>8.954668</td>\n",
       "      <td>5.401719</td>\n",
       "      <td>9.746016</td>\n",
       "      <td>4.556261</td>\n",
       "      <td>2.857439</td>\n",
       "      <td>14.976517</td>\n",
       "      <td>10.216117</td>\n",
       "      <td>3.363909</td>\n",
       "      <td>...</td>\n",
       "      <td>1.727545</td>\n",
       "      <td>3.600049</td>\n",
       "      <td>2.685237</td>\n",
       "      <td>1.903261</td>\n",
       "      <td>0.722350</td>\n",
       "      <td>0.842443</td>\n",
       "      <td>0.677459</td>\n",
       "      <td>0.715834</td>\n",
       "      <td>0.508212</td>\n",
       "      <td>-0.208900</td>\n",
       "    </tr>\n",
       "    <tr>\n",
       "      <th>std</th>\n",
       "      <td>94.280669</td>\n",
       "      <td>0.906562</td>\n",
       "      <td>4.278406</td>\n",
       "      <td>1.986858</td>\n",
       "      <td>4.856580</td>\n",
       "      <td>2.839388</td>\n",
       "      <td>0.906562</td>\n",
       "      <td>13.351315</td>\n",
       "      <td>10.845807</td>\n",
       "      <td>13.447289</td>\n",
       "      <td>...</td>\n",
       "      <td>2.719231</td>\n",
       "      <td>4.783213</td>\n",
       "      <td>4.557171</td>\n",
       "      <td>4.512421</td>\n",
       "      <td>0.048820</td>\n",
       "      <td>0.066251</td>\n",
       "      <td>0.450683</td>\n",
       "      <td>0.411712</td>\n",
       "      <td>0.519695</td>\n",
       "      <td>0.891581</td>\n",
       "    </tr>\n",
       "    <tr>\n",
       "      <th>min</th>\n",
       "      <td>0.000000</td>\n",
       "      <td>2.000000</td>\n",
       "      <td>0.000000</td>\n",
       "      <td>1.500000</td>\n",
       "      <td>2.000000</td>\n",
       "      <td>0.000000</td>\n",
       "      <td>2.000000</td>\n",
       "      <td>0.000000</td>\n",
       "      <td>0.000000</td>\n",
       "      <td>0.000000</td>\n",
       "      <td>...</td>\n",
       "      <td>-1.000000</td>\n",
       "      <td>-1.000000</td>\n",
       "      <td>-1.000000</td>\n",
       "      <td>-1.000000</td>\n",
       "      <td>0.419560</td>\n",
       "      <td>0.561913</td>\n",
       "      <td>-1.000000</td>\n",
       "      <td>-1.000000</td>\n",
       "      <td>-1.000000</td>\n",
       "      <td>-1.000000</td>\n",
       "    </tr>\n",
       "    <tr>\n",
       "      <th>25%</th>\n",
       "      <td>0.000000</td>\n",
       "      <td>2.000000</td>\n",
       "      <td>6.000000</td>\n",
       "      <td>4.000000</td>\n",
       "      <td>6.000000</td>\n",
       "      <td>3.000000</td>\n",
       "      <td>2.000000</td>\n",
       "      <td>7.000000</td>\n",
       "      <td>5.000000</td>\n",
       "      <td>0.000000</td>\n",
       "      <td>...</td>\n",
       "      <td>-1.000000</td>\n",
       "      <td>0.000000</td>\n",
       "      <td>0.000000</td>\n",
       "      <td>-1.000000</td>\n",
       "      <td>0.691929</td>\n",
       "      <td>0.795234</td>\n",
       "      <td>0.731621</td>\n",
       "      <td>0.719904</td>\n",
       "      <td>0.000000</td>\n",
       "      <td>-1.000000</td>\n",
       "    </tr>\n",
       "    <tr>\n",
       "      <th>50%</th>\n",
       "      <td>0.000000</td>\n",
       "      <td>3.000000</td>\n",
       "      <td>8.000000</td>\n",
       "      <td>5.000000</td>\n",
       "      <td>9.000000</td>\n",
       "      <td>4.100000</td>\n",
       "      <td>3.000000</td>\n",
       "      <td>13.000000</td>\n",
       "      <td>8.000000</td>\n",
       "      <td>0.000000</td>\n",
       "      <td>...</td>\n",
       "      <td>1.000000</td>\n",
       "      <td>1.000000</td>\n",
       "      <td>0.000000</td>\n",
       "      <td>-1.000000</td>\n",
       "      <td>0.723003</td>\n",
       "      <td>0.835752</td>\n",
       "      <td>0.790535</td>\n",
       "      <td>0.785150</td>\n",
       "      <td>0.729292</td>\n",
       "      <td>-1.000000</td>\n",
       "    </tr>\n",
       "    <tr>\n",
       "      <th>75%</th>\n",
       "      <td>19.000000</td>\n",
       "      <td>3.000000</td>\n",
       "      <td>11.000000</td>\n",
       "      <td>6.500000</td>\n",
       "      <td>12.000000</td>\n",
       "      <td>5.000000</td>\n",
       "      <td>3.000000</td>\n",
       "      <td>19.000000</td>\n",
       "      <td>12.000000</td>\n",
       "      <td>1.000000</td>\n",
       "      <td>...</td>\n",
       "      <td>3.000000</td>\n",
       "      <td>6.000000</td>\n",
       "      <td>4.000000</td>\n",
       "      <td>3.000000</td>\n",
       "      <td>0.754305</td>\n",
       "      <td>0.884735</td>\n",
       "      <td>0.851410</td>\n",
       "      <td>0.884662</td>\n",
       "      <td>0.910005</td>\n",
       "      <td>0.758695</td>\n",
       "    </tr>\n",
       "    <tr>\n",
       "      <th>max</th>\n",
       "      <td>1385.000000</td>\n",
       "      <td>19.000000</td>\n",
       "      <td>68.000000</td>\n",
       "      <td>29.500000</td>\n",
       "      <td>63.000000</td>\n",
       "      <td>105.000000</td>\n",
       "      <td>19.000000</td>\n",
       "      <td>193.000000</td>\n",
       "      <td>142.000000</td>\n",
       "      <td>207.000000</td>\n",
       "      <td>...</td>\n",
       "      <td>24.000000</td>\n",
       "      <td>40.000000</td>\n",
       "      <td>39.000000</td>\n",
       "      <td>40.000000</td>\n",
       "      <td>0.895403</td>\n",
       "      <td>1.000000</td>\n",
       "      <td>0.962479</td>\n",
       "      <td>1.000000</td>\n",
       "      <td>1.000000</td>\n",
       "      <td>1.000000</td>\n",
       "    </tr>\n",
       "  </tbody>\n",
       "</table>\n",
       "<p>8 rows × 79 columns</p>\n",
       "</div>"
      ],
      "text/plain": [
       "        Querylength  domain_token_count  path_token_count  avgdomaintokenlen  \\\n",
       "count  36707.000000        36707.000000      36707.000000       36707.000000   \n",
       "mean      21.908110            2.857439          8.954668           5.401719   \n",
       "std       94.280669            0.906562          4.278406           1.986858   \n",
       "min        0.000000            2.000000          0.000000           1.500000   \n",
       "25%        0.000000            2.000000          6.000000           4.000000   \n",
       "50%        0.000000            3.000000          8.000000           5.000000   \n",
       "75%       19.000000            3.000000         11.000000           6.500000   \n",
       "max     1385.000000           19.000000         68.000000          29.500000   \n",
       "\n",
       "       longdomaintokenlen  avgpathtokenlen           tld  charcompvowels  \\\n",
       "count        36707.000000     36427.000000  36707.000000    36707.000000   \n",
       "mean             9.746016         4.556261      2.857439       14.976517   \n",
       "std              4.856580         2.839388      0.906562       13.351315   \n",
       "min              2.000000         0.000000      2.000000        0.000000   \n",
       "25%              6.000000         3.000000      2.000000        7.000000   \n",
       "50%              9.000000         4.100000      3.000000       13.000000   \n",
       "75%             12.000000         5.000000      3.000000       19.000000   \n",
       "max             63.000000       105.000000     19.000000      193.000000   \n",
       "\n",
       "        charcompace       ldl_url  ...  SymbolCount_Directoryname  \\\n",
       "count  36707.000000  36707.000000  ...               36707.000000   \n",
       "mean      10.216117      3.363909  ...                   1.727545   \n",
       "std       10.845807     13.447289  ...                   2.719231   \n",
       "min        0.000000      0.000000  ...                  -1.000000   \n",
       "25%        5.000000      0.000000  ...                  -1.000000   \n",
       "50%        8.000000      0.000000  ...                   1.000000   \n",
       "75%       12.000000      1.000000  ...                   3.000000   \n",
       "max      142.000000    207.000000  ...                  24.000000   \n",
       "\n",
       "       SymbolCount_FileName  SymbolCount_Extension  SymbolCount_Afterpath  \\\n",
       "count          36707.000000           36707.000000           36707.000000   \n",
       "mean               3.600049               2.685237               1.903261   \n",
       "std                4.783213               4.557171               4.512421   \n",
       "min               -1.000000              -1.000000              -1.000000   \n",
       "25%                0.000000               0.000000              -1.000000   \n",
       "50%                1.000000               0.000000              -1.000000   \n",
       "75%                6.000000               4.000000               3.000000   \n",
       "max               40.000000              39.000000              40.000000   \n",
       "\n",
       "        Entropy_URL  Entropy_Domain  Entropy_DirectoryName  Entropy_Filename  \\\n",
       "count  36707.000000    36707.000000           28239.000000      36471.000000   \n",
       "mean       0.722350        0.842443               0.677459          0.715834   \n",
       "std        0.048820        0.066251               0.450683          0.411712   \n",
       "min        0.419560        0.561913              -1.000000         -1.000000   \n",
       "25%        0.691929        0.795234               0.731621          0.719904   \n",
       "50%        0.723003        0.835752               0.790535          0.785150   \n",
       "75%        0.754305        0.884735               0.851410          0.884662   \n",
       "max        0.895403        1.000000               0.962479          1.000000   \n",
       "\n",
       "       Entropy_Extension  Entropy_Afterpath  \n",
       "count       36667.000000       36701.000000  \n",
       "mean            0.508212          -0.208900  \n",
       "std             0.519695           0.891581  \n",
       "min            -1.000000          -1.000000  \n",
       "25%             0.000000          -1.000000  \n",
       "50%             0.729292          -1.000000  \n",
       "75%             0.910005           0.758695  \n",
       "max             1.000000           1.000000  \n",
       "\n",
       "[8 rows x 79 columns]"
      ]
     },
     "execution_count": 7,
     "metadata": {},
     "output_type": "execute_result"
    }
   ],
   "source": [
    "df.describe()"
   ]
  },
  {
   "cell_type": "code",
   "execution_count": 8,
   "id": "4932b9bf-63c5-4428-8a78-7e058c6f5bba",
   "metadata": {},
   "outputs": [
    {
     "data": {
      "text/plain": [
       "Index(['Querylength', 'domain_token_count', 'path_token_count',\n",
       "       'avgdomaintokenlen', 'longdomaintokenlen', 'avgpathtokenlen', 'tld',\n",
       "       'charcompvowels', 'charcompace', 'ldl_url', 'ldl_domain', 'ldl_path',\n",
       "       'ldl_filename', 'ldl_getArg', 'dld_url', 'dld_domain', 'dld_path',\n",
       "       'dld_filename', 'dld_getArg', 'urlLen', 'domainlength', 'pathLength',\n",
       "       'subDirLen', 'fileNameLen', 'this.fileExtLen', 'ArgLen', 'pathurlRatio',\n",
       "       'ArgUrlRatio', 'argDomanRatio', 'domainUrlRatio', 'pathDomainRatio',\n",
       "       'argPathRatio', 'executable', 'isPortEighty', 'NumberofDotsinURL',\n",
       "       'ISIpAddressInDomainName', 'CharacterContinuityRate',\n",
       "       'LongestVariableValue', 'URL_DigitCount', 'host_DigitCount',\n",
       "       'Directory_DigitCount', 'File_name_DigitCount', 'Extension_DigitCount',\n",
       "       'Query_DigitCount', 'URL_Letter_Count', 'host_letter_count',\n",
       "       'Directory_LetterCount', 'Filename_LetterCount',\n",
       "       'Extension_LetterCount', 'Query_LetterCount', 'LongestPathTokenLength',\n",
       "       'Domain_LongestWordLength', 'Path_LongestWordLength',\n",
       "       'sub-Directory_LongestWordLength', 'Arguments_LongestWordLength',\n",
       "       'URL_sensitiveWord', 'URLQueries_variable', 'spcharUrl',\n",
       "       'delimeter_Domain', 'delimeter_path', 'delimeter_Count',\n",
       "       'NumberRate_URL', 'NumberRate_Domain', 'NumberRate_DirectoryName',\n",
       "       'NumberRate_FileName', 'NumberRate_Extension', 'NumberRate_AfterPath',\n",
       "       'SymbolCount_URL', 'SymbolCount_Domain', 'SymbolCount_Directoryname',\n",
       "       'SymbolCount_FileName', 'SymbolCount_Extension',\n",
       "       'SymbolCount_Afterpath', 'Entropy_URL', 'Entropy_Domain',\n",
       "       'Entropy_DirectoryName', 'Entropy_Filename', 'Entropy_Extension',\n",
       "       'Entropy_Afterpath', 'URL_Type_obf_Type'],\n",
       "      dtype='object')"
      ]
     },
     "execution_count": 8,
     "metadata": {},
     "output_type": "execute_result"
    }
   ],
   "source": [
    "df.columns"
   ]
  },
  {
   "cell_type": "code",
   "execution_count": 9,
   "id": "76307ab0-e4be-4f78-9850-0d850321ce50",
   "metadata": {},
   "outputs": [
    {
     "data": {
      "text/html": [
       "<div>\n",
       "<style scoped>\n",
       "    .dataframe tbody tr th:only-of-type {\n",
       "        vertical-align: middle;\n",
       "    }\n",
       "\n",
       "    .dataframe tbody tr th {\n",
       "        vertical-align: top;\n",
       "    }\n",
       "\n",
       "    .dataframe thead th {\n",
       "        text-align: right;\n",
       "    }\n",
       "</style>\n",
       "<table border=\"1\" class=\"dataframe\">\n",
       "  <thead>\n",
       "    <tr style=\"text-align: right;\">\n",
       "      <th></th>\n",
       "      <th>Querylength</th>\n",
       "      <th>domain_token_count</th>\n",
       "      <th>path_token_count</th>\n",
       "      <th>avgdomaintokenlen</th>\n",
       "      <th>longdomaintokenlen</th>\n",
       "      <th>avgpathtokenlen</th>\n",
       "      <th>tld</th>\n",
       "      <th>charcompvowels</th>\n",
       "      <th>charcompace</th>\n",
       "      <th>ldl_url</th>\n",
       "      <th>...</th>\n",
       "      <th>SymbolCount_FileName</th>\n",
       "      <th>SymbolCount_Extension</th>\n",
       "      <th>SymbolCount_Afterpath</th>\n",
       "      <th>Entropy_URL</th>\n",
       "      <th>Entropy_Domain</th>\n",
       "      <th>Entropy_DirectoryName</th>\n",
       "      <th>Entropy_Filename</th>\n",
       "      <th>Entropy_Extension</th>\n",
       "      <th>Entropy_Afterpath</th>\n",
       "      <th>URL_Type_obf_Type</th>\n",
       "    </tr>\n",
       "  </thead>\n",
       "  <tbody>\n",
       "    <tr>\n",
       "      <th>0</th>\n",
       "      <td>0</td>\n",
       "      <td>4</td>\n",
       "      <td>5</td>\n",
       "      <td>5.5</td>\n",
       "      <td>14</td>\n",
       "      <td>4.400000</td>\n",
       "      <td>4</td>\n",
       "      <td>8</td>\n",
       "      <td>3</td>\n",
       "      <td>0</td>\n",
       "      <td>...</td>\n",
       "      <td>1</td>\n",
       "      <td>0</td>\n",
       "      <td>-1</td>\n",
       "      <td>0.726298</td>\n",
       "      <td>0.784493</td>\n",
       "      <td>0.894886</td>\n",
       "      <td>0.850608</td>\n",
       "      <td>NaN</td>\n",
       "      <td>-1.0</td>\n",
       "      <td>Defacement</td>\n",
       "    </tr>\n",
       "    <tr>\n",
       "      <th>1</th>\n",
       "      <td>0</td>\n",
       "      <td>4</td>\n",
       "      <td>5</td>\n",
       "      <td>5.5</td>\n",
       "      <td>14</td>\n",
       "      <td>6.000000</td>\n",
       "      <td>4</td>\n",
       "      <td>12</td>\n",
       "      <td>4</td>\n",
       "      <td>0</td>\n",
       "      <td>...</td>\n",
       "      <td>0</td>\n",
       "      <td>0</td>\n",
       "      <td>-1</td>\n",
       "      <td>0.688635</td>\n",
       "      <td>0.784493</td>\n",
       "      <td>0.814725</td>\n",
       "      <td>0.859793</td>\n",
       "      <td>0.0</td>\n",
       "      <td>-1.0</td>\n",
       "      <td>Defacement</td>\n",
       "    </tr>\n",
       "    <tr>\n",
       "      <th>2</th>\n",
       "      <td>0</td>\n",
       "      <td>4</td>\n",
       "      <td>5</td>\n",
       "      <td>5.5</td>\n",
       "      <td>14</td>\n",
       "      <td>5.800000</td>\n",
       "      <td>4</td>\n",
       "      <td>12</td>\n",
       "      <td>5</td>\n",
       "      <td>0</td>\n",
       "      <td>...</td>\n",
       "      <td>0</td>\n",
       "      <td>0</td>\n",
       "      <td>-1</td>\n",
       "      <td>0.695049</td>\n",
       "      <td>0.784493</td>\n",
       "      <td>0.814725</td>\n",
       "      <td>0.801880</td>\n",
       "      <td>0.0</td>\n",
       "      <td>-1.0</td>\n",
       "      <td>Defacement</td>\n",
       "    </tr>\n",
       "    <tr>\n",
       "      <th>3</th>\n",
       "      <td>0</td>\n",
       "      <td>4</td>\n",
       "      <td>12</td>\n",
       "      <td>5.5</td>\n",
       "      <td>14</td>\n",
       "      <td>5.500000</td>\n",
       "      <td>4</td>\n",
       "      <td>32</td>\n",
       "      <td>16</td>\n",
       "      <td>0</td>\n",
       "      <td>...</td>\n",
       "      <td>0</td>\n",
       "      <td>0</td>\n",
       "      <td>-1</td>\n",
       "      <td>0.640130</td>\n",
       "      <td>0.784493</td>\n",
       "      <td>0.814725</td>\n",
       "      <td>0.663210</td>\n",
       "      <td>0.0</td>\n",
       "      <td>-1.0</td>\n",
       "      <td>Defacement</td>\n",
       "    </tr>\n",
       "    <tr>\n",
       "      <th>4</th>\n",
       "      <td>0</td>\n",
       "      <td>4</td>\n",
       "      <td>6</td>\n",
       "      <td>5.5</td>\n",
       "      <td>14</td>\n",
       "      <td>7.333334</td>\n",
       "      <td>4</td>\n",
       "      <td>18</td>\n",
       "      <td>11</td>\n",
       "      <td>0</td>\n",
       "      <td>...</td>\n",
       "      <td>0</td>\n",
       "      <td>0</td>\n",
       "      <td>-1</td>\n",
       "      <td>0.681307</td>\n",
       "      <td>0.784493</td>\n",
       "      <td>0.814725</td>\n",
       "      <td>0.804526</td>\n",
       "      <td>0.0</td>\n",
       "      <td>-1.0</td>\n",
       "      <td>Defacement</td>\n",
       "    </tr>\n",
       "  </tbody>\n",
       "</table>\n",
       "<p>5 rows × 80 columns</p>\n",
       "</div>"
      ],
      "text/plain": [
       "   Querylength  domain_token_count  path_token_count  avgdomaintokenlen  \\\n",
       "0            0                   4                 5                5.5   \n",
       "1            0                   4                 5                5.5   \n",
       "2            0                   4                 5                5.5   \n",
       "3            0                   4                12                5.5   \n",
       "4            0                   4                 6                5.5   \n",
       "\n",
       "   longdomaintokenlen  avgpathtokenlen  tld  charcompvowels  charcompace  \\\n",
       "0                  14         4.400000    4               8            3   \n",
       "1                  14         6.000000    4              12            4   \n",
       "2                  14         5.800000    4              12            5   \n",
       "3                  14         5.500000    4              32           16   \n",
       "4                  14         7.333334    4              18           11   \n",
       "\n",
       "   ldl_url  ...  SymbolCount_FileName  SymbolCount_Extension  \\\n",
       "0        0  ...                     1                      0   \n",
       "1        0  ...                     0                      0   \n",
       "2        0  ...                     0                      0   \n",
       "3        0  ...                     0                      0   \n",
       "4        0  ...                     0                      0   \n",
       "\n",
       "   SymbolCount_Afterpath  Entropy_URL  Entropy_Domain  Entropy_DirectoryName  \\\n",
       "0                     -1     0.726298        0.784493               0.894886   \n",
       "1                     -1     0.688635        0.784493               0.814725   \n",
       "2                     -1     0.695049        0.784493               0.814725   \n",
       "3                     -1     0.640130        0.784493               0.814725   \n",
       "4                     -1     0.681307        0.784493               0.814725   \n",
       "\n",
       "   Entropy_Filename  Entropy_Extension  Entropy_Afterpath  URL_Type_obf_Type  \n",
       "0          0.850608                NaN               -1.0         Defacement  \n",
       "1          0.859793                0.0               -1.0         Defacement  \n",
       "2          0.801880                0.0               -1.0         Defacement  \n",
       "3          0.663210                0.0               -1.0         Defacement  \n",
       "4          0.804526                0.0               -1.0         Defacement  \n",
       "\n",
       "[5 rows x 80 columns]"
      ]
     },
     "execution_count": 9,
     "metadata": {},
     "output_type": "execute_result"
    }
   ],
   "source": [
    "df.head()"
   ]
  },
  {
   "cell_type": "code",
   "execution_count": 10,
   "id": "07d3d6ed-9b50-4cc8-abb1-920c02221e8b",
   "metadata": {},
   "outputs": [
    {
     "data": {
      "text/plain": [
       "array(['Defacement', 'benign', 'malware', 'phishing', 'spam'],\n",
       "      dtype=object)"
      ]
     },
     "execution_count": 10,
     "metadata": {},
     "output_type": "execute_result"
    }
   ],
   "source": [
    "df[Y_FEATURE].unique()"
   ]
  },
  {
   "cell_type": "code",
   "execution_count": 11,
   "id": "ebc482d8-5379-4e26-be97-b614322fba8d",
   "metadata": {},
   "outputs": [
    {
     "name": "stdout",
     "output_type": "stream",
     "text": [
      "Defacement    7930\n",
      "benign        7781\n",
      "phishing      7586\n",
      "malware       6712\n",
      "spam          6698\n",
      "Name: URL_Type_obf_Type, dtype: int64\n"
     ]
    }
   ],
   "source": [
    "print(df[Y_FEATURE].value_counts().sort_values(ascending=False))"
   ]
  },
  {
   "cell_type": "code",
   "execution_count": 12,
   "id": "54a8b18d-5b59-4367-8193-1b55f18969f4",
   "metadata": {},
   "outputs": [
    {
     "data": {
      "image/png": "[encoded data removed]",
      "text/plain": [
       "<Figure size 720x576 with 1 Axes>"
      ]
     },
     "metadata": {
      "needs_background": "light"
     },
     "output_type": "display_data"
    }
   ],
   "source": [
    "def addlabels(x ,y):\n",
    "    for i in range(len(x)):\n",
    "        plt.text(i, y[i], y[i], ha = 'center', fontsize=10)\n",
    "\n",
    "plt_df = df[Y_FEATURE].value_counts().sort_values(ascending=False)\n",
    "\n",
    "plt_df.plot(kind='bar', figsize=(10, 8), rot=0, cmap='cividis')\n",
    "\n",
    "plt.xlabel(\"Types of malicious URL\", labelpad=14, fontsize=14)\n",
    "plt.ylabel(\"Count\", labelpad=14, fontsize=14)\n",
    "\n",
    "addlabels(plt_df.index, plt_df.values)"
   ]
  },
  {
   "cell_type": "markdown",
   "id": "4a4a1c1f-ae81-4a63-b0c2-9c732a028e9c",
   "metadata": {},
   "source": [
    "#### Explore for null and na values"
   ]
  },
  {
   "cell_type": "code",
   "execution_count": 13,
   "id": "9d8e2e37-796b-45ab-8d1f-4fde7041c314",
   "metadata": {},
   "outputs": [
    {
     "data": {
      "text/plain": [
       "['avgpathtokenlen',\n",
       " 'NumberRate_DirectoryName',\n",
       " 'NumberRate_FileName',\n",
       " 'NumberRate_Extension',\n",
       " 'NumberRate_AfterPath',\n",
       " 'Entropy_DirectoryName',\n",
       " 'Entropy_Filename',\n",
       " 'Entropy_Extension',\n",
       " 'Entropy_Afterpath']"
      ]
     },
     "execution_count": 13,
     "metadata": {},
     "output_type": "execute_result"
    }
   ],
   "source": [
    "df.columns[df.isnull().any()].tolist()"
   ]
  },
  {
   "cell_type": "code",
   "execution_count": 14,
   "id": "a92f1eb2-1eee-4864-9412-a39e379d1d64",
   "metadata": {},
   "outputs": [
    {
     "data": {
      "image/png": "[encoded data removed]",
      "text/plain": [
       "<Figure size 720x576 with 1 Axes>"
      ]
     },
     "metadata": {
      "needs_background": "light"
     },
     "output_type": "display_data"
    }
   ],
   "source": [
    "plt.figure(figsize=(10, 8))\n",
    "\n",
    "ax = plt.axes()\n",
    "sns.heatmap(df.isnull(), ax=ax, yticklabels=False, cbar=False, cmap=\"cividis\")\n",
    "plt.show()"
   ]
  },
  {
   "cell_type": "code",
   "execution_count": 15,
   "id": "2fb827f9-bb16-4a46-a16a-bc33c372042e",
   "metadata": {},
   "outputs": [
    {
     "data": {
      "text/html": [
       "<div>\n",
       "<style scoped>\n",
       "    .dataframe tbody tr th:only-of-type {\n",
       "        vertical-align: middle;\n",
       "    }\n",
       "\n",
       "    .dataframe tbody tr th {\n",
       "        vertical-align: top;\n",
       "    }\n",
       "\n",
       "    .dataframe thead th {\n",
       "        text-align: right;\n",
       "    }\n",
       "</style>\n",
       "<table border=\"1\" class=\"dataframe\">\n",
       "  <thead>\n",
       "    <tr style=\"text-align: right;\">\n",
       "      <th></th>\n",
       "      <th>avgpathtokenlen</th>\n",
       "      <th>NumberRate_DirectoryName</th>\n",
       "      <th>NumberRate_FileName</th>\n",
       "      <th>NumberRate_Extension</th>\n",
       "      <th>NumberRate_AfterPath</th>\n",
       "      <th>Entropy_DirectoryName</th>\n",
       "      <th>Entropy_Filename</th>\n",
       "      <th>Entropy_Extension</th>\n",
       "      <th>Entropy_Afterpath</th>\n",
       "    </tr>\n",
       "  </thead>\n",
       "  <tbody>\n",
       "    <tr>\n",
       "      <th>0</th>\n",
       "      <td>4.400000</td>\n",
       "      <td>0.000000</td>\n",
       "      <td>0.066667</td>\n",
       "      <td>1.000000</td>\n",
       "      <td>-1.000000</td>\n",
       "      <td>0.894886</td>\n",
       "      <td>0.850608</td>\n",
       "      <td>NaN</td>\n",
       "      <td>-1.000000</td>\n",
       "    </tr>\n",
       "    <tr>\n",
       "      <th>1</th>\n",
       "      <td>6.000000</td>\n",
       "      <td>0.000000</td>\n",
       "      <td>0.000000</td>\n",
       "      <td>NaN</td>\n",
       "      <td>-1.000000</td>\n",
       "      <td>0.814725</td>\n",
       "      <td>0.859793</td>\n",
       "      <td>0.000000</td>\n",
       "      <td>-1.000000</td>\n",
       "    </tr>\n",
       "    <tr>\n",
       "      <th>2</th>\n",
       "      <td>5.800000</td>\n",
       "      <td>0.000000</td>\n",
       "      <td>0.000000</td>\n",
       "      <td>NaN</td>\n",
       "      <td>-1.000000</td>\n",
       "      <td>0.814725</td>\n",
       "      <td>0.801880</td>\n",
       "      <td>0.000000</td>\n",
       "      <td>-1.000000</td>\n",
       "    </tr>\n",
       "    <tr>\n",
       "      <th>3</th>\n",
       "      <td>5.500000</td>\n",
       "      <td>0.000000</td>\n",
       "      <td>0.000000</td>\n",
       "      <td>NaN</td>\n",
       "      <td>-1.000000</td>\n",
       "      <td>0.814725</td>\n",
       "      <td>0.663210</td>\n",
       "      <td>0.000000</td>\n",
       "      <td>-1.000000</td>\n",
       "    </tr>\n",
       "    <tr>\n",
       "      <th>4</th>\n",
       "      <td>7.333334</td>\n",
       "      <td>0.000000</td>\n",
       "      <td>0.000000</td>\n",
       "      <td>NaN</td>\n",
       "      <td>-1.000000</td>\n",
       "      <td>0.814725</td>\n",
       "      <td>0.804526</td>\n",
       "      <td>0.000000</td>\n",
       "      <td>-1.000000</td>\n",
       "    </tr>\n",
       "    <tr>\n",
       "      <th>...</th>\n",
       "      <td>...</td>\n",
       "      <td>...</td>\n",
       "      <td>...</td>\n",
       "      <td>...</td>\n",
       "      <td>...</td>\n",
       "      <td>...</td>\n",
       "      <td>...</td>\n",
       "      <td>...</td>\n",
       "      <td>...</td>\n",
       "    </tr>\n",
       "    <tr>\n",
       "      <th>36702</th>\n",
       "      <td>3.666667</td>\n",
       "      <td>0.064516</td>\n",
       "      <td>0.529412</td>\n",
       "      <td>0.627907</td>\n",
       "      <td>0.066667</td>\n",
       "      <td>0.777498</td>\n",
       "      <td>0.690227</td>\n",
       "      <td>0.656684</td>\n",
       "      <td>0.796205</td>\n",
       "    </tr>\n",
       "    <tr>\n",
       "      <th>36703</th>\n",
       "      <td>8.461538</td>\n",
       "      <td>0.000000</td>\n",
       "      <td>0.187500</td>\n",
       "      <td>0.200000</td>\n",
       "      <td>-1.000000</td>\n",
       "      <td>0.879588</td>\n",
       "      <td>0.674400</td>\n",
       "      <td>0.674671</td>\n",
       "      <td>-1.000000</td>\n",
       "    </tr>\n",
       "    <tr>\n",
       "      <th>36704</th>\n",
       "      <td>3.375000</td>\n",
       "      <td>0.073171</td>\n",
       "      <td>0.377778</td>\n",
       "      <td>0.418033</td>\n",
       "      <td>0.029412</td>\n",
       "      <td>0.684777</td>\n",
       "      <td>0.713622</td>\n",
       "      <td>0.717187</td>\n",
       "      <td>0.705245</td>\n",
       "    </tr>\n",
       "    <tr>\n",
       "      <th>36705</th>\n",
       "      <td>3.600000</td>\n",
       "      <td>0.000000</td>\n",
       "      <td>0.284091</td>\n",
       "      <td>0.333333</td>\n",
       "      <td>0.418182</td>\n",
       "      <td>0.871049</td>\n",
       "      <td>0.745932</td>\n",
       "      <td>0.758824</td>\n",
       "      <td>0.790772</td>\n",
       "    </tr>\n",
       "    <tr>\n",
       "      <th>36706</th>\n",
       "      <td>3.250000</td>\n",
       "      <td>0.083333</td>\n",
       "      <td>0.365079</td>\n",
       "      <td>0.381356</td>\n",
       "      <td>0.060000</td>\n",
       "      <td>0.697282</td>\n",
       "      <td>0.730563</td>\n",
       "      <td>0.731481</td>\n",
       "      <td>0.769238</td>\n",
       "    </tr>\n",
       "  </tbody>\n",
       "</table>\n",
       "<p>36707 rows × 9 columns</p>\n",
       "</div>"
      ],
      "text/plain": [
       "       avgpathtokenlen  NumberRate_DirectoryName  NumberRate_FileName  \\\n",
       "0             4.400000                  0.000000             0.066667   \n",
       "1             6.000000                  0.000000             0.000000   \n",
       "2             5.800000                  0.000000             0.000000   \n",
       "3             5.500000                  0.000000             0.000000   \n",
       "4             7.333334                  0.000000             0.000000   \n",
       "...                ...                       ...                  ...   \n",
       "36702         3.666667                  0.064516             0.529412   \n",
       "36703         8.461538                  0.000000             0.187500   \n",
       "36704         3.375000                  0.073171             0.377778   \n",
       "36705         3.600000                  0.000000             0.284091   \n",
       "36706         3.250000                  0.083333             0.365079   \n",
       "\n",
       "       NumberRate_Extension  NumberRate_AfterPath  Entropy_DirectoryName  \\\n",
       "0                  1.000000             -1.000000               0.894886   \n",
       "1                       NaN             -1.000000               0.814725   \n",
       "2                       NaN             -1.000000               0.814725   \n",
       "3                       NaN             -1.000000               0.814725   \n",
       "4                       NaN             -1.000000               0.814725   \n",
       "...                     ...                   ...                    ...   \n",
       "36702              0.627907              0.066667               0.777498   \n",
       "36703              0.200000             -1.000000               0.879588   \n",
       "36704              0.418033              0.029412               0.684777   \n",
       "36705              0.333333              0.418182               0.871049   \n",
       "36706              0.381356              0.060000               0.697282   \n",
       "\n",
       "       Entropy_Filename  Entropy_Extension  Entropy_Afterpath  \n",
       "0              0.850608                NaN          -1.000000  \n",
       "1              0.859793           0.000000          -1.000000  \n",
       "2              0.801880           0.000000          -1.000000  \n",
       "3              0.663210           0.000000          -1.000000  \n",
       "4              0.804526           0.000000          -1.000000  \n",
       "...                 ...                ...                ...  \n",
       "36702          0.690227           0.656684           0.796205  \n",
       "36703          0.674400           0.674671          -1.000000  \n",
       "36704          0.713622           0.717187           0.705245  \n",
       "36705          0.745932           0.758824           0.790772  \n",
       "36706          0.730563           0.731481           0.769238  \n",
       "\n",
       "[36707 rows x 9 columns]"
      ]
     },
     "execution_count": 15,
     "metadata": {},
     "output_type": "execute_result"
    }
   ],
   "source": [
    "df[df.columns[df.isna().any()]]"
   ]
  },
  {
   "cell_type": "markdown",
   "id": "30612aea-681f-4f41-95c3-7d0e1c261187",
   "metadata": {},
   "source": [
    "#### Explore for Correlations\n",
    "The large number of features makes it difficult to determine the correlations."
   ]
  },
  {
   "cell_type": "code",
   "execution_count": 16,
   "id": "278cbe63-8589-41ba-a7b3-da26659b2b7b",
   "metadata": {},
   "outputs": [],
   "source": [
    "corr = df.corr()\n",
    "\n",
    "#plt.figure(figsize=(18,15))\n",
    "#sns.heatmap(corr, annot=True, vmin=-1.0, cmap='cividis')\n",
    "#plt.title('Correlation Heatmap')\n",
    "#plt.show()"
   ]
  },
  {
   "cell_type": "markdown",
   "id": "d2675e58-b6cf-487f-b5aa-c6f1edc2f6d1",
   "metadata": {},
   "source": [
    "#### Data Cleaning and Preparation"
   ]
  },
  {
   "cell_type": "markdown",
   "id": "43e3a787-2c7d-4721-a545-56cb8a6b900c",
   "metadata": {},
   "source": [
    "Based on the data exploration, we created a Loader that will handle the loading, cleaning and preparation of data."
   ]
  },
  {
   "cell_type": "code",
   "execution_count": 17,
   "id": "6632f3ef-7562-4eeb-83e9-f01b762e2724",
   "metadata": {},
   "outputs": [
    {
     "name": "stdout",
     "output_type": "stream",
     "text": [
      "init Loader notebook\n"
     ]
    }
   ],
   "source": [
    "import nbimporter\n",
    "import loader_nb\n",
    "\n",
    "loader = loader_nb.UrlDatasetLoader()"
   ]
  },
  {
   "cell_type": "code",
   "execution_count": 18,
   "id": "7042687d-0274-40fc-8dc1-a3ec4a971fc1",
   "metadata": {},
   "outputs": [
    {
     "name": "stdout",
     "output_type": "stream",
     "text": [
      "Help on method load_data in module loader_nb:\n",
      "\n",
      "load_data(url='https://raw.githubusercontent.com/quickheaven/scs-3253-machine-learning/master/datasets/ISCX-URL2016_All.csv') method of loader_nb.UrlDatasetLoader instance\n",
      "    (string) --> dataframe\n",
      "    \n",
      "    This function returns the dataframe of maliciours url.    \n",
      "    \n",
      "    Parameters\n",
      "    ----------\n",
      "    url: By default, it fetch the data from github otherwise a local path or url can be provided so the data can be loaded faster.\n",
      "\n"
     ]
    }
   ],
   "source": [
    "help(loader.load_data)"
   ]
  },
  {
   "cell_type": "code",
   "execution_count": 19,
   "id": "79f8649d-6784-4504-af06-7a00749f1ee6",
   "metadata": {},
   "outputs": [
    {
     "name": "stdout",
     "output_type": "stream",
     "text": [
      "Help on method prepare_data in module loader_nb:\n",
      "\n",
      "prepare_data(data, fill_na=True, feature_selection=True) method of loader_nb.UrlDatasetLoader instance\n",
      "    (DataFrame, boolean, boolean) --> X and y of the dataframe.\n",
      "    \n",
      "    This function returns the X and y of the malicious url dataframe.\n",
      "    \n",
      "    Parameters\n",
      "    ----------\n",
      "    fill_na : True to fill the na records with mean values otherwise drop the features.\n",
      "    \n",
      "    feature_selection : True to remove one or more features that have a correlation higher than 0.9 othewise do not perform that type of feature selection.\n",
      "                        https://towardsdatascience.com/feature-selection-correlation-and-p-value-da8921bfb3cf\n",
      "\n"
     ]
    }
   ],
   "source": [
    "help(loader.prepare_data)"
   ]
  },
  {
   "cell_type": "code",
   "execution_count": 20,
   "id": "576f8a76-a113-4af8-9e11-af1bcb163e63",
   "metadata": {},
   "outputs": [
    {
     "name": "stdout",
     "output_type": "stream",
     "text": [
      "(36707, 80)\n"
     ]
    }
   ],
   "source": [
    "df = loader.load_data()\n",
    "print(df.shape)"
   ]
  },
  {
   "cell_type": "code",
   "execution_count": 21,
   "id": "fb24d73f-ff83-4f7b-9bf1-e8f17a239963",
   "metadata": {},
   "outputs": [
    {
     "name": "stdout",
     "output_type": "stream",
     "text": [
      "(36707, 51)\n",
      "(36707,)\n"
     ]
    }
   ],
   "source": [
    "X, y = loader.prepare_data(df)\n",
    "print(X.shape)\n",
    "print(y.shape)"
   ]
  },
  {
   "cell_type": "code",
   "execution_count": 22,
   "id": "bfc7c617-ae9a-4595-9666-96f00d4f8570",
   "metadata": {},
   "outputs": [
    {
     "name": "stdout",
     "output_type": "stream",
     "text": [
      "Help on method perform_anomaly_detection in module loader_nb:\n",
      "\n",
      "perform_anomaly_detection(X, y) method of loader_nb.UrlDatasetLoader instance\n",
      "    (X, y) --> X, y \n",
      "    \n",
      "    This function perform unsupervised anomaly detection using Isolation Forest.\n",
      "\n"
     ]
    }
   ],
   "source": [
    "help(loader.perform_anomaly_detection)"
   ]
  },
  {
   "cell_type": "code",
   "execution_count": 23,
   "id": "f6aff6ac-8c74-4e73-9968-d3101508efc9",
   "metadata": {},
   "outputs": [
    {
     "name": "stdout",
     "output_type": "stream",
     "text": [
      "Help on method train_test_split in module loader_nb:\n",
      "\n",
      "train_test_split(X, y, test_size, random_state, anomaly_detection=True) method of loader_nb.UrlDatasetLoader instance\n",
      "    This is a convenience method to train test split and have an option to perform anomaly detection or not after the split.\n",
      "    \n",
      "    Read more in sklearn.model_selection.train_test_split\n",
      "    \n",
      "    Parameters\n",
      "    ----------\n",
      "    anomaly_detection: True to perform unsupervised anomaly detection using Isolation Forest.\n",
      "\n"
     ]
    }
   ],
   "source": [
    "help(loader.train_test_split)"
   ]
  },
  {
   "cell_type": "code",
   "execution_count": null,
   "id": "73fa1b59-549e-49b3-ae29-1223ed8fa2ef",
   "metadata": {},
   "outputs": [],
   "source": []
  },
  {
   "cell_type": "code",
   "execution_count": null,
   "id": "18879c58-e260-4c7a-a58b-318a76499e8c",
   "metadata": {},
   "outputs": [],
   "source": []
  }
 ],
 "metadata": {
  "kernelspec": {
   "display_name": "Python 3",
   "language": "python",
   "name": "python3"
  },
  "language_info": {
   "codemirror_mode": {
    "name": "ipython",
    "version": 3
   },
   "file_extension": ".py",
   "mimetype": "text/x-python",
   "name": "python",
   "nbconvert_exporter": "python",
   "pygments_lexer": "ipython3",
   "version": "3.8.8"
  }
 },
 "nbformat": 4,
 "nbformat_minor": 5
}
