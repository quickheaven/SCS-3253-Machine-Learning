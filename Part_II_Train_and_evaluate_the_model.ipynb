{
 "cells": [
  {
   "cell_type": "markdown",
   "id": "c33f88cb-0b73-4d06-86dc-2f0e3d58fbad",
   "metadata": {},
   "source": [
    "## Part II - Train and evaluate the model"
   ]
  },
  {
   "cell_type": "markdown",
   "id": "8bc35e9c-91a1-444c-89da-2c906006f894",
   "metadata": {},
   "source": [
    "####  Required Python libraries"
   ]
  },
  {
   "cell_type": "code",
   "execution_count": 1,
   "id": "4b3d36cf-a735-4f2e-a51e-6d1bfd353ab9",
   "metadata": {},
   "outputs": [],
   "source": [
    "import numpy as np\n",
    "import pandas as pd\n",
    "import matplotlib\n",
    "import matplotlib.pyplot as plt\n",
    "import seaborn as sns\n",
    "%matplotlib inline\n",
    "\n",
    "import warnings\n",
    "warnings.filterwarnings('ignore')"
   ]
  },
  {
   "cell_type": "code",
   "execution_count": 2,
   "id": "060745a3-e2da-4470-b586-493653a7c92d",
   "metadata": {},
   "outputs": [
    {
     "name": "stdout",
     "output_type": "stream",
     "text": [
      "Requirement already satisfied: ipynb in d:\\x-20a\\anaconda3\\lib\\site-packages (0.5.1)\n"
     ]
    }
   ],
   "source": [
    "# Importing an ipynb file from another ipynb file\n",
    "!pip install ipynb"
   ]
  },
  {
   "cell_type": "code",
   "execution_count": 3,
   "id": "271481f5-28fc-4d75-99ea-cef8495b566a",
   "metadata": {},
   "outputs": [
    {
     "name": "stdout",
     "output_type": "stream",
     "text": [
      "Requirement already satisfied: nbimporter in d:\\x-20a\\anaconda3\\lib\\site-packages (0.3.4)\n"
     ]
    }
   ],
   "source": [
    "# Importing functions from another jupyter notebook\n",
    "!pip install nbimporter"
   ]
  },
  {
   "cell_type": "code",
   "execution_count": 4,
   "id": "7230269a-0647-4591-9ee7-ee2d327a2ee6",
   "metadata": {},
   "outputs": [
    {
     "name": "stdout",
     "output_type": "stream",
     "text": [
      "Setting global variables...\n"
     ]
    }
   ],
   "source": [
    "%run GlobalConfig.ipynb"
   ]
  },
  {
   "cell_type": "markdown",
   "id": "1abc3556-0fd2-4c0f-a0d4-ca16fcd3e2c6",
   "metadata": {},
   "source": [
    "#### Load the Data"
   ]
  },
  {
   "cell_type": "code",
   "execution_count": 5,
   "id": "f54de16d-8913-4235-b783-cdd12268acea",
   "metadata": {},
   "outputs": [
    {
     "name": "stdout",
     "output_type": "stream",
     "text": [
      "init Loader notebook\n"
     ]
    }
   ],
   "source": [
    "import nbimporter\n",
    "import loader_nb\n",
    "import model_selection_helper_nb\n",
    "\n",
    "loader = loader_nb.UrlDatasetLoader()"
   ]
  },
  {
   "cell_type": "code",
   "execution_count": 6,
   "id": "d12311ca-aae0-46bb-baf2-48fa6be0585d",
   "metadata": {},
   "outputs": [],
   "source": [
    "df = loader.load_data()"
   ]
  },
  {
   "cell_type": "code",
   "execution_count": 7,
   "id": "327939ef-1540-4b46-a30f-29510be336af",
   "metadata": {},
   "outputs": [],
   "source": [
    "X, y = loader.prepare_data(df)"
   ]
  },
  {
   "cell_type": "markdown",
   "id": "d9adaf8e-298a-4a66-b3f7-4cff09fb6415",
   "metadata": {},
   "source": [
    "#### Split the Data"
   ]
  },
  {
   "cell_type": "code",
   "execution_count": 8,
   "id": "7fbe6c79-29da-4bb9-9a20-c2a053248776",
   "metadata": {},
   "outputs": [
    {
     "name": "stdout",
     "output_type": "stream",
     "text": [
      "Help on method train_test_split in module loader_nb:\n",
      "\n",
      "train_test_split(X, y, test_size, random_state, anomaly_detection=True) method of loader_nb.UrlDatasetLoader instance\n",
      "    This is a convenience method to train test split and have an option to perform anomaly detection or not after the split.\n",
      "    \n",
      "    Read more in sklearn.model_selection.train_test_split\n",
      "    \n",
      "    Parameters\n",
      "    ----------\n",
      "    anomaly_detection: True to perform unsupervised anomaly detection using Isolation Forest.\n",
      "\n"
     ]
    }
   ],
   "source": [
    "help(loader.train_test_split)"
   ]
  },
  {
   "cell_type": "code",
   "execution_count": 9,
   "id": "0d78c94c-f72e-4dba-bdea-2d9c5445df6b",
   "metadata": {},
   "outputs": [
    {
     "name": "stdout",
     "output_type": "stream",
     "text": [
      "The X_train, y_train shape:\n",
      "(25694, 51)\n",
      "(25694,)\n",
      "The shape after unsupervised anomaly detection:\n",
      "(25437, 51)\n",
      "(25437,)\n",
      "The X_test, y_test shape:\n",
      "(11013, 51)\n",
      "(11013,)\n",
      "The shape after unsupervised anomaly detection:\n",
      "(10902, 51)\n",
      "(10902,)\n"
     ]
    }
   ],
   "source": [
    "X_train, X_test, y_train, y_test = loader.train_test_split(X, y, test_size=TEST_SIZE, random_state=RANDOM_STATE)"
   ]
  },
  {
   "cell_type": "markdown",
   "id": "92a5b6c1-1274-43a1-a545-f93b2e2b10af",
   "metadata": {},
   "source": [
    "#### Train models with Hyperparameter optimization"
   ]
  },
  {
   "cell_type": "markdown",
   "id": "500be568-4355-4928-86f7-9daa7f3ee9cc",
   "metadata": {},
   "source": [
    "Load the models and parameters to Train."
   ]
  },
  {
   "cell_type": "code",
   "execution_count": 10,
   "id": "e518b816-bd55-4724-aaca-099449ff20b7",
   "metadata": {},
   "outputs": [],
   "source": [
    "models_to_train = loader.get_models_to_train()\n",
    "parameters_to_train = loader.get_parameters_to_train(is_best_params=False)"
   ]
  },
  {
   "cell_type": "markdown",
   "id": "58339259-942a-47d8-a21d-a357e6670c59",
   "metadata": {},
   "source": [
    "Tune Hyperparameters for Classification Machine Learning Algorithms"
   ]
  },
  {
   "cell_type": "code",
   "execution_count": 11,
   "id": "120445d1-516f-4b22-ba5b-3a5da125b80d",
   "metadata": {},
   "outputs": [
    {
     "name": "stdout",
     "output_type": "stream",
     "text": [
      "init model selection helper notebook\n"
     ]
    }
   ],
   "source": [
    "model_selection_helper = model_selection_helper_nb.ModelSelectionHelper(models_to_train, parameters_to_train)"
   ]
  },
  {
   "cell_type": "code",
   "execution_count": 12,
   "id": "e22cf3f0-9a51-44ab-84ce-65ed38066f50",
   "metadata": {},
   "outputs": [
    {
     "name": "stdout",
     "output_type": "stream",
     "text": [
      "---------------------------------------------------------------------------\n",
      "RandomForestClassifier\n",
      "Fitting 5 folds for each of 96 candidates, totalling 480 fits\n",
      "best_params_:  {'criterion': 'entropy', 'max_depth': 10, 'min_samples_leaf': 5, 'min_samples_split': 5, 'n_estimators': 150}\n",
      "best_score_:  0.9372566401222503\n",
      "---------------------------------------------------------------------------\n",
      "DecisionTreeClassifier\n",
      "Fitting 5 folds for each of 32 candidates, totalling 160 fits\n",
      "best_params_:  {'criterion': 'entropy', 'max_depth': 10, 'min_samples_leaf': 5, 'min_samples_split': 5}\n",
      "best_score_:  0.8867392820891334\n",
      "---------------------------------------------------------------------------\n",
      "LogisticRegression\n",
      "Fitting 5 folds for each of 4 candidates, totalling 20 fits\n",
      "best_params_:  {'C': 100, 'multi_class': 'ovr', 'penalty': 'l2', 'solver': 'liblinear'}\n",
      "best_score_:  0.8150332330654166\n",
      "---------------------------------------------------------------------------\n",
      "AdaBoostClassifier\n",
      "Fitting 5 folds for each of 6 candidates, totalling 30 fits\n",
      "best_params_:  {'algorithm': 'SAMME', 'learning_rate': 1.0}\n",
      "best_score_:  0.6958761110142636\n",
      "---------------------------------------------------------------------------\n",
      "MultinomialNB\n",
      "Fitting 5 folds for each of 6 candidates, totalling 30 fits\n",
      "best_params_:  {'alpha': 0.5, 'class_prior': None, 'fit_prior': False}\n",
      "best_score_:  0.6275899119472128\n",
      "Wall time: 10min 33s\n"
     ]
    }
   ],
   "source": [
    "%%time\n",
    "\n",
    "model_selection_helper.fit(X_train, y_train, cv=5, scoring='accuracy', verbose=2)"
   ]
  },
  {
   "cell_type": "markdown",
   "id": "00b14378-fefc-4510-834b-d04e70e18ea6",
   "metadata": {},
   "source": [
    "#### Run the models with test data using the best estimator"
   ]
  },
  {
   "cell_type": "code",
   "execution_count": 13,
   "id": "3578fe8a-8f48-4948-bd3e-ed82ace2e29e",
   "metadata": {},
   "outputs": [
    {
     "name": "stdout",
     "output_type": "stream",
     "text": [
      "Wall time: 0 ns\n",
      "Classification Report: RandomForestClassifier\n",
      "              precision    recall  f1-score   support\n",
      "\n",
      "           0       0.98      0.95      0.96      2434\n",
      "           1       0.94      0.98      0.96      2320\n",
      "           2       0.99      0.91      0.95      1957\n",
      "           3       0.87      0.95      0.91      2214\n",
      "           4       0.98      0.95      0.97      1977\n",
      "\n",
      "    accuracy                           0.95     10902\n",
      "   macro avg       0.95      0.95      0.95     10902\n",
      "weighted avg       0.95      0.95      0.95     10902\n",
      "\n",
      "Classification Report: DecisionTreeClassifier\n",
      "              precision    recall  f1-score   support\n",
      "\n",
      "           0       0.94      0.92      0.93      2434\n",
      "           1       0.95      0.96      0.95      2320\n",
      "           2       0.95      0.88      0.92      1957\n",
      "           3       0.81      0.90      0.85      2214\n",
      "           4       0.96      0.94      0.95      1977\n",
      "\n",
      "    accuracy                           0.92     10902\n",
      "   macro avg       0.92      0.92      0.92     10902\n",
      "weighted avg       0.92      0.92      0.92     10902\n",
      "\n",
      "Classification Report: LogisticRegression\n",
      "              precision    recall  f1-score   support\n",
      "\n",
      "           0       0.82      0.84      0.83      2434\n",
      "           1       0.80      0.86      0.83      2320\n",
      "           2       0.81      0.65      0.72      1957\n",
      "           3       0.77      0.84      0.80      2214\n",
      "           4       0.89      0.88      0.89      1977\n",
      "\n",
      "    accuracy                           0.82     10902\n",
      "   macro avg       0.82      0.81      0.81     10902\n",
      "weighted avg       0.82      0.82      0.82     10902\n",
      "\n",
      "Classification Report: AdaBoostClassifier\n",
      "              precision    recall  f1-score   support\n",
      "\n",
      "           0       0.72      0.74      0.73      2434\n",
      "           1       0.72      0.86      0.79      2320\n",
      "           2       0.58      0.42      0.48      1957\n",
      "           3       0.67      0.75      0.71      2214\n",
      "           4       0.76      0.68      0.72      1977\n",
      "\n",
      "    accuracy                           0.70     10902\n",
      "   macro avg       0.69      0.69      0.69     10902\n",
      "weighted avg       0.69      0.70      0.69     10902\n",
      "\n",
      "Classification Report: MultinomialNB\n",
      "              precision    recall  f1-score   support\n",
      "\n",
      "           0       0.64      0.66      0.65      2434\n",
      "           1       0.76      0.69      0.72      2320\n",
      "           2       0.57      0.33      0.42      1957\n",
      "           3       0.51      0.85      0.64      2214\n",
      "           4       0.69      0.52      0.59      1977\n",
      "\n",
      "    accuracy                           0.62     10902\n",
      "   macro avg       0.63      0.61      0.60     10902\n",
      "weighted avg       0.64      0.62      0.61     10902\n",
      "\n"
     ]
    }
   ],
   "source": [
    "%time\n",
    "from sklearn.metrics import accuracy_score\n",
    "from sklearn.metrics import f1_score\n",
    "from sklearn.metrics import classification_report\n",
    "\n",
    "data = [];\n",
    "for key in models_to_train.keys():\n",
    "    \n",
    "    model = model_selection_helper.get_model_best_estimator(key)\n",
    "    \n",
    "    model.fit(X_test, y_test)\n",
    "\n",
    "    y_pred = model.predict(X_test)\n",
    "\n",
    "    acc = accuracy_score(y_test, y_pred)\n",
    "    \n",
    "    f1 = f1_score(y_test, y_pred, average='weighted')\n",
    "    \n",
    "    print('Classification Report:', key)\n",
    "    print(classification_report(y_test, y_pred))\n",
    "        \n",
    "    data.append([key, acc, f1])"
   ]
  },
  {
   "cell_type": "code",
   "execution_count": 14,
   "id": "077f38d8-36c3-4205-aa04-401d0712a656",
   "metadata": {},
   "outputs": [],
   "source": [
    "df_test = pd.DataFrame(data, columns=['Model', 'Accuracy', 'F1-score'])"
   ]
  },
  {
   "cell_type": "code",
   "execution_count": 15,
   "id": "c88eb23a-7668-4642-a2e9-541c86345142",
   "metadata": {},
   "outputs": [],
   "source": [
    "df_test = df_test.sort_values(by='Accuracy', ascending=False)"
   ]
  },
  {
   "cell_type": "markdown",
   "id": "5ad4b4d4-289f-45eb-ac47-e57a6753fa60",
   "metadata": {},
   "source": [
    "#### Results:"
   ]
  },
  {
   "cell_type": "code",
   "execution_count": 16,
   "id": "030d780e-c23d-447b-8861-2ade073fe3e9",
   "metadata": {},
   "outputs": [
    {
     "data": {
      "text/html": [
       "<div>\n",
       "<style scoped>\n",
       "    .dataframe tbody tr th:only-of-type {\n",
       "        vertical-align: middle;\n",
       "    }\n",
       "\n",
       "    .dataframe tbody tr th {\n",
       "        vertical-align: top;\n",
       "    }\n",
       "\n",
       "    .dataframe thead th {\n",
       "        text-align: right;\n",
       "    }\n",
       "</style>\n",
       "<table border=\"1\" class=\"dataframe\">\n",
       "  <thead>\n",
       "    <tr style=\"text-align: right;\">\n",
       "      <th></th>\n",
       "      <th>Model</th>\n",
       "      <th>Accuracy</th>\n",
       "      <th>F1-score</th>\n",
       "    </tr>\n",
       "  </thead>\n",
       "  <tbody>\n",
       "    <tr>\n",
       "      <th>0</th>\n",
       "      <td>RandomForestClassifier</td>\n",
       "      <td>0.950376</td>\n",
       "      <td>0.950739</td>\n",
       "    </tr>\n",
       "    <tr>\n",
       "      <th>1</th>\n",
       "      <td>DecisionTreeClassifier</td>\n",
       "      <td>0.919464</td>\n",
       "      <td>0.920220</td>\n",
       "    </tr>\n",
       "    <tr>\n",
       "      <th>2</th>\n",
       "      <td>LogisticRegression</td>\n",
       "      <td>0.816639</td>\n",
       "      <td>0.815096</td>\n",
       "    </tr>\n",
       "    <tr>\n",
       "      <th>3</th>\n",
       "      <td>AdaBoostClassifier</td>\n",
       "      <td>0.698954</td>\n",
       "      <td>0.691719</td>\n",
       "    </tr>\n",
       "    <tr>\n",
       "      <th>4</th>\n",
       "      <td>MultinomialNB</td>\n",
       "      <td>0.618694</td>\n",
       "      <td>0.610399</td>\n",
       "    </tr>\n",
       "  </tbody>\n",
       "</table>\n",
       "</div>"
      ],
      "text/plain": [
       "                    Model  Accuracy  F1-score\n",
       "0  RandomForestClassifier  0.950376  0.950739\n",
       "1  DecisionTreeClassifier  0.919464  0.920220\n",
       "2      LogisticRegression  0.816639  0.815096\n",
       "3      AdaBoostClassifier  0.698954  0.691719\n",
       "4           MultinomialNB  0.618694  0.610399"
      ]
     },
     "execution_count": 16,
     "metadata": {},
     "output_type": "execute_result"
    }
   ],
   "source": [
    "df_test"
   ]
  },
  {
   "cell_type": "code",
   "execution_count": 17,
   "id": "532f652c-691a-454a-a009-672555ced58a",
   "metadata": {},
   "outputs": [
    {
     "data": {
      "text/plain": [
       "<AxesSubplot:xlabel='Accuracy', ylabel='Model'>"
      ]
     },
     "execution_count": 17,
     "metadata": {},
     "output_type": "execute_result"
    },
    {
     "data": {
      "image/png": "[encoded data removed]",
      "text/plain": [
       "<Figure size 720x576 with 1 Axes>"
      ]
     },
     "metadata": {
      "needs_background": "light"
     },
     "output_type": "display_data"
    }
   ],
   "source": [
    "plt.figure(figsize=(10, 8))\n",
    "sns.barplot(x = df_test['Accuracy'], y = df_test['Model'], data = df_test)"
   ]
  },
  {
   "cell_type": "code",
   "execution_count": null,
   "id": "6d2e08ac-c1d6-42dd-a9a6-30e9a3786a75",
   "metadata": {},
   "outputs": [],
   "source": []
  },
  {
   "cell_type": "code",
   "execution_count": null,
   "id": "c3d9e0b7-0351-4bc6-b71a-4e458c4c903d",
   "metadata": {},
   "outputs": [],
   "source": []
  }
 ],
 "metadata": {
  "kernelspec": {
   "display_name": "Python 3",
   "language": "python",
   "name": "python3"
  },
  "language_info": {
   "codemirror_mode": {
    "name": "ipython",
    "version": 3
   },
   "file_extension": ".py",
   "mimetype": "text/x-python",
   "name": "python",
   "nbconvert_exporter": "python",
   "pygments_lexer": "ipython3",
   "version": "3.8.8"
  }
 },
 "nbformat": 4,
 "nbformat_minor": 5
}
