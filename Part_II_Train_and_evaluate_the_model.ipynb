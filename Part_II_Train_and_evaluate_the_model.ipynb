{
 "cells": [
  {
   "cell_type": "markdown",
   "id": "c33f88cb-0b73-4d06-86dc-2f0e3d58fbad",
   "metadata": {},
   "source": [
    "## Part II - Train and evaluate the model"
   ]
  },
  {
   "cell_type": "markdown",
   "id": "8bc35e9c-91a1-444c-89da-2c906006f894",
   "metadata": {},
   "source": [
    "####  Required Python libraries"
   ]
  },
  {
   "cell_type": "code",
   "execution_count": 1,
   "id": "4b3d36cf-a735-4f2e-a51e-6d1bfd353ab9",
   "metadata": {},
   "outputs": [],
   "source": [
    "import numpy as np\n",
    "import pandas as pd\n",
    "import matplotlib\n",
    "import matplotlib.pyplot as plt\n",
    "import seaborn as sns\n",
    "%matplotlib inline\n",
    "\n",
    "import warnings\n",
    "warnings.filterwarnings('ignore')"
   ]
  },
  {
   "cell_type": "code",
   "execution_count": 2,
   "id": "060745a3-e2da-4470-b586-493653a7c92d",
   "metadata": {},
   "outputs": [
    {
     "name": "stdout",
     "output_type": "stream",
     "text": [
      "Requirement already satisfied: ipynb in d:\\x-20a\\anaconda3\\lib\\site-packages (0.5.1)\n"
     ]
    }
   ],
   "source": [
    "# Importing an ipynb file from another ipynb file\n",
    "!pip install ipynb"
   ]
  },
  {
   "cell_type": "code",
   "execution_count": 3,
   "id": "271481f5-28fc-4d75-99ea-cef8495b566a",
   "metadata": {},
   "outputs": [
    {
     "name": "stdout",
     "output_type": "stream",
     "text": [
      "Requirement already satisfied: nbimporter in d:\\x-20a\\anaconda3\\lib\\site-packages (0.3.4)\n"
     ]
    }
   ],
   "source": [
    "# Importing functions from another jupyter notebook\n",
    "!pip install nbimporter"
   ]
  },
  {
   "cell_type": "code",
   "execution_count": 4,
   "id": "7230269a-0647-4591-9ee7-ee2d327a2ee6",
   "metadata": {},
   "outputs": [
    {
     "name": "stdout",
     "output_type": "stream",
     "text": [
      "Setting global variables...\n"
     ]
    }
   ],
   "source": [
    "%run GlobalConfig.ipynb"
   ]
  },
  {
   "cell_type": "markdown",
   "id": "1abc3556-0fd2-4c0f-a0d4-ca16fcd3e2c6",
   "metadata": {},
   "source": [
    "#### Load the Data"
   ]
  },
  {
   "cell_type": "code",
   "execution_count": 5,
   "id": "f54de16d-8913-4235-b783-cdd12268acea",
   "metadata": {},
   "outputs": [
    {
     "name": "stdout",
     "output_type": "stream",
     "text": [
      "init Loader notebook\n"
     ]
    }
   ],
   "source": [
    "import nbimporter\n",
    "import loader_nb\n",
    "import model_selection_helper_nb\n",
    "\n",
    "loader = loader_nb.UrlDatasetLoader()"
   ]
  },
  {
   "cell_type": "code",
   "execution_count": 6,
   "id": "d12311ca-aae0-46bb-baf2-48fa6be0585d",
   "metadata": {},
   "outputs": [],
   "source": [
    "df = loader.load_data()"
   ]
  },
  {
   "cell_type": "code",
   "execution_count": 7,
   "id": "327939ef-1540-4b46-a30f-29510be336af",
   "metadata": {},
   "outputs": [],
   "source": [
    "X, y = loader.prepare_data(df)"
   ]
  },
  {
   "cell_type": "markdown",
   "id": "d9adaf8e-298a-4a66-b3f7-4cff09fb6415",
   "metadata": {},
   "source": [
    "#### Split the Data"
   ]
  },
  {
   "cell_type": "code",
   "execution_count": 9,
   "id": "0d78c94c-f72e-4dba-bdea-2d9c5445df6b",
   "metadata": {},
   "outputs": [
    {
     "name": "stdout",
     "output_type": "stream",
     "text": [
      "The X_train, y_train shape\n",
      "(25694, 51)\n",
      "(25694,)\n",
      "The shape after unsupervised anomaly detection:\n",
      "(25437, 51)\n",
      "(25437,)\n",
      "The X_test, y_test shape\n",
      "(11013, 51)\n",
      "(11013,)\n",
      "The shape after unsupervised anomaly detection:\n",
      "(10902, 51)\n",
      "(10902,)\n"
     ]
    }
   ],
   "source": [
    "from sklearn.model_selection import train_test_split    \n",
    "\n",
    "X_train, X_test, y_train, y_test = loader.train_test_split(X, y, test_size=TEST_SIZE, random_state=RANDOM_STATE)"
   ]
  },
  {
   "cell_type": "code",
   "execution_count": null,
   "id": "c13757cd-9a7c-471f-9594-32aeb137b286",
   "metadata": {},
   "outputs": [],
   "source": []
  },
  {
   "cell_type": "code",
   "execution_count": 10,
   "id": "73dcdfb0-6fe5-42bc-82fb-30382116f60c",
   "metadata": {},
   "outputs": [],
   "source": [
    "#from sklearn.neighbors import KNeighborsClassifier\n",
    "#from sklearn import metrics\n",
    "# calculating the accuracy of models with different values of k\n",
    "#mean_acc = np.zeros(20)\n",
    "#for i in range(1,21):\n",
    "#    #Train Model and Predict  \n",
    "#    knn = KNeighborsClassifier(n_neighbors = i).fit(X_train,y_train)\n",
    "#    yhat= knn.predict(X_test)\n",
    "#    mean_acc[i-1] = metrics.accuracy_score(y_test, yhat)"
   ]
  },
  {
   "cell_type": "code",
   "execution_count": 11,
   "id": "8051ced3-7c48-4c91-b444-1d2c76b3ca5e",
   "metadata": {},
   "outputs": [],
   "source": [
    "#loc = np.arange(1,21,step=1.0)\n",
    "#plt.figure(figsize = (10, 6))\n",
    "#plt.plot(range(1,21), mean_acc)\n",
    "#plt.xticks(loc)\n",
    "#plt.xlabel('Number of Neighbors ')\n",
    "#plt.ylabel('Accuracy')\n",
    "#plt.show()"
   ]
  },
  {
   "cell_type": "code",
   "execution_count": null,
   "id": "e1339306-827b-4819-b83e-7ced1014b2d3",
   "metadata": {},
   "outputs": [],
   "source": []
  },
  {
   "cell_type": "markdown",
   "id": "92a5b6c1-1274-43a1-a545-f93b2e2b10af",
   "metadata": {},
   "source": [
    "#### Train models with Hyperparameter optimization"
   ]
  },
  {
   "cell_type": "markdown",
   "id": "500be568-4355-4928-86f7-9daa7f3ee9cc",
   "metadata": {},
   "source": [
    "Load the models and parameters to Train."
   ]
  },
  {
   "cell_type": "code",
   "execution_count": 12,
   "id": "e518b816-bd55-4724-aaca-099449ff20b7",
   "metadata": {},
   "outputs": [],
   "source": [
    "models_to_train = loader.get_models_to_train()\n",
    "parameters_to_train = loader.get_parameters_to_train(True)"
   ]
  },
  {
   "cell_type": "markdown",
   "id": "58339259-942a-47d8-a21d-a357e6670c59",
   "metadata": {},
   "source": [
    "Tune Hyperparameters for Classification Machine Learning Algorithms"
   ]
  },
  {
   "cell_type": "code",
   "execution_count": 13,
   "id": "120445d1-516f-4b22-ba5b-3a5da125b80d",
   "metadata": {},
   "outputs": [
    {
     "name": "stdout",
     "output_type": "stream",
     "text": [
      "init model selection helper notebook\n"
     ]
    }
   ],
   "source": [
    "model_selection_helper = model_selection_helper_nb.ModelSelectionHelper(models_to_train, parameters_to_train)"
   ]
  },
  {
   "cell_type": "code",
   "execution_count": 14,
   "id": "e22cf3f0-9a51-44ab-84ce-65ed38066f50",
   "metadata": {},
   "outputs": [
    {
     "name": "stdout",
     "output_type": "stream",
     "text": [
      "---------------------------------------------------------------------------\n",
      "KNeighborsClassifier\n",
      "Fitting 3 folds for each of 1 candidates, totalling 3 fits\n",
      "KNeighborsClassifier :  {'metric': 'manhattan', 'n_neighbors': 2, 'weights': 'distance'}\n",
      "0.9583284192318277\n",
      "---------------------------------------------------------------------------\n",
      "DecisionTreeClassifier\n",
      "Fitting 3 folds for each of 1 candidates, totalling 3 fits\n",
      "DecisionTreeClassifier :  {'criterion': 'entropy', 'max_depth': 10, 'min_samples_leaf': 5, 'min_samples_split': 5}\n",
      "0.8888626803475254\n",
      "---------------------------------------------------------------------------\n",
      "RandomForestClassifier\n",
      "Fitting 3 folds for each of 1 candidates, totalling 3 fits\n",
      "RandomForestClassifier :  {'criterion': 'entropy', 'max_depth': 10, 'min_samples_leaf': 5, 'min_samples_split': 5, 'n_estimators': 200}\n",
      "0.9347407320045603\n",
      "---------------------------------------------------------------------------\n",
      "GradientBoostingClassifier\n",
      "Fitting 3 folds for each of 1 candidates, totalling 3 fits\n",
      "GradientBoostingClassifier :  {'learning_rate': 0.1, 'max_depth': 9, 'subsample': 0.7}\n",
      "0.9763336871486418\n",
      "---------------------------------------------------------------------------\n",
      "LogisticRegression\n",
      "Fitting 3 folds for each of 1 candidates, totalling 3 fits\n",
      "LogisticRegression :  {'C': 100, 'multi_class': 'ovr', 'penalty': 'l2', 'solver': 'liblinear'}\n",
      "0.814286275897315\n",
      "---------------------------------------------------------------------------\n",
      "AdaBoostClassifier\n",
      "Fitting 3 folds for each of 1 candidates, totalling 3 fits\n",
      "AdaBoostClassifier :  {'algorithm': 'SAMME', 'learning_rate': 1.0}\n",
      "0.6979596650548414\n",
      "Wall time: 5min 7s\n"
     ]
    }
   ],
   "source": [
    "%%time\n",
    "\n",
    "model_selection_helper.fit(X_train, y_train, cv=3, scoring='accuracy', verbose=2)"
   ]
  },
  {
   "cell_type": "code",
   "execution_count": null,
   "id": "5b1ff988-d61f-4437-974b-f02f4bc9e788",
   "metadata": {},
   "outputs": [],
   "source": []
  },
  {
   "cell_type": "markdown",
   "id": "00b14378-fefc-4510-834b-d04e70e18ea6",
   "metadata": {},
   "source": [
    "#### Run the models with test data using the best estimator"
   ]
  },
  {
   "cell_type": "code",
   "execution_count": 15,
   "id": "3578fe8a-8f48-4948-bd3e-ed82ace2e29e",
   "metadata": {},
   "outputs": [
    {
     "name": "stdout",
     "output_type": "stream",
     "text": [
      "                  Model  Accuracy  F1 Score\n",
      "0  KNeighborsClassifier       1.0       1.0\n",
      "                    Model  Accuracy  F1 Score\n",
      "0  DecisionTreeClassifier  0.919464   0.92022\n",
      "                    Model  Accuracy  F1 Score\n",
      "0  RandomForestClassifier   0.95056  0.950964\n",
      "                        Model  Accuracy  F1 Score\n",
      "0  GradientBoostingClassifier       1.0       1.0\n",
      "                Model  Accuracy  F1 Score\n",
      "0  LogisticRegression  0.816639  0.815096\n",
      "                Model  Accuracy  F1 Score\n",
      "0  AdaBoostClassifier  0.698954  0.691719\n"
     ]
    }
   ],
   "source": [
    "from sklearn.metrics import accuracy_score\n",
    "from sklearn.metrics import f1_score\n",
    "from sklearn.metrics import  accuracy_score, f1_score, precision_score, recall_score, roc_auc_score\n",
    "\n",
    "def print_predict_scores(model_name, y_train, y_pred):\n",
    "    #roc = roc_auc_score(y_train, y_pred)\n",
    "    acc = accuracy_score(y_train, y_pred)\n",
    "    #prec = precision_score(y_train, y_pred)\n",
    "    #rec = recall_score(y_train, y_pred)\n",
    "    f1 = f1_score(y_train, y_pred, average='weighted')\n",
    "    #results = pd.DataFrame([[model_name, acc, prec, rec, f1,roc]], columns = ['Model', 'Accuracy', 'Precision', 'Recall', 'F1 Score','AUC'])\n",
    "    results = pd.DataFrame([[model_name, acc, f1]], columns = ['Model', 'Accuracy', 'F1 Score'])\n",
    "    print(results)\n",
    "\n",
    "for key in models_to_train.keys():\n",
    "    \n",
    "    model = model_selection_helper.get_model_best_estimator(key)\n",
    "    \n",
    "    model.fit(X_test, y_test)\n",
    "\n",
    "    y_pred = model.predict(X_test)\n",
    "\n",
    "    print_predict_scores(key, y_test, y_pred)\n",
    "    "
   ]
  },
  {
   "cell_type": "code",
   "execution_count": null,
   "id": "077f38d8-36c3-4205-aa04-401d0712a656",
   "metadata": {},
   "outputs": [],
   "source": []
  },
  {
   "cell_type": "code",
   "execution_count": null,
   "id": "c88eb23a-7668-4642-a2e9-541c86345142",
   "metadata": {},
   "outputs": [],
   "source": []
  }
 ],
 "metadata": {
  "kernelspec": {
   "display_name": "Python 3",
   "language": "python",
   "name": "python3"
  },
  "language_info": {
   "codemirror_mode": {
    "name": "ipython",
    "version": 3
   },
   "file_extension": ".py",
   "mimetype": "text/x-python",
   "name": "python",
   "nbconvert_exporter": "python",
   "pygments_lexer": "ipython3",
   "version": "3.8.8"
  }
 },
 "nbformat": 4,
 "nbformat_minor": 5
}
