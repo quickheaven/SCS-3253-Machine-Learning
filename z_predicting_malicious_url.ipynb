{
 "cells": [
  {
   "cell_type": "code",
   "execution_count": 103,
   "metadata": {
    "id": "fWUMm-9Bwkrj"
   },
   "outputs": [],
   "source": [
    "import numpy as np\n",
    "import pandas as pd\n",
    "import matplotlib\n",
    "import matplotlib.pyplot as plt\n",
    "import seaborn as sns\n",
    "%matplotlib inline"
   ]
  },
  {
   "cell_type": "markdown",
   "metadata": {
    "id": "ndG5JDkCuOnO"
   },
   "source": [
    "### Load the Data"
   ]
  },
  {
   "cell_type": "code",
   "execution_count": 104,
   "metadata": {
    "id": "4DePIlnuxDxl"
   },
   "outputs": [],
   "source": [
    "url = 'D:/Google Drive/Colab Notebooks/SCS_3253_047_Machine_Learning/Term_Project/datasets/ISCX-URL2016_All.csv'\n",
    "df = pd.read_csv(url)\n",
    "df_backup = df.copy()"
   ]
  },
  {
   "cell_type": "markdown",
   "metadata": {
    "id": "lQAsq12JuOnP"
   },
   "source": [
    "### Explore the data"
   ]
  },
  {
   "cell_type": "code",
   "execution_count": 105,
   "metadata": {
    "id": "_FQ_9GSKx6u0",
    "outputId": "7b255d56-26fb-483b-b3a8-1cec8d30106e"
   },
   "outputs": [
    {
     "name": "stdout",
     "output_type": "stream",
     "text": [
      "<class 'pandas.core.frame.DataFrame'>\n",
      "RangeIndex: 36707 entries, 0 to 36706\n",
      "Data columns (total 80 columns):\n",
      " #   Column                           Non-Null Count  Dtype  \n",
      "---  ------                           --------------  -----  \n",
      " 0   Querylength                      36707 non-null  int64  \n",
      " 1   domain_token_count               36707 non-null  int64  \n",
      " 2   path_token_count                 36707 non-null  int64  \n",
      " 3   avgdomaintokenlen                36707 non-null  float64\n",
      " 4   longdomaintokenlen               36707 non-null  int64  \n",
      " 5   avgpathtokenlen                  36427 non-null  float64\n",
      " 6   tld                              36707 non-null  int64  \n",
      " 7   charcompvowels                   36707 non-null  int64  \n",
      " 8   charcompace                      36707 non-null  int64  \n",
      " 9   ldl_url                          36707 non-null  int64  \n",
      " 10  ldl_domain                       36707 non-null  int64  \n",
      " 11  ldl_path                         36707 non-null  int64  \n",
      " 12  ldl_filename                     36707 non-null  int64  \n",
      " 13  ldl_getArg                       36707 non-null  int64  \n",
      " 14  dld_url                          36707 non-null  int64  \n",
      " 15  dld_domain                       36707 non-null  int64  \n",
      " 16  dld_path                         36707 non-null  int64  \n",
      " 17  dld_filename                     36707 non-null  int64  \n",
      " 18  dld_getArg                       36707 non-null  int64  \n",
      " 19  urlLen                           36707 non-null  int64  \n",
      " 20  domainlength                     36707 non-null  int64  \n",
      " 21  pathLength                       36707 non-null  int64  \n",
      " 22  subDirLen                        36707 non-null  int64  \n",
      " 23  fileNameLen                      36707 non-null  int64  \n",
      " 24  this.fileExtLen                  36707 non-null  int64  \n",
      " 25  ArgLen                           36707 non-null  int64  \n",
      " 26  pathurlRatio                     36707 non-null  float64\n",
      " 27  ArgUrlRatio                      36707 non-null  float64\n",
      " 28  argDomanRatio                    36707 non-null  float64\n",
      " 29  domainUrlRatio                   36707 non-null  float64\n",
      " 30  pathDomainRatio                  36707 non-null  float64\n",
      " 31  argPathRatio                     36707 non-null  float64\n",
      " 32  executable                       36707 non-null  int64  \n",
      " 33  isPortEighty                     36707 non-null  int64  \n",
      " 34  NumberofDotsinURL                36707 non-null  int64  \n",
      " 35  ISIpAddressInDomainName          36707 non-null  int64  \n",
      " 36  CharacterContinuityRate          36707 non-null  float64\n",
      " 37  LongestVariableValue             36707 non-null  int64  \n",
      " 38  URL_DigitCount                   36707 non-null  int64  \n",
      " 39  host_DigitCount                  36707 non-null  int64  \n",
      " 40  Directory_DigitCount             36707 non-null  int64  \n",
      " 41  File_name_DigitCount             36707 non-null  int64  \n",
      " 42  Extension_DigitCount             36707 non-null  int64  \n",
      " 43  Query_DigitCount                 36707 non-null  int64  \n",
      " 44  URL_Letter_Count                 36707 non-null  int64  \n",
      " 45  host_letter_count                36707 non-null  int64  \n",
      " 46  Directory_LetterCount            36707 non-null  int64  \n",
      " 47  Filename_LetterCount             36707 non-null  int64  \n",
      " 48  Extension_LetterCount            36707 non-null  int64  \n",
      " 49  Query_LetterCount                36707 non-null  int64  \n",
      " 50  LongestPathTokenLength           36707 non-null  int64  \n",
      " 51  Domain_LongestWordLength         36707 non-null  int64  \n",
      " 52  Path_LongestWordLength           36707 non-null  int64  \n",
      " 53  sub-Directory_LongestWordLength  36707 non-null  int64  \n",
      " 54  Arguments_LongestWordLength      36707 non-null  int64  \n",
      " 55  URL_sensitiveWord                36707 non-null  int64  \n",
      " 56  URLQueries_variable              36707 non-null  int64  \n",
      " 57  spcharUrl                        36707 non-null  int64  \n",
      " 58  delimeter_Domain                 36707 non-null  int64  \n",
      " 59  delimeter_path                   36707 non-null  int64  \n",
      " 60  delimeter_Count                  36707 non-null  int64  \n",
      " 61  NumberRate_URL                   36707 non-null  float64\n",
      " 62  NumberRate_Domain                36707 non-null  float64\n",
      " 63  NumberRate_DirectoryName         36697 non-null  float64\n",
      " 64  NumberRate_FileName              36697 non-null  float64\n",
      " 65  NumberRate_Extension             26577 non-null  float64\n",
      " 66  NumberRate_AfterPath             36704 non-null  float64\n",
      " 67  SymbolCount_URL                  36707 non-null  int64  \n",
      " 68  SymbolCount_Domain               36707 non-null  int64  \n",
      " 69  SymbolCount_Directoryname        36707 non-null  int64  \n",
      " 70  SymbolCount_FileName             36707 non-null  int64  \n",
      " 71  SymbolCount_Extension            36707 non-null  int64  \n",
      " 72  SymbolCount_Afterpath            36707 non-null  int64  \n",
      " 73  Entropy_URL                      36707 non-null  float64\n",
      " 74  Entropy_Domain                   36707 non-null  float64\n",
      " 75  Entropy_DirectoryName            28239 non-null  float64\n",
      " 76  Entropy_Filename                 36471 non-null  float64\n",
      " 77  Entropy_Extension                36667 non-null  float64\n",
      " 78  Entropy_Afterpath                36701 non-null  float64\n",
      " 79  URL_Type_obf_Type                36707 non-null  object \n",
      "dtypes: float64(21), int64(58), object(1)\n",
      "memory usage: 22.4+ MB\n"
     ]
    }
   ],
   "source": [
    "df.info()"
   ]
  },
  {
   "cell_type": "code",
   "execution_count": 106,
   "metadata": {
    "id": "Nh2EAqdtB9qb",
    "outputId": "753053d1-fc7d-4d8b-d54d-b8d0c01f340e"
   },
   "outputs": [
    {
     "data": {
      "text/html": [
       "<div>\n",
       "<style scoped>\n",
       "    .dataframe tbody tr th:only-of-type {\n",
       "        vertical-align: middle;\n",
       "    }\n",
       "\n",
       "    .dataframe tbody tr th {\n",
       "        vertical-align: top;\n",
       "    }\n",
       "\n",
       "    .dataframe thead th {\n",
       "        text-align: right;\n",
       "    }\n",
       "</style>\n",
       "<table border=\"1\" class=\"dataframe\">\n",
       "  <thead>\n",
       "    <tr style=\"text-align: right;\">\n",
       "      <th></th>\n",
       "      <th>Querylength</th>\n",
       "      <th>domain_token_count</th>\n",
       "      <th>path_token_count</th>\n",
       "      <th>avgdomaintokenlen</th>\n",
       "      <th>longdomaintokenlen</th>\n",
       "      <th>avgpathtokenlen</th>\n",
       "      <th>tld</th>\n",
       "      <th>charcompvowels</th>\n",
       "      <th>charcompace</th>\n",
       "      <th>ldl_url</th>\n",
       "      <th>...</th>\n",
       "      <th>SymbolCount_Directoryname</th>\n",
       "      <th>SymbolCount_FileName</th>\n",
       "      <th>SymbolCount_Extension</th>\n",
       "      <th>SymbolCount_Afterpath</th>\n",
       "      <th>Entropy_URL</th>\n",
       "      <th>Entropy_Domain</th>\n",
       "      <th>Entropy_DirectoryName</th>\n",
       "      <th>Entropy_Filename</th>\n",
       "      <th>Entropy_Extension</th>\n",
       "      <th>Entropy_Afterpath</th>\n",
       "    </tr>\n",
       "  </thead>\n",
       "  <tbody>\n",
       "    <tr>\n",
       "      <th>count</th>\n",
       "      <td>36707.000000</td>\n",
       "      <td>36707.000000</td>\n",
       "      <td>36707.000000</td>\n",
       "      <td>36707.000000</td>\n",
       "      <td>36707.000000</td>\n",
       "      <td>36427.000000</td>\n",
       "      <td>36707.000000</td>\n",
       "      <td>36707.000000</td>\n",
       "      <td>36707.000000</td>\n",
       "      <td>36707.000000</td>\n",
       "      <td>...</td>\n",
       "      <td>36707.000000</td>\n",
       "      <td>36707.000000</td>\n",
       "      <td>36707.000000</td>\n",
       "      <td>36707.000000</td>\n",
       "      <td>36707.000000</td>\n",
       "      <td>36707.000000</td>\n",
       "      <td>28239.000000</td>\n",
       "      <td>36471.000000</td>\n",
       "      <td>36667.000000</td>\n",
       "      <td>36701.000000</td>\n",
       "    </tr>\n",
       "    <tr>\n",
       "      <th>mean</th>\n",
       "      <td>21.908110</td>\n",
       "      <td>2.857439</td>\n",
       "      <td>8.954668</td>\n",
       "      <td>5.401719</td>\n",
       "      <td>9.746016</td>\n",
       "      <td>4.556261</td>\n",
       "      <td>2.857439</td>\n",
       "      <td>14.976517</td>\n",
       "      <td>10.216117</td>\n",
       "      <td>3.363909</td>\n",
       "      <td>...</td>\n",
       "      <td>1.727545</td>\n",
       "      <td>3.600049</td>\n",
       "      <td>2.685237</td>\n",
       "      <td>1.903261</td>\n",
       "      <td>0.722350</td>\n",
       "      <td>0.842443</td>\n",
       "      <td>0.677459</td>\n",
       "      <td>0.715834</td>\n",
       "      <td>0.508212</td>\n",
       "      <td>-0.208900</td>\n",
       "    </tr>\n",
       "    <tr>\n",
       "      <th>std</th>\n",
       "      <td>94.280669</td>\n",
       "      <td>0.906562</td>\n",
       "      <td>4.278406</td>\n",
       "      <td>1.986858</td>\n",
       "      <td>4.856580</td>\n",
       "      <td>2.839388</td>\n",
       "      <td>0.906562</td>\n",
       "      <td>13.351315</td>\n",
       "      <td>10.845807</td>\n",
       "      <td>13.447289</td>\n",
       "      <td>...</td>\n",
       "      <td>2.719231</td>\n",
       "      <td>4.783213</td>\n",
       "      <td>4.557171</td>\n",
       "      <td>4.512421</td>\n",
       "      <td>0.048820</td>\n",
       "      <td>0.066251</td>\n",
       "      <td>0.450683</td>\n",
       "      <td>0.411712</td>\n",
       "      <td>0.519695</td>\n",
       "      <td>0.891581</td>\n",
       "    </tr>\n",
       "    <tr>\n",
       "      <th>min</th>\n",
       "      <td>0.000000</td>\n",
       "      <td>2.000000</td>\n",
       "      <td>0.000000</td>\n",
       "      <td>1.500000</td>\n",
       "      <td>2.000000</td>\n",
       "      <td>0.000000</td>\n",
       "      <td>2.000000</td>\n",
       "      <td>0.000000</td>\n",
       "      <td>0.000000</td>\n",
       "      <td>0.000000</td>\n",
       "      <td>...</td>\n",
       "      <td>-1.000000</td>\n",
       "      <td>-1.000000</td>\n",
       "      <td>-1.000000</td>\n",
       "      <td>-1.000000</td>\n",
       "      <td>0.419560</td>\n",
       "      <td>0.561913</td>\n",
       "      <td>-1.000000</td>\n",
       "      <td>-1.000000</td>\n",
       "      <td>-1.000000</td>\n",
       "      <td>-1.000000</td>\n",
       "    </tr>\n",
       "    <tr>\n",
       "      <th>25%</th>\n",
       "      <td>0.000000</td>\n",
       "      <td>2.000000</td>\n",
       "      <td>6.000000</td>\n",
       "      <td>4.000000</td>\n",
       "      <td>6.000000</td>\n",
       "      <td>3.000000</td>\n",
       "      <td>2.000000</td>\n",
       "      <td>7.000000</td>\n",
       "      <td>5.000000</td>\n",
       "      <td>0.000000</td>\n",
       "      <td>...</td>\n",
       "      <td>-1.000000</td>\n",
       "      <td>0.000000</td>\n",
       "      <td>0.000000</td>\n",
       "      <td>-1.000000</td>\n",
       "      <td>0.691929</td>\n",
       "      <td>0.795234</td>\n",
       "      <td>0.731621</td>\n",
       "      <td>0.719904</td>\n",
       "      <td>0.000000</td>\n",
       "      <td>-1.000000</td>\n",
       "    </tr>\n",
       "    <tr>\n",
       "      <th>50%</th>\n",
       "      <td>0.000000</td>\n",
       "      <td>3.000000</td>\n",
       "      <td>8.000000</td>\n",
       "      <td>5.000000</td>\n",
       "      <td>9.000000</td>\n",
       "      <td>4.100000</td>\n",
       "      <td>3.000000</td>\n",
       "      <td>13.000000</td>\n",
       "      <td>8.000000</td>\n",
       "      <td>0.000000</td>\n",
       "      <td>...</td>\n",
       "      <td>1.000000</td>\n",
       "      <td>1.000000</td>\n",
       "      <td>0.000000</td>\n",
       "      <td>-1.000000</td>\n",
       "      <td>0.723003</td>\n",
       "      <td>0.835752</td>\n",
       "      <td>0.790535</td>\n",
       "      <td>0.785150</td>\n",
       "      <td>0.729292</td>\n",
       "      <td>-1.000000</td>\n",
       "    </tr>\n",
       "    <tr>\n",
       "      <th>75%</th>\n",
       "      <td>19.000000</td>\n",
       "      <td>3.000000</td>\n",
       "      <td>11.000000</td>\n",
       "      <td>6.500000</td>\n",
       "      <td>12.000000</td>\n",
       "      <td>5.000000</td>\n",
       "      <td>3.000000</td>\n",
       "      <td>19.000000</td>\n",
       "      <td>12.000000</td>\n",
       "      <td>1.000000</td>\n",
       "      <td>...</td>\n",
       "      <td>3.000000</td>\n",
       "      <td>6.000000</td>\n",
       "      <td>4.000000</td>\n",
       "      <td>3.000000</td>\n",
       "      <td>0.754305</td>\n",
       "      <td>0.884735</td>\n",
       "      <td>0.851410</td>\n",
       "      <td>0.884662</td>\n",
       "      <td>0.910005</td>\n",
       "      <td>0.758695</td>\n",
       "    </tr>\n",
       "    <tr>\n",
       "      <th>max</th>\n",
       "      <td>1385.000000</td>\n",
       "      <td>19.000000</td>\n",
       "      <td>68.000000</td>\n",
       "      <td>29.500000</td>\n",
       "      <td>63.000000</td>\n",
       "      <td>105.000000</td>\n",
       "      <td>19.000000</td>\n",
       "      <td>193.000000</td>\n",
       "      <td>142.000000</td>\n",
       "      <td>207.000000</td>\n",
       "      <td>...</td>\n",
       "      <td>24.000000</td>\n",
       "      <td>40.000000</td>\n",
       "      <td>39.000000</td>\n",
       "      <td>40.000000</td>\n",
       "      <td>0.895403</td>\n",
       "      <td>1.000000</td>\n",
       "      <td>0.962479</td>\n",
       "      <td>1.000000</td>\n",
       "      <td>1.000000</td>\n",
       "      <td>1.000000</td>\n",
       "    </tr>\n",
       "  </tbody>\n",
       "</table>\n",
       "<p>8 rows × 79 columns</p>\n",
       "</div>"
      ],
      "text/plain": [
       "        Querylength  domain_token_count  path_token_count  avgdomaintokenlen  \\\n",
       "count  36707.000000        36707.000000      36707.000000       36707.000000   \n",
       "mean      21.908110            2.857439          8.954668           5.401719   \n",
       "std       94.280669            0.906562          4.278406           1.986858   \n",
       "min        0.000000            2.000000          0.000000           1.500000   \n",
       "25%        0.000000            2.000000          6.000000           4.000000   \n",
       "50%        0.000000            3.000000          8.000000           5.000000   \n",
       "75%       19.000000            3.000000         11.000000           6.500000   \n",
       "max     1385.000000           19.000000         68.000000          29.500000   \n",
       "\n",
       "       longdomaintokenlen  avgpathtokenlen           tld  charcompvowels  \\\n",
       "count        36707.000000     36427.000000  36707.000000    36707.000000   \n",
       "mean             9.746016         4.556261      2.857439       14.976517   \n",
       "std              4.856580         2.839388      0.906562       13.351315   \n",
       "min              2.000000         0.000000      2.000000        0.000000   \n",
       "25%              6.000000         3.000000      2.000000        7.000000   \n",
       "50%              9.000000         4.100000      3.000000       13.000000   \n",
       "75%             12.000000         5.000000      3.000000       19.000000   \n",
       "max             63.000000       105.000000     19.000000      193.000000   \n",
       "\n",
       "        charcompace       ldl_url  ...  SymbolCount_Directoryname  \\\n",
       "count  36707.000000  36707.000000  ...               36707.000000   \n",
       "mean      10.216117      3.363909  ...                   1.727545   \n",
       "std       10.845807     13.447289  ...                   2.719231   \n",
       "min        0.000000      0.000000  ...                  -1.000000   \n",
       "25%        5.000000      0.000000  ...                  -1.000000   \n",
       "50%        8.000000      0.000000  ...                   1.000000   \n",
       "75%       12.000000      1.000000  ...                   3.000000   \n",
       "max      142.000000    207.000000  ...                  24.000000   \n",
       "\n",
       "       SymbolCount_FileName  SymbolCount_Extension  SymbolCount_Afterpath  \\\n",
       "count          36707.000000           36707.000000           36707.000000   \n",
       "mean               3.600049               2.685237               1.903261   \n",
       "std                4.783213               4.557171               4.512421   \n",
       "min               -1.000000              -1.000000              -1.000000   \n",
       "25%                0.000000               0.000000              -1.000000   \n",
       "50%                1.000000               0.000000              -1.000000   \n",
       "75%                6.000000               4.000000               3.000000   \n",
       "max               40.000000              39.000000              40.000000   \n",
       "\n",
       "        Entropy_URL  Entropy_Domain  Entropy_DirectoryName  Entropy_Filename  \\\n",
       "count  36707.000000    36707.000000           28239.000000      36471.000000   \n",
       "mean       0.722350        0.842443               0.677459          0.715834   \n",
       "std        0.048820        0.066251               0.450683          0.411712   \n",
       "min        0.419560        0.561913              -1.000000         -1.000000   \n",
       "25%        0.691929        0.795234               0.731621          0.719904   \n",
       "50%        0.723003        0.835752               0.790535          0.785150   \n",
       "75%        0.754305        0.884735               0.851410          0.884662   \n",
       "max        0.895403        1.000000               0.962479          1.000000   \n",
       "\n",
       "       Entropy_Extension  Entropy_Afterpath  \n",
       "count       36667.000000       36701.000000  \n",
       "mean            0.508212          -0.208900  \n",
       "std             0.519695           0.891581  \n",
       "min            -1.000000          -1.000000  \n",
       "25%             0.000000          -1.000000  \n",
       "50%             0.729292          -1.000000  \n",
       "75%             0.910005           0.758695  \n",
       "max             1.000000           1.000000  \n",
       "\n",
       "[8 rows x 79 columns]"
      ]
     },
     "execution_count": 106,
     "metadata": {},
     "output_type": "execute_result"
    }
   ],
   "source": [
    "df.describe()"
   ]
  },
  {
   "cell_type": "code",
   "execution_count": 107,
   "metadata": {
    "id": "IcoM0XIgB9qc",
    "outputId": "88733c0c-7376-45bb-989a-00e7587b9c6c"
   },
   "outputs": [
    {
     "data": {
      "text/plain": [
       "Index(['Querylength', 'domain_token_count', 'path_token_count',\n",
       "       'avgdomaintokenlen', 'longdomaintokenlen', 'avgpathtokenlen', 'tld',\n",
       "       'charcompvowels', 'charcompace', 'ldl_url', 'ldl_domain', 'ldl_path',\n",
       "       'ldl_filename', 'ldl_getArg', 'dld_url', 'dld_domain', 'dld_path',\n",
       "       'dld_filename', 'dld_getArg', 'urlLen', 'domainlength', 'pathLength',\n",
       "       'subDirLen', 'fileNameLen', 'this.fileExtLen', 'ArgLen', 'pathurlRatio',\n",
       "       'ArgUrlRatio', 'argDomanRatio', 'domainUrlRatio', 'pathDomainRatio',\n",
       "       'argPathRatio', 'executable', 'isPortEighty', 'NumberofDotsinURL',\n",
       "       'ISIpAddressInDomainName', 'CharacterContinuityRate',\n",
       "       'LongestVariableValue', 'URL_DigitCount', 'host_DigitCount',\n",
       "       'Directory_DigitCount', 'File_name_DigitCount', 'Extension_DigitCount',\n",
       "       'Query_DigitCount', 'URL_Letter_Count', 'host_letter_count',\n",
       "       'Directory_LetterCount', 'Filename_LetterCount',\n",
       "       'Extension_LetterCount', 'Query_LetterCount', 'LongestPathTokenLength',\n",
       "       'Domain_LongestWordLength', 'Path_LongestWordLength',\n",
       "       'sub-Directory_LongestWordLength', 'Arguments_LongestWordLength',\n",
       "       'URL_sensitiveWord', 'URLQueries_variable', 'spcharUrl',\n",
       "       'delimeter_Domain', 'delimeter_path', 'delimeter_Count',\n",
       "       'NumberRate_URL', 'NumberRate_Domain', 'NumberRate_DirectoryName',\n",
       "       'NumberRate_FileName', 'NumberRate_Extension', 'NumberRate_AfterPath',\n",
       "       'SymbolCount_URL', 'SymbolCount_Domain', 'SymbolCount_Directoryname',\n",
       "       'SymbolCount_FileName', 'SymbolCount_Extension',\n",
       "       'SymbolCount_Afterpath', 'Entropy_URL', 'Entropy_Domain',\n",
       "       'Entropy_DirectoryName', 'Entropy_Filename', 'Entropy_Extension',\n",
       "       'Entropy_Afterpath', 'URL_Type_obf_Type'],\n",
       "      dtype='object')"
      ]
     },
     "execution_count": 107,
     "metadata": {},
     "output_type": "execute_result"
    }
   ],
   "source": [
    "df.columns"
   ]
  },
  {
   "cell_type": "code",
   "execution_count": 108,
   "metadata": {
    "id": "urTjpCIvB9qc",
    "outputId": "8df150d1-1ba4-4f74-c829-1e585b92ab86"
   },
   "outputs": [
    {
     "data": {
      "text/html": [
       "<div>\n",
       "<style scoped>\n",
       "    .dataframe tbody tr th:only-of-type {\n",
       "        vertical-align: middle;\n",
       "    }\n",
       "\n",
       "    .dataframe tbody tr th {\n",
       "        vertical-align: top;\n",
       "    }\n",
       "\n",
       "    .dataframe thead th {\n",
       "        text-align: right;\n",
       "    }\n",
       "</style>\n",
       "<table border=\"1\" class=\"dataframe\">\n",
       "  <thead>\n",
       "    <tr style=\"text-align: right;\">\n",
       "      <th></th>\n",
       "      <th>Querylength</th>\n",
       "      <th>domain_token_count</th>\n",
       "      <th>path_token_count</th>\n",
       "      <th>avgdomaintokenlen</th>\n",
       "      <th>longdomaintokenlen</th>\n",
       "      <th>avgpathtokenlen</th>\n",
       "      <th>tld</th>\n",
       "      <th>charcompvowels</th>\n",
       "      <th>charcompace</th>\n",
       "      <th>ldl_url</th>\n",
       "      <th>...</th>\n",
       "      <th>SymbolCount_FileName</th>\n",
       "      <th>SymbolCount_Extension</th>\n",
       "      <th>SymbolCount_Afterpath</th>\n",
       "      <th>Entropy_URL</th>\n",
       "      <th>Entropy_Domain</th>\n",
       "      <th>Entropy_DirectoryName</th>\n",
       "      <th>Entropy_Filename</th>\n",
       "      <th>Entropy_Extension</th>\n",
       "      <th>Entropy_Afterpath</th>\n",
       "      <th>URL_Type_obf_Type</th>\n",
       "    </tr>\n",
       "  </thead>\n",
       "  <tbody>\n",
       "    <tr>\n",
       "      <th>0</th>\n",
       "      <td>0</td>\n",
       "      <td>4</td>\n",
       "      <td>5</td>\n",
       "      <td>5.5</td>\n",
       "      <td>14</td>\n",
       "      <td>4.400000</td>\n",
       "      <td>4</td>\n",
       "      <td>8</td>\n",
       "      <td>3</td>\n",
       "      <td>0</td>\n",
       "      <td>...</td>\n",
       "      <td>1</td>\n",
       "      <td>0</td>\n",
       "      <td>-1</td>\n",
       "      <td>0.726298</td>\n",
       "      <td>0.784493</td>\n",
       "      <td>0.894886</td>\n",
       "      <td>0.850608</td>\n",
       "      <td>NaN</td>\n",
       "      <td>-1.0</td>\n",
       "      <td>Defacement</td>\n",
       "    </tr>\n",
       "    <tr>\n",
       "      <th>1</th>\n",
       "      <td>0</td>\n",
       "      <td>4</td>\n",
       "      <td>5</td>\n",
       "      <td>5.5</td>\n",
       "      <td>14</td>\n",
       "      <td>6.000000</td>\n",
       "      <td>4</td>\n",
       "      <td>12</td>\n",
       "      <td>4</td>\n",
       "      <td>0</td>\n",
       "      <td>...</td>\n",
       "      <td>0</td>\n",
       "      <td>0</td>\n",
       "      <td>-1</td>\n",
       "      <td>0.688635</td>\n",
       "      <td>0.784493</td>\n",
       "      <td>0.814725</td>\n",
       "      <td>0.859793</td>\n",
       "      <td>0.0</td>\n",
       "      <td>-1.0</td>\n",
       "      <td>Defacement</td>\n",
       "    </tr>\n",
       "    <tr>\n",
       "      <th>2</th>\n",
       "      <td>0</td>\n",
       "      <td>4</td>\n",
       "      <td>5</td>\n",
       "      <td>5.5</td>\n",
       "      <td>14</td>\n",
       "      <td>5.800000</td>\n",
       "      <td>4</td>\n",
       "      <td>12</td>\n",
       "      <td>5</td>\n",
       "      <td>0</td>\n",
       "      <td>...</td>\n",
       "      <td>0</td>\n",
       "      <td>0</td>\n",
       "      <td>-1</td>\n",
       "      <td>0.695049</td>\n",
       "      <td>0.784493</td>\n",
       "      <td>0.814725</td>\n",
       "      <td>0.801880</td>\n",
       "      <td>0.0</td>\n",
       "      <td>-1.0</td>\n",
       "      <td>Defacement</td>\n",
       "    </tr>\n",
       "    <tr>\n",
       "      <th>3</th>\n",
       "      <td>0</td>\n",
       "      <td>4</td>\n",
       "      <td>12</td>\n",
       "      <td>5.5</td>\n",
       "      <td>14</td>\n",
       "      <td>5.500000</td>\n",
       "      <td>4</td>\n",
       "      <td>32</td>\n",
       "      <td>16</td>\n",
       "      <td>0</td>\n",
       "      <td>...</td>\n",
       "      <td>0</td>\n",
       "      <td>0</td>\n",
       "      <td>-1</td>\n",
       "      <td>0.640130</td>\n",
       "      <td>0.784493</td>\n",
       "      <td>0.814725</td>\n",
       "      <td>0.663210</td>\n",
       "      <td>0.0</td>\n",
       "      <td>-1.0</td>\n",
       "      <td>Defacement</td>\n",
       "    </tr>\n",
       "    <tr>\n",
       "      <th>4</th>\n",
       "      <td>0</td>\n",
       "      <td>4</td>\n",
       "      <td>6</td>\n",
       "      <td>5.5</td>\n",
       "      <td>14</td>\n",
       "      <td>7.333334</td>\n",
       "      <td>4</td>\n",
       "      <td>18</td>\n",
       "      <td>11</td>\n",
       "      <td>0</td>\n",
       "      <td>...</td>\n",
       "      <td>0</td>\n",
       "      <td>0</td>\n",
       "      <td>-1</td>\n",
       "      <td>0.681307</td>\n",
       "      <td>0.784493</td>\n",
       "      <td>0.814725</td>\n",
       "      <td>0.804526</td>\n",
       "      <td>0.0</td>\n",
       "      <td>-1.0</td>\n",
       "      <td>Defacement</td>\n",
       "    </tr>\n",
       "  </tbody>\n",
       "</table>\n",
       "<p>5 rows × 80 columns</p>\n",
       "</div>"
      ],
      "text/plain": [
       "   Querylength  domain_token_count  path_token_count  avgdomaintokenlen  \\\n",
       "0            0                   4                 5                5.5   \n",
       "1            0                   4                 5                5.5   \n",
       "2            0                   4                 5                5.5   \n",
       "3            0                   4                12                5.5   \n",
       "4            0                   4                 6                5.5   \n",
       "\n",
       "   longdomaintokenlen  avgpathtokenlen  tld  charcompvowels  charcompace  \\\n",
       "0                  14         4.400000    4               8            3   \n",
       "1                  14         6.000000    4              12            4   \n",
       "2                  14         5.800000    4              12            5   \n",
       "3                  14         5.500000    4              32           16   \n",
       "4                  14         7.333334    4              18           11   \n",
       "\n",
       "   ldl_url  ...  SymbolCount_FileName  SymbolCount_Extension  \\\n",
       "0        0  ...                     1                      0   \n",
       "1        0  ...                     0                      0   \n",
       "2        0  ...                     0                      0   \n",
       "3        0  ...                     0                      0   \n",
       "4        0  ...                     0                      0   \n",
       "\n",
       "   SymbolCount_Afterpath  Entropy_URL  Entropy_Domain  Entropy_DirectoryName  \\\n",
       "0                     -1     0.726298        0.784493               0.894886   \n",
       "1                     -1     0.688635        0.784493               0.814725   \n",
       "2                     -1     0.695049        0.784493               0.814725   \n",
       "3                     -1     0.640130        0.784493               0.814725   \n",
       "4                     -1     0.681307        0.784493               0.814725   \n",
       "\n",
       "   Entropy_Filename  Entropy_Extension  Entropy_Afterpath  URL_Type_obf_Type  \n",
       "0          0.850608                NaN               -1.0         Defacement  \n",
       "1          0.859793                0.0               -1.0         Defacement  \n",
       "2          0.801880                0.0               -1.0         Defacement  \n",
       "3          0.663210                0.0               -1.0         Defacement  \n",
       "4          0.804526                0.0               -1.0         Defacement  \n",
       "\n",
       "[5 rows x 80 columns]"
      ]
     },
     "execution_count": 108,
     "metadata": {},
     "output_type": "execute_result"
    }
   ],
   "source": [
    "df.head()"
   ]
  },
  {
   "cell_type": "code",
   "execution_count": 109,
   "metadata": {
    "id": "6SSMO11-B9qe",
    "outputId": "0aa8d117-fb26-41c5-b030-27212c78df28"
   },
   "outputs": [
    {
     "data": {
      "text/plain": [
       "['avgpathtokenlen',\n",
       " 'NumberRate_DirectoryName',\n",
       " 'NumberRate_FileName',\n",
       " 'NumberRate_Extension',\n",
       " 'NumberRate_AfterPath',\n",
       " 'Entropy_DirectoryName',\n",
       " 'Entropy_Filename',\n",
       " 'Entropy_Extension',\n",
       " 'Entropy_Afterpath']"
      ]
     },
     "execution_count": 109,
     "metadata": {},
     "output_type": "execute_result"
    }
   ],
   "source": [
    "df.columns[df.isnull().any()].tolist()"
   ]
  },
  {
   "cell_type": "code",
   "execution_count": 110,
   "metadata": {
    "id": "PB-U4iZ3uOnQ",
    "outputId": "248bd52b-5bbc-4513-992d-cbe9f34a994c"
   },
   "outputs": [
    {
     "data": {
      "text/plain": [
       "True"
      ]
     },
     "execution_count": 110,
     "metadata": {},
     "output_type": "execute_result"
    }
   ],
   "source": [
    "df.isnull().values.any()"
   ]
  },
  {
   "cell_type": "code",
   "execution_count": 111,
   "metadata": {
    "id": "_0RoeSCPB9qe",
    "outputId": "dc533bb8-db77-4ff1-af19-d3208563b195"
   },
   "outputs": [
    {
     "data": {
      "text/plain": [
       "<AxesSubplot:>"
      ]
     },
     "execution_count": 111,
     "metadata": {},
     "output_type": "execute_result"
    },
    {
     "data": {
      "image/png": "[encoded data removed]",
      "text/plain": [
       "<Figure size 432x288 with 1 Axes>"
      ]
     },
     "metadata": {
      "needs_background": "light"
     },
     "output_type": "display_data"
    }
   ],
   "source": [
    "sns.heatmap(df.isnull(), yticklabels=False, cbar=False, cmap='viridis')"
   ]
  },
  {
   "cell_type": "code",
   "execution_count": null,
   "metadata": {},
   "outputs": [],
   "source": []
  },
  {
   "cell_type": "code",
   "execution_count": null,
   "metadata": {},
   "outputs": [],
   "source": []
  },
  {
   "cell_type": "markdown",
   "metadata": {
    "id": "-H5Z6vNUuOnQ"
   },
   "source": [
    "### Scrub the data\n",
    "replace null with mean value"
   ]
  },
  {
   "cell_type": "code",
   "execution_count": 112,
   "metadata": {
    "id": "yRI7ZUS6uOnQ"
   },
   "outputs": [],
   "source": [
    "df['avgpathtokenlen'] = df['avgpathtokenlen'].fillna(df['avgpathtokenlen'].mean())\n",
    "df['NumberRate_DirectoryName'] = df['NumberRate_DirectoryName'].fillna(df['NumberRate_DirectoryName'].mean())\n",
    "df['NumberRate_FileName'] = df['NumberRate_FileName'].fillna(df['NumberRate_FileName'].mean())\n",
    "df['NumberRate_Extension'] = df['NumberRate_Extension'].fillna(df['NumberRate_Extension'].mean())\n",
    "df['NumberRate_AfterPath'] = df['NumberRate_AfterPath'].fillna(df['NumberRate_AfterPath'].mean())\n",
    "df['Entropy_DirectoryName'] = df['Entropy_DirectoryName'].fillna(df['Entropy_DirectoryName'].mean())\n",
    "df['Entropy_Filename'] = df['Entropy_Filename'].fillna(df['Entropy_Filename'].mean())\n",
    "df['Entropy_Extension'] = df['Entropy_Extension'].fillna(df['Entropy_Extension'].mean())\n",
    "df['Entropy_Afterpath'] = df['Entropy_Afterpath'].fillna(df['Entropy_Afterpath'].mean())"
   ]
  },
  {
   "cell_type": "code",
   "execution_count": 113,
   "metadata": {
    "id": "0xlLmBzxuOnQ",
    "outputId": "0c9016d3-2c4e-49d5-87ea-7889444f9a6e"
   },
   "outputs": [
    {
     "data": {
      "text/plain": [
       "False"
      ]
     },
     "execution_count": 113,
     "metadata": {},
     "output_type": "execute_result"
    }
   ],
   "source": [
    "df.isnull().values.any()"
   ]
  },
  {
   "cell_type": "code",
   "execution_count": 114,
   "metadata": {
    "id": "gz71p9sMuOnR",
    "outputId": "8da2f06b-d962-4c4d-a114-e87ce8b0a85f"
   },
   "outputs": [
    {
     "data": {
      "text/plain": [
       "<AxesSubplot:>"
      ]
     },
     "execution_count": 114,
     "metadata": {},
     "output_type": "execute_result"
    },
    {
     "data": {
      "image/png": "[encoded data removed]",
      "text/plain": [
       "<Figure size 432x288 with 1 Axes>"
      ]
     },
     "metadata": {
      "needs_background": "light"
     },
     "output_type": "display_data"
    }
   ],
   "source": [
    "sns.heatmap(df.isnull(), yticklabels=False, cbar=False, cmap='viridis')"
   ]
  },
  {
   "cell_type": "markdown",
   "metadata": {},
   "source": [
    "#### Encoding the categorical variable"
   ]
  },
  {
   "cell_type": "code",
   "execution_count": 115,
   "metadata": {
    "id": "QD2xllWtuOnR"
   },
   "outputs": [],
   "source": [
    "from sklearn.preprocessing import LabelEncoder\n",
    "\n",
    "le = LabelEncoder()\n",
    "\n",
    "df['URL_Type_obf_Type'] = le.fit_transform(df['URL_Type_obf_Type']) #"
   ]
  },
  {
   "cell_type": "markdown",
   "metadata": {},
   "source": [
    "#### Removing the unwanted columns"
   ]
  },
  {
   "cell_type": "code",
   "execution_count": 116,
   "metadata": {},
   "outputs": [],
   "source": [
    "corr = df.corr()"
   ]
  },
  {
   "cell_type": "code",
   "execution_count": 117,
   "metadata": {
    "id": "4tlNh6stuOnR"
   },
   "outputs": [
    {
     "name": "stdout",
     "output_type": "stream",
     "text": [
      "(36707, 80)\n"
     ]
    }
   ],
   "source": [
    "print(df.shape)"
   ]
  },
  {
   "cell_type": "code",
   "execution_count": 118,
   "metadata": {
    "id": "uTV26Zc0uOnR"
   },
   "outputs": [],
   "source": [
    "# Selecting features based on correlation\n",
    "# compare the correlation between features and remove one of more features that have a correlation higher than 0.9\n",
    "# https://towardsdatascience.com/feature-selection-correlation-and-p-value-da8921bfb3cf\n",
    "columns = np.full((corr.shape[0],), True, dtype=bool)\n",
    "for i in range(corr.shape[0]):\n",
    "    for j in range(i+1, corr.shape[0]):\n",
    "        if corr.iloc[i,j] >= 0.9:\n",
    "            if columns[j]:\n",
    "                columns[j] = False\n",
    "selected_columns = df.columns[columns]\n",
    "df = df[selected_columns]"
   ]
  },
  {
   "cell_type": "code",
   "execution_count": 119,
   "metadata": {},
   "outputs": [
    {
     "name": "stdout",
     "output_type": "stream",
     "text": [
      "(36707, 53)\n"
     ]
    }
   ],
   "source": [
    "print(df.shape)"
   ]
  },
  {
   "cell_type": "code",
   "execution_count": null,
   "metadata": {},
   "outputs": [],
   "source": []
  },
  {
   "cell_type": "code",
   "execution_count": 120,
   "metadata": {
    "id": "rMG07PC5uOnS",
    "outputId": "cad9117d-df18-4189-e0b4-84fda9d76a44"
   },
   "outputs": [],
   "source": [
    "#plt.figure(figsize=(28,25))\n",
    "#sns.heatmap(corr, annot=True, vmin=-1.0, cmap='mako')\n",
    "#plt.title('Correlation Heatmap')\n",
    "#plt.show()"
   ]
  },
  {
   "cell_type": "code",
   "execution_count": 121,
   "metadata": {
    "id": "ST3bjlwjuOnS"
   },
   "outputs": [],
   "source": [
    "X = df.drop(\"URL_Type_obf_Type\", axis=1)\n",
    "y = df['URL_Type_obf_Type']"
   ]
  },
  {
   "cell_type": "code",
   "execution_count": 122,
   "metadata": {},
   "outputs": [
    {
     "data": {
      "text/plain": [
       "Querylength                        False\n",
       "domain_token_count                 False\n",
       "path_token_count                   False\n",
       "avgdomaintokenlen                  False\n",
       "longdomaintokenlen                 False\n",
       "avgpathtokenlen                    False\n",
       "charcompvowels                     False\n",
       "ldl_domain                         False\n",
       "ldl_filename                       False\n",
       "dld_url                            False\n",
       "dld_domain                         False\n",
       "dld_filename                       False\n",
       "dld_getArg                         False\n",
       "domainlength                       False\n",
       "fileNameLen                        False\n",
       "this.fileExtLen                    False\n",
       "pathurlRatio                       False\n",
       "ArgUrlRatio                        False\n",
       "domainUrlRatio                     False\n",
       "argPathRatio                       False\n",
       "executable                         False\n",
       "isPortEighty                       False\n",
       "NumberofDotsinURL                  False\n",
       "ISIpAddressInDomainName            False\n",
       "CharacterContinuityRate            False\n",
       "URL_DigitCount                     False\n",
       "host_DigitCount                    False\n",
       "Directory_DigitCount               False\n",
       "File_name_DigitCount               False\n",
       "Directory_LetterCount              False\n",
       "Filename_LetterCount               False\n",
       "Domain_LongestWordLength           False\n",
       "Path_LongestWordLength             False\n",
       "sub-Directory_LongestWordLength    False\n",
       "Arguments_LongestWordLength        False\n",
       "URL_sensitiveWord                  False\n",
       "URLQueries_variable                False\n",
       "spcharUrl                          False\n",
       "delimeter_Domain                   False\n",
       "delimeter_path                     False\n",
       "NumberRate_URL                     False\n",
       "NumberRate_Domain                  False\n",
       "NumberRate_DirectoryName           False\n",
       "NumberRate_FileName                False\n",
       "NumberRate_Extension               False\n",
       "NumberRate_AfterPath               False\n",
       "SymbolCount_URL                    False\n",
       "SymbolCount_Directoryname          False\n",
       "Entropy_URL                        False\n",
       "Entropy_Domain                     False\n",
       "Entropy_DirectoryName              False\n",
       "Entropy_Extension                  False\n",
       "dtype: bool"
      ]
     },
     "execution_count": 122,
     "metadata": {},
     "output_type": "execute_result"
    }
   ],
   "source": [
    "np.isnan(X).any()"
   ]
  },
  {
   "cell_type": "code",
   "execution_count": 123,
   "metadata": {},
   "outputs": [
    {
     "data": {
      "text/plain": [
       "Querylength                        False\n",
       "domain_token_count                 False\n",
       "path_token_count                   False\n",
       "avgdomaintokenlen                  False\n",
       "longdomaintokenlen                 False\n",
       "avgpathtokenlen                    False\n",
       "charcompvowels                     False\n",
       "ldl_domain                         False\n",
       "ldl_filename                       False\n",
       "dld_url                            False\n",
       "dld_domain                         False\n",
       "dld_filename                       False\n",
       "dld_getArg                         False\n",
       "domainlength                       False\n",
       "fileNameLen                        False\n",
       "this.fileExtLen                    False\n",
       "pathurlRatio                       False\n",
       "ArgUrlRatio                        False\n",
       "domainUrlRatio                     False\n",
       "argPathRatio                        True\n",
       "executable                         False\n",
       "isPortEighty                       False\n",
       "NumberofDotsinURL                  False\n",
       "ISIpAddressInDomainName            False\n",
       "CharacterContinuityRate            False\n",
       "URL_DigitCount                     False\n",
       "host_DigitCount                    False\n",
       "Directory_DigitCount               False\n",
       "File_name_DigitCount               False\n",
       "Directory_LetterCount              False\n",
       "Filename_LetterCount               False\n",
       "Domain_LongestWordLength           False\n",
       "Path_LongestWordLength             False\n",
       "sub-Directory_LongestWordLength    False\n",
       "Arguments_LongestWordLength        False\n",
       "URL_sensitiveWord                  False\n",
       "URLQueries_variable                False\n",
       "spcharUrl                          False\n",
       "delimeter_Domain                   False\n",
       "delimeter_path                     False\n",
       "NumberRate_URL                     False\n",
       "NumberRate_Domain                  False\n",
       "NumberRate_DirectoryName           False\n",
       "NumberRate_FileName                False\n",
       "NumberRate_Extension               False\n",
       "NumberRate_AfterPath               False\n",
       "SymbolCount_URL                    False\n",
       "SymbolCount_Directoryname          False\n",
       "Entropy_URL                        False\n",
       "Entropy_Domain                     False\n",
       "Entropy_DirectoryName              False\n",
       "Entropy_Extension                  False\n",
       "dtype: bool"
      ]
     },
     "execution_count": 123,
     "metadata": {},
     "output_type": "execute_result"
    }
   ],
   "source": [
    "np.isinf(X).any()"
   ]
  },
  {
   "cell_type": "code",
   "execution_count": 124,
   "metadata": {},
   "outputs": [],
   "source": [
    "X = X.drop(\"argPathRatio\", axis=1) # simply drop this for now"
   ]
  },
  {
   "cell_type": "code",
   "execution_count": 125,
   "metadata": {},
   "outputs": [
    {
     "data": {
      "text/plain": [
       "Querylength                        False\n",
       "domain_token_count                 False\n",
       "path_token_count                   False\n",
       "avgdomaintokenlen                  False\n",
       "longdomaintokenlen                 False\n",
       "avgpathtokenlen                    False\n",
       "charcompvowels                     False\n",
       "ldl_domain                         False\n",
       "ldl_filename                       False\n",
       "dld_url                            False\n",
       "dld_domain                         False\n",
       "dld_filename                       False\n",
       "dld_getArg                         False\n",
       "domainlength                       False\n",
       "fileNameLen                        False\n",
       "this.fileExtLen                    False\n",
       "pathurlRatio                       False\n",
       "ArgUrlRatio                        False\n",
       "domainUrlRatio                     False\n",
       "executable                         False\n",
       "isPortEighty                       False\n",
       "NumberofDotsinURL                  False\n",
       "ISIpAddressInDomainName            False\n",
       "CharacterContinuityRate            False\n",
       "URL_DigitCount                     False\n",
       "host_DigitCount                    False\n",
       "Directory_DigitCount               False\n",
       "File_name_DigitCount               False\n",
       "Directory_LetterCount              False\n",
       "Filename_LetterCount               False\n",
       "Domain_LongestWordLength           False\n",
       "Path_LongestWordLength             False\n",
       "sub-Directory_LongestWordLength    False\n",
       "Arguments_LongestWordLength        False\n",
       "URL_sensitiveWord                  False\n",
       "URLQueries_variable                False\n",
       "spcharUrl                          False\n",
       "delimeter_Domain                   False\n",
       "delimeter_path                     False\n",
       "NumberRate_URL                     False\n",
       "NumberRate_Domain                  False\n",
       "NumberRate_DirectoryName           False\n",
       "NumberRate_FileName                False\n",
       "NumberRate_Extension               False\n",
       "NumberRate_AfterPath               False\n",
       "SymbolCount_URL                    False\n",
       "SymbolCount_Directoryname          False\n",
       "Entropy_URL                        False\n",
       "Entropy_Domain                     False\n",
       "Entropy_DirectoryName              False\n",
       "Entropy_Extension                  False\n",
       "dtype: bool"
      ]
     },
     "execution_count": 125,
     "metadata": {},
     "output_type": "execute_result"
    }
   ],
   "source": [
    "np.isinf(X).any()"
   ]
  },
  {
   "cell_type": "code",
   "execution_count": 126,
   "metadata": {
    "id": "wuGzpewKuOnS"
   },
   "outputs": [],
   "source": [
    "from sklearn.model_selection import train_test_split\n",
    "\n",
    "X_train, X_test, y_train, y_test = train_test_split(X, y, test_size=0.2, random_state=42)"
   ]
  },
  {
   "cell_type": "markdown",
   "metadata": {},
   "source": []
  },
  {
   "cell_type": "code",
   "execution_count": 127,
   "metadata": {
    "id": "Aowd3QAtuOnS"
   },
   "outputs": [],
   "source": [
    "from sklearn.tree import DecisionTreeClassifier\n",
    "from sklearn.linear_model import LogisticRegression\n",
    "\n",
    "from sklearn.ensemble import RandomForestClassifier\n",
    "from sklearn.ensemble import GradientBoostingClassifier\n",
    "\n",
    "from sklearn.metrics import accuracy_score"
   ]
  },
  {
   "cell_type": "code",
   "execution_count": 128,
   "metadata": {
    "id": "FThDI_TPuOnT"
   },
   "outputs": [
    {
     "name": "stderr",
     "output_type": "stream",
     "text": [
      "D:\\x-20a\\anaconda3\\lib\\site-packages\\sklearn\\linear_model\\_logistic.py:763: ConvergenceWarning: lbfgs failed to converge (status=1):\n",
      "STOP: TOTAL NO. of ITERATIONS REACHED LIMIT.\n",
      "\n",
      "Increase the number of iterations (max_iter) or scale the data as shown in:\n",
      "    https://scikit-learn.org/stable/modules/preprocessing.html\n",
      "Please also refer to the documentation for alternative solver options:\n",
      "    https://scikit-learn.org/stable/modules/linear_model.html#logistic-regression\n",
      "  n_iter_i = _check_optimize_result(\n"
     ]
    },
    {
     "data": {
      "text/plain": [
       "LogisticRegression()"
      ]
     },
     "execution_count": 128,
     "metadata": {},
     "output_type": "execute_result"
    }
   ],
   "source": [
    "lr = LogisticRegression()\n",
    "lr.fit(X_train, y_train)"
   ]
  },
  {
   "cell_type": "code",
   "execution_count": 129,
   "metadata": {
    "id": "D9pE1G-buOnT"
   },
   "outputs": [
    {
     "data": {
      "text/plain": [
       "0.7542312276519666"
      ]
     },
     "execution_count": 129,
     "metadata": {},
     "output_type": "execute_result"
    }
   ],
   "source": [
    "y_pred = lr.predict(X_train)\n",
    "accuracy_score(y_train, y_pred)"
   ]
  },
  {
   "cell_type": "code",
   "execution_count": 130,
   "metadata": {
    "id": "GX2QWbQRuOnT"
   },
   "outputs": [
    {
     "data": {
      "text/plain": [
       "\" \\n%%time\\nfrom sklearn.model_selection import GridSearchCV\\n\\n# define models and parameters\\nmodel = LogisticRegression()\\nsolvers = ['lbfgs', 'liblinear', 'sag', 'saga'] # I exclude newton-cg\\npenalty = ['none', 'l1', 'l2', 'elasticnet']\\nc_values = [100, 10, 1.0, 0.1, 0.01]\\n# define grid search\\ngrid = dict(solver=solvers,penalty=penalty,C=c_values)\\ngrid_search = GridSearchCV(estimator=model, param_grid=grid, n_jobs=-1, cv=3, scoring='accuracy', error_score=0, verbose=2)\\ngrid_result = grid_search.fit(X_train, y_train)\\n\""
      ]
     },
     "execution_count": 130,
     "metadata": {},
     "output_type": "execute_result"
    }
   ],
   "source": [
    "''' \n",
    "%%time\n",
    "from sklearn.model_selection import GridSearchCV\n",
    "\n",
    "# define models and parameters\n",
    "model = LogisticRegression()\n",
    "solvers = ['lbfgs', 'liblinear', 'sag', 'saga'] # I exclude newton-cg\n",
    "penalty = ['none', 'l1', 'l2', 'elasticnet']\n",
    "c_values = [100, 10, 1.0, 0.1, 0.01]\n",
    "# define grid search\n",
    "grid = dict(solver=solvers,penalty=penalty,C=c_values)\n",
    "grid_search = GridSearchCV(estimator=model, param_grid=grid, n_jobs=-1, cv=3, scoring='accuracy', error_score=0, verbose=2)\n",
    "grid_result = grid_search.fit(X_train, y_train)\n",
    "'''"
   ]
  },
  {
   "cell_type": "code",
   "execution_count": 131,
   "metadata": {
    "id": "N_C1n1avuOnT",
    "outputId": "cf7112bb-d9ec-4103-a58e-b51bc3fddd77"
   },
   "outputs": [],
   "source": [
    "#print(grid_search.best_params_)\n",
    "#print(grid_search.best_score_)"
   ]
  },
  {
   "cell_type": "code",
   "execution_count": null,
   "metadata": {},
   "outputs": [],
   "source": []
  },
  {
   "cell_type": "code",
   "execution_count": 132,
   "metadata": {},
   "outputs": [
    {
     "name": "stdout",
     "output_type": "stream",
     "text": [
      "GaussianMixture(random_state=42)\n",
      "Wall time: 377 ms\n"
     ]
    }
   ],
   "source": [
    "%%time\n",
    "from sklearn.mixture import GaussianMixture\n",
    "\n",
    "random_state=42\n",
    "\n",
    "gm = GaussianMixture(covariance_type = 'full', random_state=random_state)\n",
    "\n",
    "gm.fit(X_train)\n",
    "print(gm)\n",
    "\n",
    "y_pred_gm = gm.predict(X_train)\n",
    "\n",
    "X_train_gm, y_train_gm = X_train[(y_pred_gm != -1)], y_train[(y_pred_gm != -1)]"
   ]
  },
  {
   "cell_type": "code",
   "execution_count": 133,
   "metadata": {},
   "outputs": [
    {
     "name": "stderr",
     "output_type": "stream",
     "text": [
      "D:\\x-20a\\anaconda3\\lib\\site-packages\\sklearn\\linear_model\\_logistic.py:763: ConvergenceWarning: lbfgs failed to converge (status=1):\n",
      "STOP: TOTAL NO. of ITERATIONS REACHED LIMIT.\n",
      "\n",
      "Increase the number of iterations (max_iter) or scale the data as shown in:\n",
      "    https://scikit-learn.org/stable/modules/preprocessing.html\n",
      "Please also refer to the documentation for alternative solver options:\n",
      "    https://scikit-learn.org/stable/modules/linear_model.html#logistic-regression\n",
      "  n_iter_i = _check_optimize_result(\n"
     ]
    },
    {
     "data": {
      "text/plain": [
       "0.8142686872126681"
      ]
     },
     "execution_count": 133,
     "metadata": {},
     "output_type": "execute_result"
    }
   ],
   "source": [
    "log_gm_clf = LogisticRegression(random_state=random_state, max_iter=1000)\n",
    "\n",
    "log_gm_clf.fit(X_train_gm, y_train_gm)\n",
    "\n",
    "y_pred_log_gm = log_gm_clf.predict(X_train_gm)\n",
    "\n",
    "accuracy_score(y_train_gm, y_pred_log_gm)"
   ]
  },
  {
   "cell_type": "code",
   "execution_count": 134,
   "metadata": {},
   "outputs": [],
   "source": [
    "# the accurracy improves after implementing the GaussianMixture"
   ]
  },
  {
   "cell_type": "code",
   "execution_count": null,
   "metadata": {},
   "outputs": [],
   "source": []
  },
  {
   "cell_type": "code",
   "execution_count": null,
   "metadata": {},
   "outputs": [],
   "source": []
  },
  {
   "cell_type": "code",
   "execution_count": null,
   "metadata": {},
   "outputs": [],
   "source": []
  },
  {
   "cell_type": "markdown",
   "metadata": {},
   "source": [
    "### IsolationForest"
   ]
  },
  {
   "cell_type": "code",
   "execution_count": 50,
   "metadata": {
    "id": "vzoqsvEQuOnT",
    "outputId": "212798f3-6b0e-4b7e-a2e4-528e1fe033ad"
   },
   "outputs": [
    {
     "name": "stdout",
     "output_type": "stream",
     "text": [
      "Wall time: 6.04 s\n"
     ]
    },
    {
     "name": "stderr",
     "output_type": "stream",
     "text": [
      "D:\\x-20a\\anaconda3\\lib\\site-packages\\sklearn\\linear_model\\_logistic.py:763: ConvergenceWarning: lbfgs failed to converge (status=1):\n",
      "STOP: TOTAL NO. of ITERATIONS REACHED LIMIT.\n",
      "\n",
      "Increase the number of iterations (max_iter) or scale the data as shown in:\n",
      "    https://scikit-learn.org/stable/modules/preprocessing.html\n",
      "Please also refer to the documentation for alternative solver options:\n",
      "    https://scikit-learn.org/stable/modules/linear_model.html#logistic-regression\n",
      "  n_iter_i = _check_optimize_result(\n"
     ]
    },
    {
     "data": {
      "text/plain": [
       "LogisticRegression()"
      ]
     },
     "execution_count": 50,
     "metadata": {},
     "output_type": "execute_result"
    }
   ],
   "source": [
    "%%time\n",
    "from sklearn.ensemble import IsolationForest\n",
    "\n",
    "#iforest = IsolationForest(contamination='auto', random_state=42)\n",
    "iforest = IsolationForest(contamination=0.01, random_state=42).fit(X_train)\n",
    "\n",
    "y_pred_iforest = iforest.predict(X_train)\n",
    "\n",
    "X_train_iforest, y_train_iforest = X_train[(y_pred_iforest != -1)], y_train[(y_pred_iforest != -1)]\n",
    "\n",
    "lr_iforest = LogisticRegression()\n",
    "lr_iforest.fit(X_train_iforest, y_train_iforest)"
   ]
  },
  {
   "cell_type": "code",
   "execution_count": 51,
   "metadata": {
    "id": "v7jnI98luOnT"
   },
   "outputs": [
    {
     "data": {
      "text/plain": [
       "0.7591070138626123"
      ]
     },
     "execution_count": 51,
     "metadata": {},
     "output_type": "execute_result"
    }
   ],
   "source": [
    "y_pred_iforest = lr_iforest.predict(X_train_iforest)\n",
    "\n",
    "accuracy_score(y_train_iforest, y_pred_iforest)"
   ]
  },
  {
   "cell_type": "code",
   "execution_count": 52,
   "metadata": {},
   "outputs": [
    {
     "name": "stdout",
     "output_type": "stream",
     "text": [
      "(29365, 51)\n",
      "(29071, 51)\n"
     ]
    }
   ],
   "source": [
    "print(X_train.shape)\n",
    "print(X_train_iforest.shape)"
   ]
  },
  {
   "cell_type": "code",
   "execution_count": 53,
   "metadata": {},
   "outputs": [
    {
     "name": "stdout",
     "output_type": "stream",
     "text": [
      "(29365,)\n",
      "(29071,)\n"
     ]
    }
   ],
   "source": [
    "print(y_train.shape)\n",
    "print(y_train_iforest.shape)"
   ]
  },
  {
   "cell_type": "code",
   "execution_count": 34,
   "metadata": {},
   "outputs": [],
   "source": [
    "#%%time\n",
    "#grid_result = grid_search.fit(X_train_iforest, y_train_iforest)"
   ]
  },
  {
   "cell_type": "code",
   "execution_count": 35,
   "metadata": {},
   "outputs": [],
   "source": [
    "#print(grid_search.best_params_)\n",
    "#print(grid_search.best_score_)"
   ]
  },
  {
   "cell_type": "markdown",
   "metadata": {},
   "source": [
    "### OneClassSVM"
   ]
  },
  {
   "cell_type": "code",
   "execution_count": 60,
   "metadata": {},
   "outputs": [
    {
     "name": "stdout",
     "output_type": "stream",
     "text": [
      "Wall time: 1min 53s\n"
     ]
    },
    {
     "name": "stderr",
     "output_type": "stream",
     "text": [
      "D:\\x-20a\\anaconda3\\lib\\site-packages\\sklearn\\linear_model\\_logistic.py:763: ConvergenceWarning: lbfgs failed to converge (status=1):\n",
      "STOP: TOTAL NO. of ITERATIONS REACHED LIMIT.\n",
      "\n",
      "Increase the number of iterations (max_iter) or scale the data as shown in:\n",
      "    https://scikit-learn.org/stable/modules/preprocessing.html\n",
      "Please also refer to the documentation for alternative solver options:\n",
      "    https://scikit-learn.org/stable/modules/linear_model.html#logistic-regression\n",
      "  n_iter_i = _check_optimize_result(\n"
     ]
    },
    {
     "data": {
      "text/plain": [
       "LogisticRegression()"
      ]
     },
     "execution_count": 60,
     "metadata": {},
     "output_type": "execute_result"
    }
   ],
   "source": [
    "%%time\n",
    "from sklearn.svm import OneClassSVM\n",
    "\n",
    "one_class_svm = OneClassSVM(nu=0.01, kernel='rbf', gamma='auto').fit(X_train)\n",
    "\n",
    "y_pred_one_class_svm = one_class_svm.predict(X_train)\n",
    "\n",
    "X_train_one_class_svm, y_train_one_class_svm = X_train[(y_pred_one_class_svm != -1)], y_train[(y_pred_one_class_svm != -1)]\n",
    "\n",
    "lr_one_class_svm = LogisticRegression()\n",
    "lr_one_class_svm.fit(X_train_one_class_svm, y_train_one_class_svm)"
   ]
  },
  {
   "cell_type": "code",
   "execution_count": 61,
   "metadata": {},
   "outputs": [
    {
     "data": {
      "text/plain": [
       "0.757085695231744"
      ]
     },
     "execution_count": 61,
     "metadata": {},
     "output_type": "execute_result"
    }
   ],
   "source": [
    "y_pred_one_class_svm = lr_one_class_svm.predict(X_train_one_class_svm)\n",
    "\n",
    "accuracy_score(y_train_one_class_svm, y_pred_one_class_svm)"
   ]
  },
  {
   "cell_type": "code",
   "execution_count": 62,
   "metadata": {},
   "outputs": [
    {
     "name": "stdout",
     "output_type": "stream",
     "text": [
      "(29365, 51)\n",
      "(23992, 51)\n"
     ]
    }
   ],
   "source": [
    "print(X_train.shape)\n",
    "print(X_train_one_class_svm.shape)"
   ]
  },
  {
   "cell_type": "code",
   "execution_count": 63,
   "metadata": {},
   "outputs": [
    {
     "name": "stdout",
     "output_type": "stream",
     "text": [
      "(29365,)\n",
      "(23992,)\n"
     ]
    }
   ],
   "source": [
    "print(y_train.shape)\n",
    "print(y_train_one_class_svm.shape)"
   ]
  },
  {
   "cell_type": "code",
   "execution_count": null,
   "metadata": {},
   "outputs": [],
   "source": [
    "### Gau"
   ]
  }
 ],
 "metadata": {
  "colab": {
   "collapsed_sections": [],
   "name": "_Predicting_malicious_url.ipynb",
   "provenance": []
  },
  "kernelspec": {
   "display_name": "Python 3",
   "language": "python",
   "name": "python3"
  },
  "language_info": {
   "codemirror_mode": {
    "name": "ipython",
    "version": 3
   },
   "file_extension": ".py",
   "mimetype": "text/x-python",
   "name": "python",
   "nbconvert_exporter": "python",
   "pygments_lexer": "ipython3",
   "version": "3.8.8"
  }
 },
 "nbformat": 4,
 "nbformat_minor": 4
}
