{
 "cells": [
  {
   "cell_type": "code",
   "execution_count": null,
   "id": "2faa4725-dc21-4a93-919f-cc5964ffcb03",
   "metadata": {},
   "outputs": [],
   "source": [
    "import numpy as np\n",
    "import pandas as pd\n",
    "import matplotlib\n",
    "import matplotlib.pyplot as plt\n",
    "import seaborn as sns\n",
    "%matplotlib inline        "
   ]
  },
  {
   "cell_type": "code",
   "execution_count": 5,
   "id": "c2af9b54-f20c-41b8-8651-26dd314d064e",
   "metadata": {},
   "outputs": [
    {
     "data": {
      "text/plain": [
       "'\\n    def __init__(self, models, params):\\n        if not set(models.keys()).issubset(set(params.keys())):\\n            missing_params = list(set(models.keys()) - set(params.keys()))\\n            raise ValueError(\"Some estimators are missing parameters: %s\" % missing_params)\\n        self.models = models\\n        self.params = params\\n        self.keys = models.keys()\\n        self.grid_searches = {}\\n    \\n    def fit(self, X, y, cv=3, n_jobs=3, verbose=1, scoring=None, refit=False):\\n        for key in self.keys:\\n            print(\"Running GridSearchCV for %s.\" % key)\\n            model = self.models[key]\\n            params = self.params[key]\\n            gs = GridSearchCV(model, params, cv=cv, n_jobs=n_jobs,\\n                              verbose=verbose, scoring=scoring, refit=refit,\\n                              return_train_score=True)\\n            gs.fit(X,y)\\n            self.grid_searches[key] = gs    \\n\\n    def score_summary(self, sort_by=\\'mean_score\\'):\\n        def row(key, scores, params):\\n            d = {\\n                 \\'estimator\\': key,\\n                 \\'min_score\\': min(scores),\\n                 \\'max_score\\': max(scores),\\n                 \\'mean_score\\': np.mean(scores),\\n                 \\'std_score\\': np.std(scores),\\n            }\\n            return pd.Series({**params,**d})\\n\\n        rows = []\\n        for k in self.grid_searches:\\n            print(k)\\n            params = self.grid_searches[k].cv_results_[\\'params\\']\\n            scores = []\\n            for i in range(self.grid_searches[k].cv):\\n                key = \"split{}_test_score\".format(i)\\n                r = self.grid_searches[k].cv_results_[key]        \\n                scores.append(r.reshape(len(params),1))\\n\\n            all_scores = np.hstack(scores)\\n            for p, s in zip(params,all_scores):\\n                rows.append((row(k, s, p)))\\n\\n        df = pd.concat(rows, axis=1).T.sort_values([sort_by], ascending=False)\\n\\n        columns = [\\'estimator\\', \\'min_score\\', \\'mean_score\\', \\'max_score\\', \\'std_score\\']\\n        columns = columns + [c for c in df.columns if c not in columns]\\n\\n        return df[columns]    \\n    '"
      ]
     },
     "execution_count": 5,
     "metadata": {},
     "output_type": "execute_result"
    }
   ],
   "source": [
    "#def load_data(url='https://raw.githubusercontent.com/quickheaven/scs-3253-machine-learning/master/datasets/ISCX-URL2016_All.csv'):\n",
    "    #local_path = 'D:/Google Drive/Colab Notebooks/SCS_3253_047_Machine_Learning/Term_Project/datasets/ISCX-URL2016_All.csv'\n",
    "from sklearn.model_selection import GridSearchCV\n",
    "\n",
    "class UrlProber:\n",
    "    \n",
    "    def load_data():\n",
    "        print('loading the data')\n",
    "    \n",
    "'''\n",
    "    def __init__(self, models, params):\n",
    "        if not set(models.keys()).issubset(set(params.keys())):\n",
    "            missing_params = list(set(models.keys()) - set(params.keys()))\n",
    "            raise ValueError(\"Some estimators are missing parameters: %s\" % missing_params)\n",
    "        self.models = models\n",
    "        self.params = params\n",
    "        self.keys = models.keys()\n",
    "        self.grid_searches = {}\n",
    "    \n",
    "    def fit(self, X, y, cv=3, n_jobs=3, verbose=1, scoring=None, refit=False):\n",
    "        for key in self.keys:\n",
    "            print(\"Running GridSearchCV for %s.\" % key)\n",
    "            model = self.models[key]\n",
    "            params = self.params[key]\n",
    "            gs = GridSearchCV(model, params, cv=cv, n_jobs=n_jobs,\n",
    "                              verbose=verbose, scoring=scoring, refit=refit,\n",
    "                              return_train_score=True)\n",
    "            gs.fit(X,y)\n",
    "            self.grid_searches[key] = gs    \n",
    "\n",
    "    def score_summary(self, sort_by='mean_score'):\n",
    "        def row(key, scores, params):\n",
    "            d = {\n",
    "                 'estimator': key,\n",
    "                 'min_score': min(scores),\n",
    "                 'max_score': max(scores),\n",
    "                 'mean_score': np.mean(scores),\n",
    "                 'std_score': np.std(scores),\n",
    "            }\n",
    "            return pd.Series({**params,**d})\n",
    "\n",
    "        rows = []\n",
    "        for k in self.grid_searches:\n",
    "            print(k)\n",
    "            params = self.grid_searches[k].cv_results_['params']\n",
    "            scores = []\n",
    "            for i in range(self.grid_searches[k].cv):\n",
    "                key = \"split{}_test_score\".format(i)\n",
    "                r = self.grid_searches[k].cv_results_[key]        \n",
    "                scores.append(r.reshape(len(params),1))\n",
    "\n",
    "            all_scores = np.hstack(scores)\n",
    "            for p, s in zip(params,all_scores):\n",
    "                rows.append((row(k, s, p)))\n",
    "\n",
    "        df = pd.concat(rows, axis=1).T.sort_values([sort_by], ascending=False)\n",
    "\n",
    "        columns = ['estimator', 'min_score', 'mean_score', 'max_score', 'std_score']\n",
    "        columns = columns + [c for c in df.columns if c not in columns]\n",
    "\n",
    "        return df[columns]    \n",
    "    '''"
   ]
  },
  {
   "cell_type": "code",
   "execution_count": null,
   "id": "b5143a0b-9b09-44dd-b25c-18a6e4586806",
   "metadata": {},
   "outputs": [],
   "source": []
  },
  {
   "cell_type": "code",
   "execution_count": null,
   "id": "70cd3ccc-9e17-4707-9c9d-591481d51d61",
   "metadata": {},
   "outputs": [],
   "source": []
  }
 ],
 "metadata": {
  "kernelspec": {
   "display_name": "Python 3",
   "language": "python",
   "name": "python3"
  },
  "language_info": {
   "codemirror_mode": {
    "name": "ipython",
    "version": 3
   },
   "file_extension": ".py",
   "mimetype": "text/x-python",
   "name": "python",
   "nbconvert_exporter": "python",
   "pygments_lexer": "ipython3",
   "version": "3.8.8"
  }
 },
 "nbformat": 4,
 "nbformat_minor": 5
}
