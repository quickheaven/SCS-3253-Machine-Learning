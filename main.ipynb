{
 "cells": [
  {
   "cell_type": "markdown",
   "id": "d00a7043-6d04-4e3f-90bd-1fa357e69906",
   "metadata": {},
   "source": [
    "# Detection and Categorization of Malicious URL"
   ]
  },
  {
   "cell_type": "markdown",
   "id": "02ee407d-49fb-4313-a472-7f8a416406d5",
   "metadata": {},
   "source": [
    "Part I - Import the data and prepare it for modelling"
   ]
  },
  {
   "cell_type": "markdown",
   "id": "48ab2bb6-7760-429d-a0a3-927955e9ab37",
   "metadata": {},
   "source": [
    "Part II - Train and evaluate the model"
   ]
  }
 ],
 "metadata": {
  "kernelspec": {
   "display_name": "Python 3",
   "language": "python",
   "name": "python3"
  },
  "language_info": {
   "codemirror_mode": {
    "name": "ipython",
    "version": 3
   },
   "file_extension": ".py",
   "mimetype": "text/x-python",
   "name": "python",
   "nbconvert_exporter": "python",
   "pygments_lexer": "ipython3",
   "version": "3.8.8"
  }
 },
 "nbformat": 4,
 "nbformat_minor": 5
}
