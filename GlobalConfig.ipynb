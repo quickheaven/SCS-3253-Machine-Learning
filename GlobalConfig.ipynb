{
 "cells": [
  {
   "cell_type": "code",
   "execution_count": 1,
   "id": "6a221912-0460-4a63-992f-cfab08126352",
   "metadata": {},
   "outputs": [
    {
     "name": "stdout",
     "output_type": "stream",
     "text": [
      "Setting global variables...\n"
     ]
    }
   ],
   "source": [
    "print('Setting global variables...')"
   ]
  },
  {
   "cell_type": "code",
   "execution_count": 2,
   "id": "c717c2c9-0ac2-4c3a-84f7-ecd390ae66da",
   "metadata": {},
   "outputs": [],
   "source": [
    "DATASET_LOCAL_PATH = 'D:/Google Drive/Colab Notebooks/SCS_3253_047_Machine_Learning/scs-3253-machine-learning/datasets/ISCX-URL2016_All.csv'\n",
    "DATASET_GITHUB_URL = 'https://raw.githubusercontent.com/quickheaven/scs-3253-machine-learning/master/datasets/ISCX-URL2016_All.csv'\n",
    "Y_FEATURE = 'URL_Type_obf_Type'\n",
    "RANDOM_STATE=42\n",
    "TEST_SIZE=0.3\n",
    "MAX_DEPTH=10\n",
    "MAX_ITER=1000"
   ]
  },
  {
   "cell_type": "code",
   "execution_count": null,
   "id": "0627559a-a085-496f-908d-5a4a4a26f893",
   "metadata": {},
   "outputs": [],
   "source": []
  }
 ],
 "metadata": {
  "kernelspec": {
   "display_name": "Python 3",
   "language": "python",
   "name": "python3"
  },
  "language_info": {
   "codemirror_mode": {
    "name": "ipython",
    "version": 3
   },
   "file_extension": ".py",
   "mimetype": "text/x-python",
   "name": "python",
   "nbconvert_exporter": "python",
   "pygments_lexer": "ipython3",
   "version": "3.8.8"
  }
 },
 "nbformat": 4,
 "nbformat_minor": 5
}
