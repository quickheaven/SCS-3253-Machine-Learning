{
 "cells": [
  {
   "cell_type": "markdown",
   "id": "996f5c2d-4222-4387-98d0-d9e3425031c0",
   "metadata": {},
   "source": [
    "# Experiments"
   ]
  },
  {
   "cell_type": "markdown",
   "id": "50305838-8894-4287-8384-eb5a78caecb9",
   "metadata": {},
   "source": [
    "####  Required Python libraries"
   ]
  },
  {
   "cell_type": "code",
   "execution_count": 1,
   "id": "47a8cea5-cdf8-46c6-a672-dc3fc0ede1d1",
   "metadata": {},
   "outputs": [],
   "source": [
    "import numpy as np\n",
    "import pandas as pd\n",
    "import matplotlib\n",
    "import matplotlib.pyplot as plt\n",
    "import seaborn as sns\n",
    "%matplotlib inline"
   ]
  },
  {
   "cell_type": "code",
   "execution_count": 2,
   "id": "59959e38-c534-4a18-a7bb-c200fe222f7e",
   "metadata": {},
   "outputs": [
    {
     "name": "stdout",
     "output_type": "stream",
     "text": [
      "Requirement already satisfied: ipynb in d:\\x-20a\\anaconda3\\lib\\site-packages (0.5.1)\n"
     ]
    }
   ],
   "source": [
    "# Importing an ipynb file from another ipynb file\n",
    "!pip install ipynb"
   ]
  },
  {
   "cell_type": "code",
   "execution_count": 3,
   "id": "e7d3e0ae-8a5e-4cce-881a-bdfb94860378",
   "metadata": {},
   "outputs": [
    {
     "name": "stdout",
     "output_type": "stream",
     "text": [
      "Requirement already satisfied: nbimporter in d:\\x-20a\\anaconda3\\lib\\site-packages (0.3.4)\n"
     ]
    }
   ],
   "source": [
    "# Importing functions from another jupyter notebook\n",
    "!pip install nbimporter"
   ]
  },
  {
   "cell_type": "code",
   "execution_count": 4,
   "id": "9f7322bf-9acb-4f2b-b8fc-c94746614156",
   "metadata": {},
   "outputs": [
    {
     "name": "stdout",
     "output_type": "stream",
     "text": [
      "Setting global variables...\n"
     ]
    }
   ],
   "source": [
    "%run GlobalConfig.ipynb"
   ]
  },
  {
   "cell_type": "code",
   "execution_count": 5,
   "id": "a40c9795-1795-482e-9499-cca769792ad1",
   "metadata": {},
   "outputs": [
    {
     "name": "stdout",
     "output_type": "stream",
     "text": [
      "init Loader notebook\n"
     ]
    }
   ],
   "source": [
    "import nbimporter\n",
    "import loader_nb\n",
    "import model_selection_helper_nb\n",
    "\n",
    "loader = loader_nb.UrlDatasetLoader()"
   ]
  },
  {
   "cell_type": "code",
   "execution_count": 6,
   "id": "d6e64788-e538-4c21-a48f-f17a283dc1db",
   "metadata": {},
   "outputs": [
    {
     "name": "stdout",
     "output_type": "stream",
     "text": [
      "Help on method load_data in module loader_nb:\n",
      "\n",
      "load_data(url='https://raw.githubusercontent.com/quickheaven/scs-3253-machine-learning/master/datasets/ISCX-URL2016_All.csv') method of loader_nb.UrlDatasetLoader instance\n",
      "    (string) --> dataframe\n",
      "    \n",
      "    This function returns the dataframe of maliciours url.    \n",
      "    \n",
      "    Parameters\n",
      "    ----------\n",
      "    url: By default, it fetch the data from github otherwise a local path or url can be provided so the data can be loaded faster.\n",
      "\n"
     ]
    }
   ],
   "source": [
    "help(loader.load_data)"
   ]
  },
  {
   "cell_type": "code",
   "execution_count": 7,
   "id": "f2df0757-043c-4cdd-af9c-3c359f1d3022",
   "metadata": {},
   "outputs": [
    {
     "name": "stdout",
     "output_type": "stream",
     "text": [
      "Help on method prepare_data in module loader_nb:\n",
      "\n",
      "prepare_data(data, fill_na=True, feature_selection=True) method of loader_nb.UrlDatasetLoader instance\n",
      "    (DataFrame, boolean, boolean) --> X and y of the dataframe.\n",
      "    \n",
      "    This function returns the X and y of the malicious url dataframe.\n",
      "    \n",
      "    Parameters\n",
      "    ----------\n",
      "    fill_na : True to fill the na records with mean values otherwise drop the features.\n",
      "    \n",
      "    feature_selection : True to remove one or more features that have a correlation higher than 0.9 othewise do not perform that type of feature selection.\n",
      "                        https://towardsdatascience.com/feature-selection-correlation-and-p-value-da8921bfb3cf\n",
      "\n"
     ]
    }
   ],
   "source": [
    "help(loader.prepare_data)"
   ]
  },
  {
   "cell_type": "markdown",
   "id": "08b3a283-b1ae-4c7a-a8bc-031ca8b57c1f",
   "metadata": {},
   "source": [
    "#### Experiment: Shows how fill_na and feature_selection affects the shapes of the dataframe."
   ]
  },
  {
   "cell_type": "code",
   "execution_count": 8,
   "id": "0bf95e58-9e00-4355-9e5b-8a378c6cffab",
   "metadata": {},
   "outputs": [],
   "source": [
    "df = loader.load_data(url=DATASET_LOCAL_PATH)"
   ]
  },
  {
   "cell_type": "code",
   "execution_count": 9,
   "id": "0a102ffa-efe1-4487-8e0c-81eca9542e60",
   "metadata": {},
   "outputs": [
    {
     "name": "stdout",
     "output_type": "stream",
     "text": [
      "(36707, 51)\n",
      "(36707,)\n"
     ]
    }
   ],
   "source": [
    "X, y = loader.prepare_data(df, fill_na=True, feature_selection=True) # default\n",
    "print(X.shape)\n",
    "print(y.shape)"
   ]
  },
  {
   "cell_type": "code",
   "execution_count": 10,
   "id": "d2b249c6-ec4c-4cad-ab84-1c9dcd7966c3",
   "metadata": {},
   "outputs": [
    {
     "name": "stdout",
     "output_type": "stream",
     "text": [
      "(36707, 78)\n",
      "(36707,)\n"
     ]
    }
   ],
   "source": [
    "df = loader.load_data(url=DATASET_LOCAL_PATH)\n",
    "X, y = loader.prepare_data(df, fill_na=True, feature_selection=False)\n",
    "print(X.shape)\n",
    "print(y.shape)"
   ]
  },
  {
   "cell_type": "code",
   "execution_count": 11,
   "id": "db2e0de5-112d-460e-90b8-6cd3b4f03f69",
   "metadata": {},
   "outputs": [
    {
     "name": "stdout",
     "output_type": "stream",
     "text": [
      "(18982, 49)\n",
      "(18982,)\n"
     ]
    }
   ],
   "source": [
    "df = loader.load_data(url=DATASET_LOCAL_PATH)\n",
    "X, y = loader.prepare_data(df, fill_na=False, feature_selection=True)\n",
    "print(X.shape)\n",
    "print(y.shape)"
   ]
  },
  {
   "cell_type": "code",
   "execution_count": null,
   "id": "249b092e-61af-4d8d-a25c-411a26a2d223",
   "metadata": {},
   "outputs": [],
   "source": [
    "df = loader.load_data(url=DATASET_LOCAL_PATH)\n",
    "X, y = loader.prepare_data(df, fill_na=False, feature_selection=False)\n",
    "print(X.shape)\n",
    "print(y.shape)"
   ]
  },
  {
   "cell_type": "markdown",
   "id": "25f02857-57a2-4562-81a7-726cbc17967f",
   "metadata": {},
   "source": [
    "#### Experiment: Combinations of data cleaning (fill_na / dropna), feature selection and unsupervised anomaly detection"
   ]
  },
  {
   "cell_type": "code",
   "execution_count": 12,
   "id": "2f63a371-e6f7-49ad-a089-aa5bededaebf",
   "metadata": {},
   "outputs": [],
   "source": [
    "df = loader.load_data(DATASET_LOCAL_PATH)"
   ]
  },
  {
   "cell_type": "code",
   "execution_count": 13,
   "id": "1ea4c8e9-4c73-4a8d-955f-e7d17f05bbb8",
   "metadata": {},
   "outputs": [
    {
     "name": "stdout",
     "output_type": "stream",
     "text": [
      "Wall time: 0 ns\n"
     ]
    }
   ],
   "source": [
    "%time\n",
    "from sklearn.metrics import accuracy_score\n",
    "from sklearn.metrics import f1_score\n",
    "from sklearn.metrics import classification_report\n",
    "\n",
    "def train_and_tune_models( data, fill_na=True, feature_selection=True, anomaly_detection=True):\n",
    "    print('train_and_tune_models fill_na:', str(fill_na), 'feature_selection:', str(feature_selection), 'anomaly_detection:' + str(anomaly_detection))\n",
    "    \n",
    "    X, y = loader.prepare_data(data.copy(), fill_na=fill_na, feature_selection=feature_selection)\n",
    "    \n",
    "    from sklearn.model_selection import train_test_split    \n",
    "\n",
    "    X_train, X_test, y_train, y_test = loader.train_test_split(X, y, test_size=TEST_SIZE, random_state=RANDOM_STATE, anomaly_detection=anomaly_detection)\n",
    "    \n",
    "    models_to_train = loader.get_models_to_train()\n",
    "    parameters_to_train = loader.get_parameters_to_train(True)\n",
    "    \n",
    "    model_selection_helper = model_selection_helper_nb.ModelSelectionHelper(models_to_train, parameters_to_train)\n",
    "    \n",
    "    model_selection_helper.fit(X_train, y_train, cv=3, scoring='accuracy', verbose=2)\n",
    "    \n",
    "    data = [];\n",
    "    for key in models_to_train.keys():\n",
    "    \n",
    "        model = model_selection_helper.get_model_best_estimator(key)\n",
    "\n",
    "        model.fit(X_test, y_test)\n",
    "\n",
    "        y_pred = model.predict(X_test)\n",
    "\n",
    "        acc = accuracy_score(y_test, y_pred)\n",
    "\n",
    "        f1 = f1_score(y_test, y_pred, average='weighted')\n",
    "\n",
    "        #print('Classification Report:', key)\n",
    "        #print(classification_report(y_test, y_pred))\n",
    "\n",
    "        data.append([key, acc, f1])\n",
    "        \n",
    "    df_test = pd.DataFrame(data, columns=['Model', 'Accuracy', 'F1-score'])\n",
    "    df_test = df_test.sort_values(by='Accuracy', ascending=False)\n",
    "    \n",
    "    print(df_test)    "
   ]
  },
  {
   "cell_type": "markdown",
   "id": "481d582b-e6d2-4dd2-907e-e4d4213e3da9",
   "metadata": {},
   "source": [
    "#### Parameters: fill_na=True, feature_selection=True, anomaly_detection=True"
   ]
  },
  {
   "cell_type": "code",
   "execution_count": 14,
   "id": "789c5803-b834-4a77-8e36-ea8f7fa60be0",
   "metadata": {},
   "outputs": [
    {
     "name": "stdout",
     "output_type": "stream",
     "text": [
      "train_and_tune_models fill_na: True feature_selection: True anomaly_detection:True\n",
      "The X_train, y_train shape:\n",
      "(25694, 51)\n",
      "(25694,)\n",
      "The shape after unsupervised anomaly detection:\n",
      "(25437, 51)\n",
      "(25437,)\n",
      "The X_test, y_test shape:\n",
      "(11013, 51)\n",
      "(11013,)\n",
      "The shape after unsupervised anomaly detection:\n",
      "(10902, 51)\n",
      "(10902,)\n",
      "init model selection helper notebook\n",
      "---------------------------------------------------------------------------\n",
      "RandomForestClassifier\n",
      "Fitting 3 folds for each of 1 candidates, totalling 3 fits\n",
      "best_params_:  {'criterion': 'entropy', 'max_depth': 10, 'min_samples_leaf': 5, 'min_samples_split': 5, 'n_estimators': 200}\n",
      "best_score_:  0.9347407320045603\n",
      "---------------------------------------------------------------------------\n",
      "DecisionTreeClassifier\n",
      "Fitting 3 folds for each of 1 candidates, totalling 3 fits\n",
      "best_params_:  {'criterion': 'entropy', 'max_depth': 10, 'min_samples_leaf': 5, 'min_samples_split': 5}\n",
      "best_score_:  0.8888626803475254\n",
      "---------------------------------------------------------------------------\n",
      "LogisticRegression\n",
      "Fitting 3 folds for each of 1 candidates, totalling 3 fits\n",
      "best_params_:  {'C': 100, 'multi_class': 'ovr', 'penalty': 'l2', 'solver': 'liblinear'}\n",
      "best_score_:  0.814286275897315\n",
      "---------------------------------------------------------------------------\n",
      "AdaBoostClassifier\n",
      "Fitting 3 folds for each of 1 candidates, totalling 3 fits\n",
      "best_params_:  {'algorithm': 'SAMME', 'learning_rate': 1.0}\n",
      "best_score_:  0.6979596650548414\n",
      "---------------------------------------------------------------------------\n",
      "MultinomialNB\n",
      "Fitting 3 folds for each of 1 candidates, totalling 3 fits\n",
      "best_params_:  {'alpha': 1.0, 'class_prior': None, 'fit_prior': True}\n",
      "best_score_:  0.6230687581082676\n",
      "                    Model  Accuracy  F1-score\n",
      "0  RandomForestClassifier  0.950560  0.950964\n",
      "1  DecisionTreeClassifier  0.919464  0.920220\n",
      "2      LogisticRegression  0.816639  0.815096\n",
      "3      AdaBoostClassifier  0.698954  0.691719\n",
      "4           MultinomialNB  0.614108  0.601463\n",
      "Wall time: 1min 7s\n"
     ]
    }
   ],
   "source": [
    "%%time\n",
    "# TRUE TRUE TRUE\n",
    "train_and_tune_models(df, fill_na=True, feature_selection=True, anomaly_detection=True)"
   ]
  },
  {
   "cell_type": "markdown",
   "id": "ceef9b85-c41a-444c-a726-ae78571a1ee0",
   "metadata": {},
   "source": [
    "#### Parameters: fill_na=True, feature_selection=True, anomaly_detection=False"
   ]
  },
  {
   "cell_type": "code",
   "execution_count": 16,
   "id": "684c5f7d-6b21-4309-8f39-fc9893b50c49",
   "metadata": {},
   "outputs": [
    {
     "name": "stdout",
     "output_type": "stream",
     "text": [
      "train_and_tune_models fill_na: True feature_selection: True anomaly_detection:False\n",
      "The X_train, y_train shape:\n",
      "(25694, 51)\n",
      "(25694,)\n",
      "The X_test, y_test shape:\n",
      "(11013, 51)\n",
      "(11013,)\n",
      "init model selection helper notebook\n",
      "---------------------------------------------------------------------------\n",
      "RandomForestClassifier\n",
      "Fitting 3 folds for each of 1 candidates, totalling 3 fits\n",
      "best_params_:  {'criterion': 'entropy', 'max_depth': 10, 'min_samples_leaf': 5, 'min_samples_split': 5, 'n_estimators': 200}\n",
      "best_score_:  0.9346929439126156\n",
      "---------------------------------------------------------------------------\n",
      "DecisionTreeClassifier\n",
      "Fitting 3 folds for each of 1 candidates, totalling 3 fits\n",
      "best_params_:  {'criterion': 'entropy', 'max_depth': 10, 'min_samples_leaf': 5, 'min_samples_split': 5}\n",
      "best_score_:  0.8911807655627547\n",
      "---------------------------------------------------------------------------\n",
      "LogisticRegression\n",
      "Fitting 3 folds for each of 1 candidates, totalling 3 fits\n",
      "best_params_:  {'C': 100, 'multi_class': 'ovr', 'penalty': 'l2', 'solver': 'liblinear'}\n",
      "best_score_:  0.8137698238388947\n",
      "---------------------------------------------------------------------------\n",
      "AdaBoostClassifier\n",
      "Fitting 3 folds for each of 1 candidates, totalling 3 fits\n",
      "best_params_:  {'algorithm': 'SAMME', 'learning_rate': 1.0}\n",
      "best_score_:  0.6958045140061907\n",
      "---------------------------------------------------------------------------\n",
      "MultinomialNB\n",
      "Fitting 3 folds for each of 1 candidates, totalling 3 fits\n",
      "best_params_:  {'alpha': 1.0, 'class_prior': None, 'fit_prior': True}\n",
      "best_score_:  0.6217405587534364\n",
      "                    Model  Accuracy  F1-score\n",
      "0  RandomForestClassifier  0.951149  0.951537\n",
      "1  DecisionTreeClassifier  0.916281  0.915891\n",
      "2      LogisticRegression  0.815582  0.813931\n",
      "3      AdaBoostClassifier  0.687460  0.681489\n",
      "4           MultinomialNB  0.613911  0.602217\n",
      "Wall time: 1min\n"
     ]
    }
   ],
   "source": [
    "%%time\n",
    "# TRUE TRUE FALSE\n",
    "train_and_tune_models(df, fill_na=True, feature_selection=True, anomaly_detection=False)"
   ]
  },
  {
   "cell_type": "markdown",
   "id": "a306530e-2666-48d7-adb5-71d392606b3a",
   "metadata": {},
   "source": [
    "#### Parameters: fill_na=True, feature_selection=False, anomaly_detection=True"
   ]
  },
  {
   "cell_type": "code",
   "execution_count": 18,
   "id": "4c164608-3176-40f1-8500-2590193fa02b",
   "metadata": {},
   "outputs": [
    {
     "name": "stdout",
     "output_type": "stream",
     "text": [
      "train_and_tune_models fill_na: True feature_selection: False anomaly_detection:False\n",
      "The X_train, y_train shape:\n",
      "(25694, 78)\n",
      "(25694,)\n",
      "The X_test, y_test shape:\n",
      "(11013, 78)\n",
      "(11013,)\n",
      "init model selection helper notebook\n",
      "---------------------------------------------------------------------------\n",
      "RandomForestClassifier\n",
      "Fitting 3 folds for each of 1 candidates, totalling 3 fits\n",
      "best_params_:  {'criterion': 'entropy', 'max_depth': 10, 'min_samples_leaf': 5, 'min_samples_split': 5, 'n_estimators': 200}\n",
      "best_score_:  0.9311123399116882\n",
      "---------------------------------------------------------------------------\n",
      "DecisionTreeClassifier\n",
      "Fitting 3 folds for each of 1 candidates, totalling 3 fits\n",
      "best_params_:  {'criterion': 'entropy', 'max_depth': 10, 'min_samples_leaf': 5, 'min_samples_split': 5}\n",
      "best_score_:  0.8972518765793428\n",
      "---------------------------------------------------------------------------\n",
      "LogisticRegression\n",
      "Fitting 3 folds for each of 1 candidates, totalling 3 fits\n",
      "best_params_:  {'C': 100, 'multi_class': 'ovr', 'penalty': 'l2', 'solver': 'liblinear'}\n",
      "best_score_:  0.8256013556433347\n",
      "---------------------------------------------------------------------------\n",
      "AdaBoostClassifier\n",
      "Fitting 3 folds for each of 1 candidates, totalling 3 fits\n",
      "best_params_:  {'algorithm': 'SAMME', 'learning_rate': 1.0}\n",
      "best_score_:  0.7099315670779239\n",
      "---------------------------------------------------------------------------\n",
      "MultinomialNB\n",
      "Fitting 3 folds for each of 1 candidates, totalling 3 fits\n",
      "best_params_:  {'alpha': 1.0, 'class_prior': None, 'fit_prior': True}\n",
      "best_score_:  0.5994395778670113\n",
      "                    Model  Accuracy  F1-score\n",
      "0  RandomForestClassifier  0.949151  0.949463\n",
      "1  DecisionTreeClassifier  0.914646  0.914902\n",
      "2      LogisticRegression  0.828203  0.826937\n",
      "3      AdaBoostClassifier  0.719423  0.715303\n",
      "4           MultinomialNB  0.593662  0.578239\n",
      "Wall time: 1min 25s\n"
     ]
    }
   ],
   "source": [
    "%%time\n",
    "# TRUE FALSE FALSE\n",
    "train_and_tune_models(df, fill_na=True, feature_selection=False, anomaly_detection=False)"
   ]
  },
  {
   "cell_type": "markdown",
   "id": "388bb13b-affb-4b37-ae26-a6058c6b2a5a",
   "metadata": {},
   "source": [
    "#### Parameters: fill_na=False, feature_selection=False, anomaly_detection=False"
   ]
  },
  {
   "cell_type": "code",
   "execution_count": 20,
   "id": "830d6971-58bc-419d-9242-34499e6cbee8",
   "metadata": {},
   "outputs": [
    {
     "name": "stdout",
     "output_type": "stream",
     "text": [
      "train_and_tune_models fill_na: False feature_selection: False anomaly_detection:False\n",
      "The X_train, y_train shape:\n",
      "(13287, 78)\n",
      "(13287,)\n",
      "The X_test, y_test shape:\n",
      "(5695, 78)\n",
      "(5695,)\n",
      "init model selection helper notebook\n",
      "---------------------------------------------------------------------------\n",
      "RandomForestClassifier\n",
      "Fitting 3 folds for each of 1 candidates, totalling 3 fits\n",
      "best_params_:  {'criterion': 'entropy', 'max_depth': 10, 'min_samples_leaf': 5, 'min_samples_split': 5, 'n_estimators': 200}\n",
      "best_score_:  0.9371566192519003\n",
      "---------------------------------------------------------------------------\n",
      "DecisionTreeClassifier\n",
      "Fitting 3 folds for each of 1 candidates, totalling 3 fits\n",
      "best_params_:  {'criterion': 'entropy', 'max_depth': 10, 'min_samples_leaf': 5, 'min_samples_split': 5}\n",
      "best_score_:  0.9071272672537066\n",
      "---------------------------------------------------------------------------\n",
      "LogisticRegression\n",
      "Fitting 3 folds for each of 1 candidates, totalling 3 fits\n",
      "best_params_:  {'C': 100, 'multi_class': 'ovr', 'penalty': 'l2', 'solver': 'liblinear'}\n",
      "best_score_:  0.8679160081282457\n",
      "---------------------------------------------------------------------------\n",
      "AdaBoostClassifier\n",
      "Fitting 3 folds for each of 1 candidates, totalling 3 fits\n",
      "best_params_:  {'algorithm': 'SAMME', 'learning_rate': 1.0}\n",
      "best_score_:  0.7494543538797321\n",
      "---------------------------------------------------------------------------\n",
      "MultinomialNB\n",
      "Fitting 3 folds for each of 1 candidates, totalling 3 fits\n",
      "best_params_:  {'alpha': 1.0, 'class_prior': None, 'fit_prior': True}\n",
      "best_score_:  0.5465492586738918\n",
      "                    Model  Accuracy  F1-score\n",
      "0  RandomForestClassifier  0.956102  0.956531\n",
      "1  DecisionTreeClassifier  0.927656  0.927307\n",
      "2      LogisticRegression  0.870413  0.870202\n",
      "3      AdaBoostClassifier  0.765935  0.765192\n",
      "4           MultinomialNB  0.564530  0.557751\n",
      "Wall time: 39.2 s\n"
     ]
    }
   ],
   "source": [
    "%%time\n",
    "# FALSE FALSE FALSE\n",
    "train_and_tune_models(df, fill_na=False, feature_selection=False, anomaly_detection=False)"
   ]
  },
  {
   "cell_type": "markdown",
   "id": "37a714af-fa81-414d-94a4-8680fc5ed325",
   "metadata": {},
   "source": [
    "#### Parameters: fill_na=False, feature_selection=True, anomaly_detection=True"
   ]
  },
  {
   "cell_type": "code",
   "execution_count": 22,
   "id": "7720271f-d21d-4d18-b8c0-e53728eff384",
   "metadata": {},
   "outputs": [
    {
     "name": "stdout",
     "output_type": "stream",
     "text": [
      "train_and_tune_models fill_na: False feature_selection: True anomaly_detection:True\n",
      "The X_train, y_train shape:\n",
      "(13287, 49)\n",
      "(13287,)\n",
      "The shape after unsupervised anomaly detection:\n",
      "(13155, 49)\n",
      "(13155,)\n",
      "The X_test, y_test shape:\n",
      "(5695, 49)\n",
      "(5695,)\n",
      "The shape after unsupervised anomaly detection:\n",
      "(5638, 49)\n",
      "(5638,)\n",
      "init model selection helper notebook\n",
      "---------------------------------------------------------------------------\n",
      "RandomForestClassifier\n",
      "Fitting 3 folds for each of 1 candidates, totalling 3 fits\n",
      "best_params_:  {'criterion': 'entropy', 'max_depth': 10, 'min_samples_leaf': 5, 'min_samples_split': 5, 'n_estimators': 200}\n",
      "best_score_:  0.9341695172938046\n",
      "---------------------------------------------------------------------------\n",
      "DecisionTreeClassifier\n",
      "Fitting 3 folds for each of 1 candidates, totalling 3 fits\n",
      "best_params_:  {'criterion': 'entropy', 'max_depth': 10, 'min_samples_leaf': 5, 'min_samples_split': 5}\n",
      "best_score_:  0.8932725199543899\n",
      "---------------------------------------------------------------------------\n",
      "LogisticRegression\n",
      "Fitting 3 folds for each of 1 candidates, totalling 3 fits\n",
      "best_params_:  {'C': 100, 'multi_class': 'ovr', 'penalty': 'l2', 'solver': 'liblinear'}\n",
      "best_score_:  0.852299505891296\n",
      "---------------------------------------------------------------------------\n",
      "AdaBoostClassifier\n",
      "Fitting 3 folds for each of 1 candidates, totalling 3 fits\n",
      "best_params_:  {'algorithm': 'SAMME', 'learning_rate': 1.0}\n",
      "best_score_:  0.7479285442797415\n",
      "---------------------------------------------------------------------------\n",
      "MultinomialNB\n",
      "Fitting 3 folds for each of 1 candidates, totalling 3 fits\n",
      "best_params_:  {'alpha': 1.0, 'class_prior': None, 'fit_prior': True}\n",
      "best_score_:  0.5498289623717217\n",
      "                    Model  Accuracy  F1-score\n",
      "0  RandomForestClassifier  0.954949  0.955551\n",
      "1  DecisionTreeClassifier  0.907059  0.907360\n",
      "2      LogisticRegression  0.851720  0.851052\n",
      "3      AdaBoostClassifier  0.733771  0.730700\n",
      "4           MultinomialNB  0.557999  0.514283\n",
      "Wall time: 27.9 s\n"
     ]
    }
   ],
   "source": [
    "%%time\n",
    "# FALSE TRUE TRUE\n",
    "train_and_tune_models(df, fill_na=False, feature_selection=True, anomaly_detection=True)"
   ]
  },
  {
   "cell_type": "markdown",
   "id": "6628d1a2-3c5b-46b6-b823-16da082a1c26",
   "metadata": {},
   "source": [
    "#### Parameters: fill_na=False, feature_selection=False, anomaly_detection=True"
   ]
  },
  {
   "cell_type": "code",
   "execution_count": 24,
   "id": "831dba15-b6a1-4037-a190-69e68b82e7c4",
   "metadata": {},
   "outputs": [
    {
     "name": "stdout",
     "output_type": "stream",
     "text": [
      "train_and_tune_models fill_na: False feature_selection: False anomaly_detection:True\n",
      "The X_train, y_train shape:\n",
      "(13287, 78)\n",
      "(13287,)\n",
      "The shape after unsupervised anomaly detection:\n",
      "(13154, 78)\n",
      "(13154,)\n",
      "The X_test, y_test shape:\n",
      "(5695, 78)\n",
      "(5695,)\n",
      "The shape after unsupervised anomaly detection:\n",
      "(5638, 78)\n",
      "(5638,)\n",
      "init model selection helper notebook\n",
      "---------------------------------------------------------------------------\n",
      "RandomForestClassifier\n",
      "Fitting 3 folds for each of 1 candidates, totalling 3 fits\n",
      "best_params_:  {'criterion': 'entropy', 'max_depth': 10, 'min_samples_leaf': 5, 'min_samples_split': 5, 'n_estimators': 200}\n",
      "best_score_:  0.9334806850937865\n",
      "---------------------------------------------------------------------------\n",
      "DecisionTreeClassifier\n",
      "Fitting 3 folds for each of 1 candidates, totalling 3 fits\n",
      "best_params_:  {'criterion': 'entropy', 'max_depth': 10, 'min_samples_leaf': 5, 'min_samples_split': 5}\n",
      "best_score_:  0.9056560153087695\n",
      "---------------------------------------------------------------------------\n",
      "LogisticRegression\n",
      "Fitting 3 folds for each of 1 candidates, totalling 3 fits\n",
      "best_params_:  {'C': 100, 'multi_class': 'ovr', 'penalty': 'l2', 'solver': 'liblinear'}\n",
      "best_score_:  0.8670363812155463\n",
      "---------------------------------------------------------------------------\n",
      "AdaBoostClassifier\n",
      "Fitting 3 folds for each of 1 candidates, totalling 3 fits\n",
      "best_params_:  {'algorithm': 'SAMME', 'learning_rate': 1.0}\n",
      "best_score_:  0.7430444697833524\n",
      "---------------------------------------------------------------------------\n",
      "MultinomialNB\n",
      "Fitting 3 folds for each of 1 candidates, totalling 3 fits\n",
      "best_params_:  {'alpha': 1.0, 'class_prior': None, 'fit_prior': True}\n",
      "best_score_:  0.534742590450191\n",
      "                    Model  Accuracy  F1-score\n",
      "0  RandomForestClassifier  0.958141  0.958528\n",
      "1  DecisionTreeClassifier  0.926215  0.925967\n",
      "2      LogisticRegression  0.869457  0.869271\n",
      "3      AdaBoostClassifier  0.771905  0.768618\n",
      "4           MultinomialNB  0.556758  0.544817\n",
      "Wall time: 42 s\n"
     ]
    }
   ],
   "source": [
    "%%time\n",
    "# FALSE FALSE TRUE\n",
    "train_and_tune_models(df, fill_na=False, feature_selection=False, anomaly_detection=True)"
   ]
  },
  {
   "cell_type": "code",
   "execution_count": null,
   "id": "931bd333-5e76-4562-9644-10add110eac1",
   "metadata": {},
   "outputs": [],
   "source": []
  },
  {
   "cell_type": "markdown",
   "id": "c1a449c4-7b55-4746-87f9-8d6574b7ae2b",
   "metadata": {},
   "source": [
    "#### Isolation Forest\n",
    "The data is pretty already clean hence there is only a small amount of outliers. Because of that I will simply use contamination=0.2"
   ]
  },
  {
   "cell_type": "code",
   "execution_count": 25,
   "id": "aca27fd1-caaf-4f54-be90-3d857bd7280c",
   "metadata": {},
   "outputs": [
    {
     "name": "stdout",
     "output_type": "stream",
     "text": [
      "The X_train, y_train shape:\n",
      "(25694, 51)\n",
      "(25694,)\n",
      "The shape after unsupervised anomaly detection:\n",
      "(25437, 51)\n",
      "(25437,)\n",
      "The X_test, y_test shape:\n",
      "(11013, 51)\n",
      "(11013,)\n",
      "The shape after unsupervised anomaly detection:\n",
      "(10902, 51)\n",
      "(10902,)\n"
     ]
    }
   ],
   "source": [
    "df = loader.load_data(url=DATASET_LOCAL_PATH)\n",
    "X, y = loader.prepare_data(df)\n",
    "\n",
    "X_train, X_test, y_train, y_test = loader.train_test_split(X, y, test_size=TEST_SIZE, random_state=RANDOM_STATE)"
   ]
  },
  {
   "cell_type": "code",
   "execution_count": 26,
   "id": "c1c80d4a-1104-41c7-a55d-6e8a998739fa",
   "metadata": {},
   "outputs": [
    {
     "name": "stdout",
     "output_type": "stream",
     "text": [
      "Wall time: 0 ns\n"
     ]
    },
    {
     "data": {
      "text/plain": [
       "'\\nfrom sklearn import model_selection\\n\\nmodel = IsolationForest(random_state=RANDOM_STATE)\\n\\nparam_grid = {\\n              #\\'n_estimators\\': [1000, 1500], \\n              #\\'max_samples\\': [10], \\n              #\\'contamination\\': [\\'auto\\', 0.01, 0.02, 0.03, 0.04, 0.05, 0.10, 0.20], \\n              \\'contamination\\': [0.04, 0.05, 0.10, 0.20], \\n              #\\'max_features\\': [10, 15], \\n              #\\'bootstrap\\': [True], \\n              #\\'n_jobs\\': [-1]\\n            }\\n\\ngrid_search = model_selection.GridSearchCV(model, \\n                                           param_grid,\\n                                           scoring=\"neg_mean_squared_error\", \\n                                           refit=True,\\n                                           cv=5, \\n                                           return_train_score=True,\\n                                           verbose=2)\\ngrid_search.fit(X_train, y_train)\\n\\nbest_model = grid_search.fit(X_train, y_train)\\n\\nprint(\\'Optimum parameters\\', best_model.best_params_)\\n\\n#Optimum parameters {\\'bootstrap\\': True, \\'contamination\\': 0.0001, \\'max_features\\': 10, \\'max_samples\\': 10, \\'n_estimators\\': 1500, \\'n_jobs\\': -1}\\n#Wall time: 1h 2min 32s\\n'"
      ]
     },
     "execution_count": 26,
     "metadata": {},
     "output_type": "execute_result"
    }
   ],
   "source": [
    "%%time\n",
    "#https://medium.com/analytics-vidhya/anomaly-detection-using-isolation-forest-algorithm-8cf36c38d6f7\n",
    "#https://practicaldatascience.co.uk/machine-learning/how-to-use-the-isolation-forest-model-for-outlier-detection\n",
    "#https://medium.com/@y.s.yoon/isolation-forest-anomaly-detection-identify-outliers-101123a9ff63\n",
    "'''\n",
    "from sklearn import model_selection\n",
    "\n",
    "model = IsolationForest(random_state=RANDOM_STATE)\n",
    "\n",
    "param_grid = {\n",
    "              #'n_estimators': [1000, 1500], \n",
    "              #'max_samples': [10], \n",
    "              #'contamination': ['auto', 0.01, 0.02, 0.03, 0.04, 0.05, 0.10, 0.20], \n",
    "              'contamination': [0.04, 0.05, 0.10, 0.20], \n",
    "              #'max_features': [10, 15], \n",
    "              #'bootstrap': [True], \n",
    "              #'n_jobs': [-1]\n",
    "            }\n",
    "\n",
    "grid_search = model_selection.GridSearchCV(model, \n",
    "                                           param_grid,\n",
    "                                           scoring=\"neg_mean_squared_error\", \n",
    "                                           refit=True,\n",
    "                                           cv=5, \n",
    "                                           return_train_score=True,\n",
    "                                           verbose=2)\n",
    "grid_search.fit(X_train, y_train)\n",
    "\n",
    "best_model = grid_search.fit(X_train, y_train)\n",
    "\n",
    "print('Optimum parameters', best_model.best_params_)\n",
    "\n",
    "#Optimum parameters {'bootstrap': True, 'contamination': 0.0001, 'max_features': 10, 'max_samples': 10, 'n_estimators': 1500, 'n_jobs': -1}\n",
    "#Wall time: 1h 2min 32s\n",
    "'''"
   ]
  },
  {
   "cell_type": "code",
   "execution_count": 28,
   "id": "ada42626-9127-4b60-9dd5-4dd9d65265ca",
   "metadata": {},
   "outputs": [
    {
     "data": {
      "image/png": "[encoded data removed]",
      "text/plain": [
       "<Figure size 576x432 with 1 Axes>"
      ]
     },
     "metadata": {
      "needs_background": "light"
     },
     "output_type": "display_data"
    }
   ],
   "source": [
    "from sklearn.ensemble import IsolationForest\n",
    "iso_Forest = IsolationForest(random_state=RANDOM_STATE, contamination=0.2)\n",
    "\n",
    "iso_Forest.fit(X_train)\n",
    "\n",
    "scores =  iso_Forest.decision_function(X_train)\n",
    "\n",
    "plt.figure(figsize=(8, 6))\n",
    "\n",
    "plt.hist(scores, bins=50);"
   ]
  },
  {
   "cell_type": "markdown",
   "id": "b83480ef-cda5-4ddb-9ee6-d4879252e447",
   "metadata": {},
   "source": [
    "#### Naive Bayes"
   ]
  },
  {
   "cell_type": "code",
   "execution_count": 29,
   "id": "48b12142-b70d-4b58-b99f-c7f5778c9d1b",
   "metadata": {},
   "outputs": [
    {
     "name": "stdout",
     "output_type": "stream",
     "text": [
      "The X_train, y_train shape:\n",
      "(25694, 51)\n",
      "(25694,)\n",
      "The shape after unsupervised anomaly detection:\n",
      "(25437, 51)\n",
      "(25437,)\n",
      "The X_test, y_test shape:\n",
      "(11013, 51)\n",
      "(11013,)\n",
      "The shape after unsupervised anomaly detection:\n",
      "(10902, 51)\n",
      "(10902,)\n"
     ]
    }
   ],
   "source": [
    "df = loader.load_data(url=DATASET_LOCAL_PATH)\n",
    "X, y = loader.prepare_data(df)\n",
    "\n",
    "X_train, X_test, y_train, y_test = loader.train_test_split(X, y, test_size=TEST_SIZE, random_state=RANDOM_STATE)"
   ]
  },
  {
   "cell_type": "code",
   "execution_count": 30,
   "id": "af914cff-ce17-4094-ba4a-3801fd07a454",
   "metadata": {},
   "outputs": [
    {
     "name": "stdout",
     "output_type": "stream",
     "text": [
      "init model selection helper notebook\n"
     ]
    }
   ],
   "source": [
    "from sklearn.naive_bayes import GaussianNB\n",
    "from sklearn.naive_bayes import MultinomialNB\n",
    "# https://www.kaggle.com/code/akshaysharma001/naive-bayes-with-hyperpameter-tuning/notebook\n",
    "\n",
    "#models_to_train = loader.get_models_to_train()\n",
    "#parameters_to_train = loader.get_parameters_to_train(is_best_params=True)\n",
    "\n",
    "models_to_train = dict()\n",
    "models_to_train['GaussianNB'] = GaussianNB()\n",
    "models_to_train['MultinomialNB'] = MultinomialNB()\n",
    "\n",
    "params_gnb = dict()\n",
    "params_mnb = dict()\n",
    "params_mnb['alpha']=[0.50, 1.0, 2.0] \n",
    "#params_mnb['class_prior']=[None] \n",
    "params_mnb['fit_prior']=[True, False]\n",
    "\n",
    "parameters_to_train = dict()\n",
    "parameters_to_train['GaussianNB'] = params_gnb\n",
    "parameters_to_train['MultinomialNB'] = params_mnb\n",
    "\n",
    "model_selection_helper = model_selection_helper_nb.ModelSelectionHelper(models_to_train, parameters_to_train)"
   ]
  },
  {
   "cell_type": "code",
   "execution_count": 31,
   "id": "616b41a7-1b29-4cdf-990a-fa87c038a92b",
   "metadata": {},
   "outputs": [
    {
     "name": "stdout",
     "output_type": "stream",
     "text": [
      "---------------------------------------------------------------------------\n",
      "GaussianNB\n",
      "Fitting 2 folds for each of 1 candidates, totalling 2 fits\n",
      "best_params_:  {}\n",
      "best_score_:  0.5629200591824041\n",
      "---------------------------------------------------------------------------\n",
      "MultinomialNB\n",
      "Fitting 2 folds for each of 6 candidates, totalling 12 fits\n",
      "best_params_:  {'alpha': 1.0, 'fit_prior': False}\n",
      "best_score_:  0.6267248536880898\n",
      "Wall time: 779 ms\n"
     ]
    }
   ],
   "source": [
    "%%time\n",
    "\n",
    "model_selection_helper.fit(X_train, y_train, cv=2, scoring='accuracy', verbose=2)"
   ]
  },
  {
   "cell_type": "markdown",
   "id": "dd4ca9d2-c687-440b-93ff-46e636de6944",
   "metadata": {},
   "source": [
    "#### Gradient Boosting"
   ]
  },
  {
   "cell_type": "code",
   "execution_count": 32,
   "id": "55e08ea8-c1cc-466a-9301-053acd847bf2",
   "metadata": {},
   "outputs": [
    {
     "name": "stdout",
     "output_type": "stream",
     "text": [
      "The X_train, y_train shape:\n",
      "(25694, 51)\n",
      "(25694,)\n",
      "The shape after unsupervised anomaly detection:\n",
      "(25437, 51)\n",
      "(25437,)\n",
      "The X_test, y_test shape:\n",
      "(11013, 51)\n",
      "(11013,)\n",
      "The shape after unsupervised anomaly detection:\n",
      "(10902, 51)\n",
      "(10902,)\n"
     ]
    }
   ],
   "source": [
    "df = loader.load_data(url=DATASET_LOCAL_PATH)\n",
    "X, y = loader.prepare_data(df)\n",
    "\n",
    "X_train, X_test, y_train, y_test = loader.train_test_split(X, y, test_size=TEST_SIZE, random_state=RANDOM_STATE)\n"
   ]
  },
  {
   "cell_type": "code",
   "execution_count": 33,
   "id": "0864bce0-5d0a-4641-82e8-2f249f60f4b6",
   "metadata": {},
   "outputs": [
    {
     "name": "stdout",
     "output_type": "stream",
     "text": [
      "init model selection helper notebook\n"
     ]
    }
   ],
   "source": [
    "from sklearn.ensemble import GradientBoostingClassifier\n",
    "\n",
    "gradient_boosting_clf = GradientBoostingClassifier(random_state=RANDOM_STATE)\n",
    "\n",
    "models_to_train = dict()\n",
    "models_to_train['GradientBoostingClassifier'] = gradient_boosting_clf\n",
    "\n",
    "params_gra = dict()\n",
    "#paams_gra['learning_rate'] = [0.001, 0.01, 0.1] # 0.1\n",
    "#params_gra['n_estimators'] = [100, 1000]  no significant impact\n",
    "#arams_gra['subsample'] = [0.5, 0.7, 1.0] # 1.0\n",
    "#arams_gra['max_depth'] = [3, 7, 9] # 9\n",
    "#params_gra['criterion']= ['friedman_mse']\n",
    "#params_gra['max_depth']= [2, 3, 4]           # default: 3\n",
    "#params_gra['max_leaf_nodes']=[10, 20, 30]   #\n",
    "#params_gra['min_samples_leaf']=[1, 2, 3]    # default: 1\n",
    "#params_gra['min_samples_split']=[1, 2, 3]    # default: 2     \n",
    "\n",
    "#parameters_to_train = dict()\n",
    "#parameters_to_train['GradientBoostingClassifier'] = params_gra\n",
    "\n",
    "model_selection_helper = model_selection_helper_nb.ModelSelectionHelper(models_to_train, parameters_to_train)"
   ]
  },
  {
   "cell_type": "code",
   "execution_count": 34,
   "id": "999ea1c6-c4e0-4a68-992c-03271e676f49",
   "metadata": {},
   "outputs": [
    {
     "name": "stdout",
     "output_type": "stream",
     "text": [
      "Wall time: 0 ns\n"
     ]
    }
   ],
   "source": [
    "%%time\n",
    "\n",
    "# model_selection_helper.fit(X_train, y_train, cv=5, scoring='accuracy', verbose=2) # slow to run"
   ]
  },
  {
   "cell_type": "code",
   "execution_count": null,
   "id": "778efe17-fd41-43c9-b8f0-7affcd6d036d",
   "metadata": {},
   "outputs": [],
   "source": []
  },
  {
   "cell_type": "code",
   "execution_count": null,
   "id": "312191eb-2660-4fea-ac16-0f07ed6370cf",
   "metadata": {},
   "outputs": [],
   "source": []
  },
  {
   "cell_type": "code",
   "execution_count": null,
   "id": "8edc0690-89e3-4b4c-a6f0-ddceb6ac46f3",
   "metadata": {},
   "outputs": [],
   "source": []
  },
  {
   "cell_type": "code",
   "execution_count": null,
   "id": "46c458c0-2d83-48e7-9965-19df8a2aac57",
   "metadata": {},
   "outputs": [],
   "source": []
  }
 ],
 "metadata": {
  "kernelspec": {
   "display_name": "Python 3",
   "language": "python",
   "name": "python3"
  },
  "language_info": {
   "codemirror_mode": {
    "name": "ipython",
    "version": 3
   },
   "file_extension": ".py",
   "mimetype": "text/x-python",
   "name": "python",
   "nbconvert_exporter": "python",
   "pygments_lexer": "ipython3",
   "version": "3.8.8"
  }
 },
 "nbformat": 4,
 "nbformat_minor": 5
}
