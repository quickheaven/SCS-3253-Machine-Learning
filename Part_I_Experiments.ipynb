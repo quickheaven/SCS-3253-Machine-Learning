{
 "cells": [
  {
   "cell_type": "markdown",
   "id": "996f5c2d-4222-4387-98d0-d9e3425031c0",
   "metadata": {},
   "source": [
    "#### Part I Experiments"
   ]
  },
  {
   "cell_type": "markdown",
   "id": "50305838-8894-4287-8384-eb5a78caecb9",
   "metadata": {},
   "source": [
    "####  Required Python libraries"
   ]
  },
  {
   "cell_type": "code",
   "execution_count": 1,
   "id": "47a8cea5-cdf8-46c6-a672-dc3fc0ede1d1",
   "metadata": {},
   "outputs": [],
   "source": [
    "import numpy as np\n",
    "import pandas as pd\n",
    "import matplotlib\n",
    "import matplotlib.pyplot as plt\n",
    "import seaborn as sns\n",
    "%matplotlib inline"
   ]
  },
  {
   "cell_type": "code",
   "execution_count": 2,
   "id": "59959e38-c534-4a18-a7bb-c200fe222f7e",
   "metadata": {},
   "outputs": [
    {
     "name": "stdout",
     "output_type": "stream",
     "text": [
      "Requirement already satisfied: ipynb in d:\\x-20a\\anaconda3\\lib\\site-packages (0.5.1)\n"
     ]
    }
   ],
   "source": [
    "# Importing an ipynb file from another ipynb file\n",
    "!pip install ipynb"
   ]
  },
  {
   "cell_type": "code",
   "execution_count": 3,
   "id": "e7d3e0ae-8a5e-4cce-881a-bdfb94860378",
   "metadata": {},
   "outputs": [
    {
     "name": "stdout",
     "output_type": "stream",
     "text": [
      "Requirement already satisfied: nbimporter in d:\\x-20a\\anaconda3\\lib\\site-packages (0.3.4)\n"
     ]
    }
   ],
   "source": [
    "# Importing functions from another jupyter notebook\n",
    "!pip install nbimporter"
   ]
  },
  {
   "cell_type": "code",
   "execution_count": 4,
   "id": "9f7322bf-9acb-4f2b-b8fc-c94746614156",
   "metadata": {},
   "outputs": [
    {
     "name": "stdout",
     "output_type": "stream",
     "text": [
      "Setting global variables...\n"
     ]
    }
   ],
   "source": [
    "%run GlobalConfig.ipynb"
   ]
  },
  {
   "cell_type": "code",
   "execution_count": 5,
   "id": "a40c9795-1795-482e-9499-cca769792ad1",
   "metadata": {},
   "outputs": [
    {
     "name": "stdout",
     "output_type": "stream",
     "text": [
      "init Loader notebook\n"
     ]
    }
   ],
   "source": [
    "import nbimporter\n",
    "import loader_nb\n",
    "\n",
    "loader = loader_nb.Loader_nb()"
   ]
  },
  {
   "cell_type": "code",
   "execution_count": 6,
   "id": "d6e64788-e538-4c21-a48f-f17a283dc1db",
   "metadata": {},
   "outputs": [
    {
     "name": "stdout",
     "output_type": "stream",
     "text": [
      "Help on method load_data in module loader_nb:\n",
      "\n",
      "load_data(url='https://raw.githubusercontent.com/quickheaven/scs-3253-machine-learning/master/datasets/ISCX-URL2016_All.csv') method of loader_nb.Loader_nb instance\n",
      "    (string) --> dataframe\n",
      "    \n",
      "    This function returns the dataframe of maliciours url.    \n",
      "    \n",
      "    Parameters\n",
      "    ----------\n",
      "    url: By default, it fetch the data from github otherwise a local path or url can be provided to load the data frame faster.\n",
      "\n"
     ]
    }
   ],
   "source": [
    "help(loader.load_data)"
   ]
  },
  {
   "cell_type": "code",
   "execution_count": 7,
   "id": "f2df0757-043c-4cdd-af9c-3c359f1d3022",
   "metadata": {},
   "outputs": [
    {
     "name": "stdout",
     "output_type": "stream",
     "text": [
      "Help on method prepare_data in module loader_nb:\n",
      "\n",
      "prepare_data(data, fill_na=True, feature_selection=True) method of loader_nb.Loader_nb instance\n",
      "    (DataFrame, boolean, boolean) --> X and y of the dataframe.\n",
      "    \n",
      "    This function returns the X and y of the malicious url dataframe.\n",
      "    \n",
      "    Parameters\n",
      "    ----------\n",
      "    fill_na : True to fill the na records with mean values otherwise drop the features.\n",
      "    \n",
      "    feature_selection : True to remove one or more features that have a correlation higher than 0.9 othewise do not perform that kind of feature selection.\n",
      "\n"
     ]
    }
   ],
   "source": [
    "help(loader.prepare_data)"
   ]
  },
  {
   "cell_type": "code",
   "execution_count": 8,
   "id": "2f63a371-e6f7-49ad-a089-aa5bededaebf",
   "metadata": {},
   "outputs": [],
   "source": [
    "df = loader.load_data(DATASET_LOCAL_PATH)"
   ]
  },
  {
   "cell_type": "code",
   "execution_count": null,
   "id": "3b5eff10-7751-4d35-a5e8-e1ca51afb89e",
   "metadata": {},
   "outputs": [],
   "source": []
  },
  {
   "cell_type": "markdown",
   "id": "ee168627-285c-4680-8e60-e390f5ca0501",
   "metadata": {},
   "source": [
    "#### Experiment: Find which data preparation setup return better result."
   ]
  },
  {
   "cell_type": "code",
   "execution_count": 9,
   "id": "9d3b47b1-6318-4ed4-b341-0d0026077c5c",
   "metadata": {},
   "outputs": [],
   "source": [
    "from sklearn.model_selection import train_test_split    \n",
    "from sklearn.linear_model import LogisticRegression\n",
    "from sklearn.metrics import accuracy_score\n",
    "from sklearn.ensemble import IsolationForest\n",
    "\n",
    "def eval_data_prep(X, y, anomaly_detection=False): \n",
    "    \n",
    "    X_train, X_test, y_train, y_test = train_test_split(X, y, test_size=0.3, random_state=RANDOM_STATE)\n",
    "    \n",
    "    if (anomaly_detection==True):\n",
    "        iforest = IsolationForest(contamination=0.01, random_state=RANDOM_STATE).fit(X_train)\n",
    "\n",
    "        y_pred_iforest = iforest.predict(X_train)\n",
    "\n",
    "        X_train, y_train = X_train[(y_pred_iforest != -1)], y_train[(y_pred_iforest != -1)]        \n",
    "\n",
    "    lr_clf = LogisticRegression(random_state=RANDOM_STATE, max_iter=1000)\n",
    "\n",
    "    lr_clf.fit(X_train, y_train)\n",
    "\n",
    "    y_pred_lr = lr_clf.predict(X_train)\n",
    "\n",
    "    return accuracy_score(y_train, y_pred_lr)"
   ]
  },
  {
   "cell_type": "code",
   "execution_count": 10,
   "id": "8918a37c-da9e-4c32-94d8-e484ca97c97e",
   "metadata": {},
   "outputs": [
    {
     "name": "stdout",
     "output_type": "stream",
     "text": [
      "(36707, 51)\n",
      "(36707,)\n",
      "0.7777302093874057\n"
     ]
    }
   ],
   "source": [
    "df = loader.load_data(url=DATASET_LOCAL_PATH)\n",
    "X, y = loader.prepare_data(df) # default\n",
    "print(X.shape)\n",
    "print(y.shape)\n",
    "print(eval_data_prep(X, y))"
   ]
  },
  {
   "cell_type": "code",
   "execution_count": 11,
   "id": "216841a6-ea7d-47b5-b3ef-4832b42504ac",
   "metadata": {},
   "outputs": [
    {
     "name": "stdout",
     "output_type": "stream",
     "text": [
      "(36707, 78)\n",
      "(36707,)\n",
      "0.7843465400482603\n"
     ]
    }
   ],
   "source": [
    "df = loader.load_data(url=DATASET_LOCAL_PATH)\n",
    "X, y = loader.prepare_data(df, fill_na=True, feature_selection=False)\n",
    "print(X.shape)\n",
    "print(y.shape)\n",
    "print(eval_data_prep(X, y))"
   ]
  },
  {
   "cell_type": "code",
   "execution_count": 12,
   "id": "60590329-e59d-42ff-8f1e-0cb8eb76e650",
   "metadata": {},
   "outputs": [
    {
     "name": "stdout",
     "output_type": "stream",
     "text": [
      "(18982, 49)\n",
      "(18982,)\n",
      "0.8029653044329044\n"
     ]
    }
   ],
   "source": [
    "df = loader.load_data(url=DATASET_LOCAL_PATH)\n",
    "X, y = loader.prepare_data(df, fill_na=False, feature_selection=True)\n",
    "print(X.shape)\n",
    "print(y.shape)\n",
    "print(eval_data_prep(X, y))"
   ]
  },
  {
   "cell_type": "code",
   "execution_count": 13,
   "id": "9f524d7e-3300-46fa-b2e6-02cf037bda18",
   "metadata": {},
   "outputs": [
    {
     "name": "stdout",
     "output_type": "stream",
     "text": [
      "(18982, 78)\n",
      "(18982,)\n",
      "0.8154587190486942\n"
     ]
    }
   ],
   "source": [
    "df = loader.load_data(url=DATASET_LOCAL_PATH)\n",
    "X, y = loader.prepare_data(df, fill_na=False, feature_selection=False)\n",
    "print(X.shape)\n",
    "print(y.shape)\n",
    "print(eval_data_prep(X, y))"
   ]
  },
  {
   "cell_type": "markdown",
   "id": "38316319-bea8-4bf3-b4b1-4fc062d61bf0",
   "metadata": {},
   "source": [
    "#### Experiment: Unsupervised Anomaly Detection"
   ]
  },
  {
   "cell_type": "code",
   "execution_count": 14,
   "id": "2128d399-4292-407c-9060-4e481fc54a4c",
   "metadata": {},
   "outputs": [
    {
     "name": "stdout",
     "output_type": "stream",
     "text": [
      "(36707, 51)\n",
      "(36707,)\n",
      "0.7774501710107324\n"
     ]
    }
   ],
   "source": [
    "df = loader.load_data(url=DATASET_LOCAL_PATH)\n",
    "X, y = loader.prepare_data(df) # default\n",
    "print(X.shape)\n",
    "print(y.shape)\n",
    "print(eval_data_prep(X, y, anomaly_detection=True))"
   ]
  },
  {
   "cell_type": "code",
   "execution_count": 15,
   "id": "f9cde3ea-342a-4c9b-8f07-79353f1ac952",
   "metadata": {},
   "outputs": [
    {
     "name": "stdout",
     "output_type": "stream",
     "text": [
      "(36707, 78)\n",
      "(36707,)\n",
      "0.7822942055193018\n"
     ]
    }
   ],
   "source": [
    "df = loader.load_data(url=DATASET_LOCAL_PATH)\n",
    "X, y = loader.prepare_data(df, fill_na=True, feature_selection=False)\n",
    "print(X.shape)\n",
    "print(y.shape)\n",
    "print(eval_data_prep(X, y, anomaly_detection=True))"
   ]
  },
  {
   "cell_type": "code",
   "execution_count": 16,
   "id": "8b68a493-7fd0-41ff-9fc7-fe1430ec9ead",
   "metadata": {},
   "outputs": [
    {
     "name": "stdout",
     "output_type": "stream",
     "text": [
      "(18982, 49)\n",
      "(18982,)\n",
      "0.8029646522234891\n"
     ]
    }
   ],
   "source": [
    "df = loader.load_data(url=DATASET_LOCAL_PATH)\n",
    "X, y = loader.prepare_data(df, fill_na=False, feature_selection=True)\n",
    "print(X.shape)\n",
    "print(y.shape)\n",
    "print(eval_data_prep(X, y, anomaly_detection=True))"
   ]
  },
  {
   "cell_type": "code",
   "execution_count": 17,
   "id": "8cadd345-6782-436a-a92c-66ee94d8dd70",
   "metadata": {},
   "outputs": [
    {
     "name": "stdout",
     "output_type": "stream",
     "text": [
      "(18982, 78)\n",
      "(18982,)\n",
      "0.8137448684810704\n"
     ]
    }
   ],
   "source": [
    "df = loader.load_data(url=DATASET_LOCAL_PATH)\n",
    "X, y = loader.prepare_data(df, fill_na=False, feature_selection=False)\n",
    "print(X.shape)\n",
    "print(y.shape)\n",
    "print(eval_data_prep(X, y, anomaly_detection=True))"
   ]
  },
  {
   "cell_type": "code",
   "execution_count": null,
   "id": "931bd333-5e76-4562-9644-10add110eac1",
   "metadata": {},
   "outputs": [],
   "source": []
  },
  {
   "cell_type": "code",
   "execution_count": null,
   "id": "652f7e94-b304-4eea-8455-770fef165e03",
   "metadata": {},
   "outputs": [],
   "source": []
  }
 ],
 "metadata": {
  "kernelspec": {
   "display_name": "Python 3",
   "language": "python",
   "name": "python3"
  },
  "language_info": {
   "codemirror_mode": {
    "name": "ipython",
    "version": 3
   },
   "file_extension": ".py",
   "mimetype": "text/x-python",
   "name": "python",
   "nbconvert_exporter": "python",
   "pygments_lexer": "ipython3",
   "version": "3.8.8"
  }
 },
 "nbformat": 4,
 "nbformat_minor": 5
}
